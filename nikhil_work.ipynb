{
 "cells": [
  {
   "cell_type": "code",
   "execution_count": 118,
   "id": "28efcbe9",
   "metadata": {},
   "outputs": [],
   "source": [
    "from selenium import webdriver\n",
    "from selenium.webdriver.common.by import By\n",
    "from selenium.webdriver.support.ui import WebDriverWait\n",
    "import time\n",
    "from selenium.webdriver.support import expected_conditions as EC\n",
    "from selenium.webdriver.common.action_chains import ActionChains\n",
    "from selenium.webdriver.common.keys import Keys\n",
    "import string\n",
    "import random\n",
    "import nltk"
   ]
  },
  {
   "cell_type": "code",
   "execution_count": 119,
   "id": "e3b02060",
   "metadata": {},
   "outputs": [],
   "source": [
    "url1 = \"https://www.flipkart.com/redmi-note-13-pro-5g-fusion-purple-256-gb/product-reviews/itmb1aa74d7307e2?pid=MOBGWFHFMH3FAA39&lid=LSTMOBGWFHFMH3FAA394L4TS5&marketplace=FLIPKART\""
   ]
  },
  {
   "cell_type": "code",
   "execution_count": 120,
   "id": "59886786",
   "metadata": {},
   "outputs": [],
   "source": [
    "driver=webdriver.Chrome()\n",
    "driver.get(url1)"
   ]
  },
  {
   "cell_type": "code",
   "execution_count": 121,
   "id": "12b945d3",
   "metadata": {},
   "outputs": [],
   "source": [
    "wait = WebDriverWait(driver, 10)"
   ]
  },
  {
   "cell_type": "code",
   "execution_count": 122,
   "id": "08b7f018",
   "metadata": {},
   "outputs": [],
   "source": [
    "reviews_list = []"
   ]
  },
  {
   "cell_type": "code",
   "execution_count": 127,
   "id": "60f17934",
   "metadata": {},
   "outputs": [],
   "source": [
    "for i in range(3,13):\n",
    "    xpath = f'//*[@id=\"container\"]/div/div[3]/div/div/div[2]/div[{i}]/div/div/div/div[2]/div/div/div'\n",
    "    element = wait.until(EC.presence_of_element_located((By.XPATH,xpath)))\n",
    "\n",
    "    # Extract the text content\n",
    "    text = element.text\n",
    "\n",
    "    reviews_list.append(text)"
   ]
  },
  {
   "cell_type": "code",
   "execution_count": 128,
   "id": "d1cd2dbf",
   "metadata": {},
   "outputs": [
    {
     "data": {
      "text/plain": [
       "20"
      ]
     },
     "execution_count": 128,
     "metadata": {},
     "output_type": "execute_result"
    }
   ],
   "source": [
    "len(reviews_list)"
   ]
  },
  {
   "cell_type": "code",
   "execution_count": 129,
   "id": "833d7a54",
   "metadata": {},
   "outputs": [
    {
     "data": {
      "text/plain": [
       "[\"After About 10 Days Of Use , I'll Give My Honest Review Is there ,\\n\\nPrice-A Little Bit Higher Side, Should be 2000-3000 Cheaper Than The Actual Price.\\n\\nCAMERA- Quality Is Not Good As Expected, Not A Good Experience With The Front Camera .\\n\\nDesign- Unique, Looks Amazing Design, Feels Like a Premium Class Gadgets.\\n\\nPerformance- Smooth And Feather Touch Display, Notification Indication Light Feels You amaze\\n\\nBattery- Heating Issues Which Are Generally Common With Heavy Batteries, But With Sta...\",\n",
       " 'Superb phone and camera quality. I like it.',\n",
       " 'The design of the phone is very unique, curve shape giving it best contribution to design.\\nCamera quality is good, charging is as promised in 19 minutes with 100%.\\nWith the feature of IP68 right now the phone is working well after I put in water, Let see how it perform in future.',\n",
       " 'Very nice mobile full waterproof and gorilla glass I like it',\n",
       " 'I am very happy I like this phone thank you mi thank you so much\\nVery nice zoom 10x',\n",
       " 'Looks impressive 👍',\n",
       " 'Sach a nice phone....I love it😍😍',\n",
       " 'Good',\n",
       " 'Phone is good but too much price redmi for this redmi product',\n",
       " \"Disappointed with battery and it's draining quickly.\",\n",
       " 'Just an honest review..\\nLooks Premium\\nScreen is good\\nThe back camera is good. Front could have been better.\\nPerformance is good.\\nBattery drains fast.\\nYou can use 5-6 hours scrolling the internet and stuff. Should have been better.',\n",
       " 'very good',\n",
       " 'Used 2 days review.... Nice experience... Camera, battery, display is mostly awesome... And also performance...',\n",
       " 'Good display good camera overall nice phone',\n",
       " 'Good work Redmi love it...',\n",
       " \"If u r buy this phone for camera quality pls don't go for it\",\n",
       " \"VERY POOR BATTERY BACKUP ..... IT'S DRAIN FAST.... Disappointed😞\",\n",
       " 'MOBILE VERY GOOD......\\nBUT HEATTING ISSUE.......',\n",
       " 'good product but no screen guard apply',\n",
       " \"It's feels like a premium phone but.... Actually pricing is not good this time\"]"
      ]
     },
     "execution_count": 129,
     "metadata": {},
     "output_type": "execute_result"
    }
   ],
   "source": [
    "reviews_list"
   ]
  },
  {
   "cell_type": "code",
   "execution_count": 75,
   "id": "d03b5e16",
   "metadata": {},
   "outputs": [],
   "source": [
    "driver.close()"
   ]
  },
  {
   "cell_type": "code",
   "execution_count": null,
   "id": "34fe8cb5",
   "metadata": {},
   "outputs": [],
   "source": []
  }
 ],
 "metadata": {
  "kernelspec": {
   "display_name": "Python 3 (ipykernel)",
   "language": "python",
   "name": "python3"
  },
  "language_info": {
   "codemirror_mode": {
    "name": "ipython",
    "version": 3
   },
   "file_extension": ".py",
   "mimetype": "text/x-python",
   "name": "python",
   "nbconvert_exporter": "python",
   "pygments_lexer": "ipython3",
   "version": "3.11.5"
  }
 },
 "nbformat": 4,
 "nbformat_minor": 5
}
