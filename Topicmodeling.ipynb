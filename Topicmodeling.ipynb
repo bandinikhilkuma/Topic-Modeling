{
 "cells": [
  {
   "cell_type": "code",
   "execution_count": 1,
   "metadata": {
    "colab": {
     "base_uri": "https://localhost:8080/"
    },
    "id": "D9mmThXlr9Fs",
    "outputId": "9d2f01e8-3b7f-4b8d-b86f-ede415d0d8a3"
   },
   "outputs": [
    {
     "name": "stderr",
     "output_type": "stream",
     "text": [
      "[nltk_data] Downloading package punkt to /root/nltk_data...\n",
      "[nltk_data]   Package punkt is already up-to-date!\n",
      "[nltk_data] Downloading package stopwords to /root/nltk_data...\n",
      "[nltk_data]   Package stopwords is already up-to-date!\n",
      "[nltk_data] Downloading package wordnet to /root/nltk_data...\n",
      "[nltk_data]   Package wordnet is already up-to-date!\n"
     ]
    },
    {
     "data": {
      "text/plain": [
       "True"
      ]
     },
     "execution_count": 1,
     "metadata": {},
     "output_type": "execute_result"
    }
   ],
   "source": [
    "import pandas as pd\n",
    "import numpy as np\n",
    "import gensim\n",
    "import nltk\n",
    "from gensim import corpora\n",
    "from nltk.corpus import stopwords\n",
    "from nltk.tokenize import word_tokenize\n",
    "from nltk.stem import WordNetLemmatizer\n",
    "\n",
    "# Download NLTK data files\n",
    "nltk.download('punkt')\n",
    "nltk.download('stopwords')\n",
    "nltk.download('wordnet')"
   ]
  },
  {
   "cell_type": "code",
   "execution_count": 2,
   "metadata": {
    "colab": {
     "base_uri": "https://localhost:8080/",
     "height": 206
    },
    "id": "9kicaobbr8uP",
    "outputId": "4fca9293-8a69-4017-96b3-059a455d753b"
   },
   "outputs": [
    {
     "data": {
      "application/vnd.google.colaboratory.intrinsic+json": {
       "summary": "{\n  \"name\": \"df\",\n  \"rows\": 352,\n  \"fields\": [\n    {\n      \"column\": \"Unnamed: 0\",\n      \"properties\": {\n        \"dtype\": \"number\",\n        \"std\": 101,\n        \"min\": 0,\n        \"max\": 351,\n        \"num_unique_values\": 352,\n        \"samples\": [\n          228,\n          116,\n          55\n        ],\n        \"semantic_type\": \"\",\n        \"description\": \"\"\n      }\n    },\n    {\n      \"column\": \"0\",\n      \"properties\": {\n        \"dtype\": \"string\",\n        \"num_unique_values\": 326,\n        \"samples\": [\n          \"This is the value for money phone.\\n\\nFor Flipkart:\\nOn time delievery\\nAlways best service\\nFeedback call received after 5 days\\n\\nApple:\\nOne word: Superb\\nPicture Quality Ultimate\",\n          \"Good camera good zooming\",\n          \"Excellent.. Product \\u2764\"\n        ],\n        \"semantic_type\": \"\",\n        \"description\": \"\"\n      }\n    }\n  ]\n}",
       "type": "dataframe",
       "variable_name": "df"
      },
      "text/html": [
       "\n",
       "  <div id=\"df-a97513cd-db69-4be0-8454-2f801cf238a3\" class=\"colab-df-container\">\n",
       "    <div>\n",
       "<style scoped>\n",
       "    .dataframe tbody tr th:only-of-type {\n",
       "        vertical-align: middle;\n",
       "    }\n",
       "\n",
       "    .dataframe tbody tr th {\n",
       "        vertical-align: top;\n",
       "    }\n",
       "\n",
       "    .dataframe thead th {\n",
       "        text-align: right;\n",
       "    }\n",
       "</style>\n",
       "<table border=\"1\" class=\"dataframe\">\n",
       "  <thead>\n",
       "    <tr style=\"text-align: right;\">\n",
       "      <th></th>\n",
       "      <th>Unnamed: 0</th>\n",
       "      <th>0</th>\n",
       "    </tr>\n",
       "  </thead>\n",
       "  <tbody>\n",
       "    <tr>\n",
       "      <th>0</th>\n",
       "      <td>0</td>\n",
       "      <td>After About 10 Days Of Use , I'll Give My Hone...</td>\n",
       "    </tr>\n",
       "    <tr>\n",
       "      <th>1</th>\n",
       "      <td>1</td>\n",
       "      <td>Superb phone and camera quality. I like it.</td>\n",
       "    </tr>\n",
       "    <tr>\n",
       "      <th>2</th>\n",
       "      <td>2</td>\n",
       "      <td>The design of the phone is very unique, curve ...</td>\n",
       "    </tr>\n",
       "    <tr>\n",
       "      <th>3</th>\n",
       "      <td>3</td>\n",
       "      <td>Very nice mobile full waterproof and gorilla g...</td>\n",
       "    </tr>\n",
       "    <tr>\n",
       "      <th>4</th>\n",
       "      <td>4</td>\n",
       "      <td>I am very happy I like this phone thank you mi...</td>\n",
       "    </tr>\n",
       "  </tbody>\n",
       "</table>\n",
       "</div>\n",
       "    <div class=\"colab-df-buttons\">\n",
       "\n",
       "  <div class=\"colab-df-container\">\n",
       "    <button class=\"colab-df-convert\" onclick=\"convertToInteractive('df-a97513cd-db69-4be0-8454-2f801cf238a3')\"\n",
       "            title=\"Convert this dataframe to an interactive table.\"\n",
       "            style=\"display:none;\">\n",
       "\n",
       "  <svg xmlns=\"http://www.w3.org/2000/svg\" height=\"24px\" viewBox=\"0 -960 960 960\">\n",
       "    <path d=\"M120-120v-720h720v720H120Zm60-500h600v-160H180v160Zm220 220h160v-160H400v160Zm0 220h160v-160H400v160ZM180-400h160v-160H180v160Zm440 0h160v-160H620v160ZM180-180h160v-160H180v160Zm440 0h160v-160H620v160Z\"/>\n",
       "  </svg>\n",
       "    </button>\n",
       "\n",
       "  <style>\n",
       "    .colab-df-container {\n",
       "      display:flex;\n",
       "      gap: 12px;\n",
       "    }\n",
       "\n",
       "    .colab-df-convert {\n",
       "      background-color: #E8F0FE;\n",
       "      border: none;\n",
       "      border-radius: 50%;\n",
       "      cursor: pointer;\n",
       "      display: none;\n",
       "      fill: #1967D2;\n",
       "      height: 32px;\n",
       "      padding: 0 0 0 0;\n",
       "      width: 32px;\n",
       "    }\n",
       "\n",
       "    .colab-df-convert:hover {\n",
       "      background-color: #E2EBFA;\n",
       "      box-shadow: 0px 1px 2px rgba(60, 64, 67, 0.3), 0px 1px 3px 1px rgba(60, 64, 67, 0.15);\n",
       "      fill: #174EA6;\n",
       "    }\n",
       "\n",
       "    .colab-df-buttons div {\n",
       "      margin-bottom: 4px;\n",
       "    }\n",
       "\n",
       "    [theme=dark] .colab-df-convert {\n",
       "      background-color: #3B4455;\n",
       "      fill: #D2E3FC;\n",
       "    }\n",
       "\n",
       "    [theme=dark] .colab-df-convert:hover {\n",
       "      background-color: #434B5C;\n",
       "      box-shadow: 0px 1px 3px 1px rgba(0, 0, 0, 0.15);\n",
       "      filter: drop-shadow(0px 1px 2px rgba(0, 0, 0, 0.3));\n",
       "      fill: #FFFFFF;\n",
       "    }\n",
       "  </style>\n",
       "\n",
       "    <script>\n",
       "      const buttonEl =\n",
       "        document.querySelector('#df-a97513cd-db69-4be0-8454-2f801cf238a3 button.colab-df-convert');\n",
       "      buttonEl.style.display =\n",
       "        google.colab.kernel.accessAllowed ? 'block' : 'none';\n",
       "\n",
       "      async function convertToInteractive(key) {\n",
       "        const element = document.querySelector('#df-a97513cd-db69-4be0-8454-2f801cf238a3');\n",
       "        const dataTable =\n",
       "          await google.colab.kernel.invokeFunction('convertToInteractive',\n",
       "                                                    [key], {});\n",
       "        if (!dataTable) return;\n",
       "\n",
       "        const docLinkHtml = 'Like what you see? Visit the ' +\n",
       "          '<a target=\"_blank\" href=https://colab.research.google.com/notebooks/data_table.ipynb>data table notebook</a>'\n",
       "          + ' to learn more about interactive tables.';\n",
       "        element.innerHTML = '';\n",
       "        dataTable['output_type'] = 'display_data';\n",
       "        await google.colab.output.renderOutput(dataTable, element);\n",
       "        const docLink = document.createElement('div');\n",
       "        docLink.innerHTML = docLinkHtml;\n",
       "        element.appendChild(docLink);\n",
       "      }\n",
       "    </script>\n",
       "  </div>\n",
       "\n",
       "\n",
       "<div id=\"df-c3772f26-bde4-4ca4-972f-3b117560d5fa\">\n",
       "  <button class=\"colab-df-quickchart\" onclick=\"quickchart('df-c3772f26-bde4-4ca4-972f-3b117560d5fa')\"\n",
       "            title=\"Suggest charts\"\n",
       "            style=\"display:none;\">\n",
       "\n",
       "<svg xmlns=\"http://www.w3.org/2000/svg\" height=\"24px\"viewBox=\"0 0 24 24\"\n",
       "     width=\"24px\">\n",
       "    <g>\n",
       "        <path d=\"M19 3H5c-1.1 0-2 .9-2 2v14c0 1.1.9 2 2 2h14c1.1 0 2-.9 2-2V5c0-1.1-.9-2-2-2zM9 17H7v-7h2v7zm4 0h-2V7h2v10zm4 0h-2v-4h2v4z\"/>\n",
       "    </g>\n",
       "</svg>\n",
       "  </button>\n",
       "\n",
       "<style>\n",
       "  .colab-df-quickchart {\n",
       "      --bg-color: #E8F0FE;\n",
       "      --fill-color: #1967D2;\n",
       "      --hover-bg-color: #E2EBFA;\n",
       "      --hover-fill-color: #174EA6;\n",
       "      --disabled-fill-color: #AAA;\n",
       "      --disabled-bg-color: #DDD;\n",
       "  }\n",
       "\n",
       "  [theme=dark] .colab-df-quickchart {\n",
       "      --bg-color: #3B4455;\n",
       "      --fill-color: #D2E3FC;\n",
       "      --hover-bg-color: #434B5C;\n",
       "      --hover-fill-color: #FFFFFF;\n",
       "      --disabled-bg-color: #3B4455;\n",
       "      --disabled-fill-color: #666;\n",
       "  }\n",
       "\n",
       "  .colab-df-quickchart {\n",
       "    background-color: var(--bg-color);\n",
       "    border: none;\n",
       "    border-radius: 50%;\n",
       "    cursor: pointer;\n",
       "    display: none;\n",
       "    fill: var(--fill-color);\n",
       "    height: 32px;\n",
       "    padding: 0;\n",
       "    width: 32px;\n",
       "  }\n",
       "\n",
       "  .colab-df-quickchart:hover {\n",
       "    background-color: var(--hover-bg-color);\n",
       "    box-shadow: 0 1px 2px rgba(60, 64, 67, 0.3), 0 1px 3px 1px rgba(60, 64, 67, 0.15);\n",
       "    fill: var(--button-hover-fill-color);\n",
       "  }\n",
       "\n",
       "  .colab-df-quickchart-complete:disabled,\n",
       "  .colab-df-quickchart-complete:disabled:hover {\n",
       "    background-color: var(--disabled-bg-color);\n",
       "    fill: var(--disabled-fill-color);\n",
       "    box-shadow: none;\n",
       "  }\n",
       "\n",
       "  .colab-df-spinner {\n",
       "    border: 2px solid var(--fill-color);\n",
       "    border-color: transparent;\n",
       "    border-bottom-color: var(--fill-color);\n",
       "    animation:\n",
       "      spin 1s steps(1) infinite;\n",
       "  }\n",
       "\n",
       "  @keyframes spin {\n",
       "    0% {\n",
       "      border-color: transparent;\n",
       "      border-bottom-color: var(--fill-color);\n",
       "      border-left-color: var(--fill-color);\n",
       "    }\n",
       "    20% {\n",
       "      border-color: transparent;\n",
       "      border-left-color: var(--fill-color);\n",
       "      border-top-color: var(--fill-color);\n",
       "    }\n",
       "    30% {\n",
       "      border-color: transparent;\n",
       "      border-left-color: var(--fill-color);\n",
       "      border-top-color: var(--fill-color);\n",
       "      border-right-color: var(--fill-color);\n",
       "    }\n",
       "    40% {\n",
       "      border-color: transparent;\n",
       "      border-right-color: var(--fill-color);\n",
       "      border-top-color: var(--fill-color);\n",
       "    }\n",
       "    60% {\n",
       "      border-color: transparent;\n",
       "      border-right-color: var(--fill-color);\n",
       "    }\n",
       "    80% {\n",
       "      border-color: transparent;\n",
       "      border-right-color: var(--fill-color);\n",
       "      border-bottom-color: var(--fill-color);\n",
       "    }\n",
       "    90% {\n",
       "      border-color: transparent;\n",
       "      border-bottom-color: var(--fill-color);\n",
       "    }\n",
       "  }\n",
       "</style>\n",
       "\n",
       "  <script>\n",
       "    async function quickchart(key) {\n",
       "      const quickchartButtonEl =\n",
       "        document.querySelector('#' + key + ' button');\n",
       "      quickchartButtonEl.disabled = true;  // To prevent multiple clicks.\n",
       "      quickchartButtonEl.classList.add('colab-df-spinner');\n",
       "      try {\n",
       "        const charts = await google.colab.kernel.invokeFunction(\n",
       "            'suggestCharts', [key], {});\n",
       "      } catch (error) {\n",
       "        console.error('Error during call to suggestCharts:', error);\n",
       "      }\n",
       "      quickchartButtonEl.classList.remove('colab-df-spinner');\n",
       "      quickchartButtonEl.classList.add('colab-df-quickchart-complete');\n",
       "    }\n",
       "    (() => {\n",
       "      let quickchartButtonEl =\n",
       "        document.querySelector('#df-c3772f26-bde4-4ca4-972f-3b117560d5fa button');\n",
       "      quickchartButtonEl.style.display =\n",
       "        google.colab.kernel.accessAllowed ? 'block' : 'none';\n",
       "    })();\n",
       "  </script>\n",
       "</div>\n",
       "\n",
       "    </div>\n",
       "  </div>\n"
      ],
      "text/plain": [
       "   Unnamed: 0                                                  0\n",
       "0           0  After About 10 Days Of Use , I'll Give My Hone...\n",
       "1           1        Superb phone and camera quality. I like it.\n",
       "2           2  The design of the phone is very unique, curve ...\n",
       "3           3  Very nice mobile full waterproof and gorilla g...\n",
       "4           4  I am very happy I like this phone thank you mi..."
      ]
     },
     "execution_count": 2,
     "metadata": {},
     "output_type": "execute_result"
    }
   ],
   "source": [
    "df = pd.read_csv('reviews.csv')\n",
    "df.head()"
   ]
  },
  {
   "cell_type": "code",
   "execution_count": 3,
   "metadata": {
    "id": "KHU8iBDJif8I"
   },
   "outputs": [],
   "source": [
    "df.drop(['Unnamed: 0'], axis=1, inplace=True)"
   ]
  },
  {
   "cell_type": "code",
   "execution_count": 4,
   "metadata": {
    "id": "LooCTltzjGzs"
   },
   "outputs": [],
   "source": [
    "\n",
    "df.rename(columns={'0': 'Reviews'}, inplace=True) #replace with actual names\n"
   ]
  },
  {
   "cell_type": "code",
   "execution_count": 5,
   "metadata": {
    "colab": {
     "base_uri": "https://localhost:8080/",
     "height": 206
    },
    "id": "bQ0miVGGjdNT",
    "outputId": "8e0b39b6-9f2e-4390-bf97-49654e76945f"
   },
   "outputs": [
    {
     "data": {
      "application/vnd.google.colaboratory.intrinsic+json": {
       "summary": "{\n  \"name\": \"df\",\n  \"rows\": 352,\n  \"fields\": [\n    {\n      \"column\": \"Reviews\",\n      \"properties\": {\n        \"dtype\": \"string\",\n        \"num_unique_values\": 326,\n        \"samples\": [\n          \"This is the value for money phone.\\n\\nFor Flipkart:\\nOn time delievery\\nAlways best service\\nFeedback call received after 5 days\\n\\nApple:\\nOne word: Superb\\nPicture Quality Ultimate\",\n          \"Good camera good zooming\",\n          \"Excellent.. Product \\u2764\"\n        ],\n        \"semantic_type\": \"\",\n        \"description\": \"\"\n      }\n    }\n  ]\n}",
       "type": "dataframe",
       "variable_name": "df"
      },
      "text/html": [
       "\n",
       "  <div id=\"df-ec94732e-90b0-4b8d-841e-42294bbfe37a\" class=\"colab-df-container\">\n",
       "    <div>\n",
       "<style scoped>\n",
       "    .dataframe tbody tr th:only-of-type {\n",
       "        vertical-align: middle;\n",
       "    }\n",
       "\n",
       "    .dataframe tbody tr th {\n",
       "        vertical-align: top;\n",
       "    }\n",
       "\n",
       "    .dataframe thead th {\n",
       "        text-align: right;\n",
       "    }\n",
       "</style>\n",
       "<table border=\"1\" class=\"dataframe\">\n",
       "  <thead>\n",
       "    <tr style=\"text-align: right;\">\n",
       "      <th></th>\n",
       "      <th>Reviews</th>\n",
       "    </tr>\n",
       "  </thead>\n",
       "  <tbody>\n",
       "    <tr>\n",
       "      <th>0</th>\n",
       "      <td>After About 10 Days Of Use , I'll Give My Hone...</td>\n",
       "    </tr>\n",
       "    <tr>\n",
       "      <th>1</th>\n",
       "      <td>Superb phone and camera quality. I like it.</td>\n",
       "    </tr>\n",
       "    <tr>\n",
       "      <th>2</th>\n",
       "      <td>The design of the phone is very unique, curve ...</td>\n",
       "    </tr>\n",
       "    <tr>\n",
       "      <th>3</th>\n",
       "      <td>Very nice mobile full waterproof and gorilla g...</td>\n",
       "    </tr>\n",
       "    <tr>\n",
       "      <th>4</th>\n",
       "      <td>I am very happy I like this phone thank you mi...</td>\n",
       "    </tr>\n",
       "  </tbody>\n",
       "</table>\n",
       "</div>\n",
       "    <div class=\"colab-df-buttons\">\n",
       "\n",
       "  <div class=\"colab-df-container\">\n",
       "    <button class=\"colab-df-convert\" onclick=\"convertToInteractive('df-ec94732e-90b0-4b8d-841e-42294bbfe37a')\"\n",
       "            title=\"Convert this dataframe to an interactive table.\"\n",
       "            style=\"display:none;\">\n",
       "\n",
       "  <svg xmlns=\"http://www.w3.org/2000/svg\" height=\"24px\" viewBox=\"0 -960 960 960\">\n",
       "    <path d=\"M120-120v-720h720v720H120Zm60-500h600v-160H180v160Zm220 220h160v-160H400v160Zm0 220h160v-160H400v160ZM180-400h160v-160H180v160Zm440 0h160v-160H620v160ZM180-180h160v-160H180v160Zm440 0h160v-160H620v160Z\"/>\n",
       "  </svg>\n",
       "    </button>\n",
       "\n",
       "  <style>\n",
       "    .colab-df-container {\n",
       "      display:flex;\n",
       "      gap: 12px;\n",
       "    }\n",
       "\n",
       "    .colab-df-convert {\n",
       "      background-color: #E8F0FE;\n",
       "      border: none;\n",
       "      border-radius: 50%;\n",
       "      cursor: pointer;\n",
       "      display: none;\n",
       "      fill: #1967D2;\n",
       "      height: 32px;\n",
       "      padding: 0 0 0 0;\n",
       "      width: 32px;\n",
       "    }\n",
       "\n",
       "    .colab-df-convert:hover {\n",
       "      background-color: #E2EBFA;\n",
       "      box-shadow: 0px 1px 2px rgba(60, 64, 67, 0.3), 0px 1px 3px 1px rgba(60, 64, 67, 0.15);\n",
       "      fill: #174EA6;\n",
       "    }\n",
       "\n",
       "    .colab-df-buttons div {\n",
       "      margin-bottom: 4px;\n",
       "    }\n",
       "\n",
       "    [theme=dark] .colab-df-convert {\n",
       "      background-color: #3B4455;\n",
       "      fill: #D2E3FC;\n",
       "    }\n",
       "\n",
       "    [theme=dark] .colab-df-convert:hover {\n",
       "      background-color: #434B5C;\n",
       "      box-shadow: 0px 1px 3px 1px rgba(0, 0, 0, 0.15);\n",
       "      filter: drop-shadow(0px 1px 2px rgba(0, 0, 0, 0.3));\n",
       "      fill: #FFFFFF;\n",
       "    }\n",
       "  </style>\n",
       "\n",
       "    <script>\n",
       "      const buttonEl =\n",
       "        document.querySelector('#df-ec94732e-90b0-4b8d-841e-42294bbfe37a button.colab-df-convert');\n",
       "      buttonEl.style.display =\n",
       "        google.colab.kernel.accessAllowed ? 'block' : 'none';\n",
       "\n",
       "      async function convertToInteractive(key) {\n",
       "        const element = document.querySelector('#df-ec94732e-90b0-4b8d-841e-42294bbfe37a');\n",
       "        const dataTable =\n",
       "          await google.colab.kernel.invokeFunction('convertToInteractive',\n",
       "                                                    [key], {});\n",
       "        if (!dataTable) return;\n",
       "\n",
       "        const docLinkHtml = 'Like what you see? Visit the ' +\n",
       "          '<a target=\"_blank\" href=https://colab.research.google.com/notebooks/data_table.ipynb>data table notebook</a>'\n",
       "          + ' to learn more about interactive tables.';\n",
       "        element.innerHTML = '';\n",
       "        dataTable['output_type'] = 'display_data';\n",
       "        await google.colab.output.renderOutput(dataTable, element);\n",
       "        const docLink = document.createElement('div');\n",
       "        docLink.innerHTML = docLinkHtml;\n",
       "        element.appendChild(docLink);\n",
       "      }\n",
       "    </script>\n",
       "  </div>\n",
       "\n",
       "\n",
       "<div id=\"df-18bc6074-3bd0-4756-9f55-d3a792c976cb\">\n",
       "  <button class=\"colab-df-quickchart\" onclick=\"quickchart('df-18bc6074-3bd0-4756-9f55-d3a792c976cb')\"\n",
       "            title=\"Suggest charts\"\n",
       "            style=\"display:none;\">\n",
       "\n",
       "<svg xmlns=\"http://www.w3.org/2000/svg\" height=\"24px\"viewBox=\"0 0 24 24\"\n",
       "     width=\"24px\">\n",
       "    <g>\n",
       "        <path d=\"M19 3H5c-1.1 0-2 .9-2 2v14c0 1.1.9 2 2 2h14c1.1 0 2-.9 2-2V5c0-1.1-.9-2-2-2zM9 17H7v-7h2v7zm4 0h-2V7h2v10zm4 0h-2v-4h2v4z\"/>\n",
       "    </g>\n",
       "</svg>\n",
       "  </button>\n",
       "\n",
       "<style>\n",
       "  .colab-df-quickchart {\n",
       "      --bg-color: #E8F0FE;\n",
       "      --fill-color: #1967D2;\n",
       "      --hover-bg-color: #E2EBFA;\n",
       "      --hover-fill-color: #174EA6;\n",
       "      --disabled-fill-color: #AAA;\n",
       "      --disabled-bg-color: #DDD;\n",
       "  }\n",
       "\n",
       "  [theme=dark] .colab-df-quickchart {\n",
       "      --bg-color: #3B4455;\n",
       "      --fill-color: #D2E3FC;\n",
       "      --hover-bg-color: #434B5C;\n",
       "      --hover-fill-color: #FFFFFF;\n",
       "      --disabled-bg-color: #3B4455;\n",
       "      --disabled-fill-color: #666;\n",
       "  }\n",
       "\n",
       "  .colab-df-quickchart {\n",
       "    background-color: var(--bg-color);\n",
       "    border: none;\n",
       "    border-radius: 50%;\n",
       "    cursor: pointer;\n",
       "    display: none;\n",
       "    fill: var(--fill-color);\n",
       "    height: 32px;\n",
       "    padding: 0;\n",
       "    width: 32px;\n",
       "  }\n",
       "\n",
       "  .colab-df-quickchart:hover {\n",
       "    background-color: var(--hover-bg-color);\n",
       "    box-shadow: 0 1px 2px rgba(60, 64, 67, 0.3), 0 1px 3px 1px rgba(60, 64, 67, 0.15);\n",
       "    fill: var(--button-hover-fill-color);\n",
       "  }\n",
       "\n",
       "  .colab-df-quickchart-complete:disabled,\n",
       "  .colab-df-quickchart-complete:disabled:hover {\n",
       "    background-color: var(--disabled-bg-color);\n",
       "    fill: var(--disabled-fill-color);\n",
       "    box-shadow: none;\n",
       "  }\n",
       "\n",
       "  .colab-df-spinner {\n",
       "    border: 2px solid var(--fill-color);\n",
       "    border-color: transparent;\n",
       "    border-bottom-color: var(--fill-color);\n",
       "    animation:\n",
       "      spin 1s steps(1) infinite;\n",
       "  }\n",
       "\n",
       "  @keyframes spin {\n",
       "    0% {\n",
       "      border-color: transparent;\n",
       "      border-bottom-color: var(--fill-color);\n",
       "      border-left-color: var(--fill-color);\n",
       "    }\n",
       "    20% {\n",
       "      border-color: transparent;\n",
       "      border-left-color: var(--fill-color);\n",
       "      border-top-color: var(--fill-color);\n",
       "    }\n",
       "    30% {\n",
       "      border-color: transparent;\n",
       "      border-left-color: var(--fill-color);\n",
       "      border-top-color: var(--fill-color);\n",
       "      border-right-color: var(--fill-color);\n",
       "    }\n",
       "    40% {\n",
       "      border-color: transparent;\n",
       "      border-right-color: var(--fill-color);\n",
       "      border-top-color: var(--fill-color);\n",
       "    }\n",
       "    60% {\n",
       "      border-color: transparent;\n",
       "      border-right-color: var(--fill-color);\n",
       "    }\n",
       "    80% {\n",
       "      border-color: transparent;\n",
       "      border-right-color: var(--fill-color);\n",
       "      border-bottom-color: var(--fill-color);\n",
       "    }\n",
       "    90% {\n",
       "      border-color: transparent;\n",
       "      border-bottom-color: var(--fill-color);\n",
       "    }\n",
       "  }\n",
       "</style>\n",
       "\n",
       "  <script>\n",
       "    async function quickchart(key) {\n",
       "      const quickchartButtonEl =\n",
       "        document.querySelector('#' + key + ' button');\n",
       "      quickchartButtonEl.disabled = true;  // To prevent multiple clicks.\n",
       "      quickchartButtonEl.classList.add('colab-df-spinner');\n",
       "      try {\n",
       "        const charts = await google.colab.kernel.invokeFunction(\n",
       "            'suggestCharts', [key], {});\n",
       "      } catch (error) {\n",
       "        console.error('Error during call to suggestCharts:', error);\n",
       "      }\n",
       "      quickchartButtonEl.classList.remove('colab-df-spinner');\n",
       "      quickchartButtonEl.classList.add('colab-df-quickchart-complete');\n",
       "    }\n",
       "    (() => {\n",
       "      let quickchartButtonEl =\n",
       "        document.querySelector('#df-18bc6074-3bd0-4756-9f55-d3a792c976cb button');\n",
       "      quickchartButtonEl.style.display =\n",
       "        google.colab.kernel.accessAllowed ? 'block' : 'none';\n",
       "    })();\n",
       "  </script>\n",
       "</div>\n",
       "\n",
       "    </div>\n",
       "  </div>\n"
      ],
      "text/plain": [
       "                                             Reviews\n",
       "0  After About 10 Days Of Use , I'll Give My Hone...\n",
       "1        Superb phone and camera quality. I like it.\n",
       "2  The design of the phone is very unique, curve ...\n",
       "3  Very nice mobile full waterproof and gorilla g...\n",
       "4  I am very happy I like this phone thank you mi..."
      ]
     },
     "execution_count": 5,
     "metadata": {},
     "output_type": "execute_result"
    }
   ],
   "source": [
    "df.head()"
   ]
  },
  {
   "cell_type": "code",
   "execution_count": 6,
   "metadata": {
    "colab": {
     "base_uri": "https://localhost:8080/"
    },
    "id": "gZV3yvuNos4K",
    "outputId": "4fb79ed7-2da1-4421-d993-6503f0c02262"
   },
   "outputs": [
    {
     "data": {
      "text/plain": [
       "(352, 1)"
      ]
     },
     "execution_count": 6,
     "metadata": {},
     "output_type": "execute_result"
    }
   ],
   "source": [
    "df.shape"
   ]
  },
  {
   "cell_type": "code",
   "execution_count": 7,
   "metadata": {
    "id": "_ISIDNkVpJ8g"
   },
   "outputs": [],
   "source": [
    "# Initialize stop words and lemmatizer\n",
    "stop_words = set(stopwords.words('english'))\n",
    "lemmatizer = WordNetLemmatizer()\n",
    "\n",
    "def preprocess(text):\n",
    "    # Tokenize\n",
    "    tokens = word_tokenize(text.lower())\n",
    "    # Remove stop words and non-alphabetic tokens\n",
    "    tokens = [word for word in tokens if word.isalpha() and word not in stop_words]\n",
    "    # Lemmatize\n",
    "    tokens = [lemmatizer.lemmatize(word) for word in tokens]\n",
    "    return tokens\n",
    "\n",
    "# Apply preprocessing to all reviews\n",
    "processed_reviews = [preprocess(review) for review in df['Reviews']]\n"
   ]
  },
  {
   "cell_type": "code",
   "execution_count": 8,
   "metadata": {
    "id": "1g0hi8vMpUbE"
   },
   "outputs": [],
   "source": [
    "# Create a dictionary representation of the documents\n",
    "dictionary = corpora.Dictionary(processed_reviews)\n",
    "\n",
    "# Create a corpus: a list of bag-of-words\n",
    "corpus = [dictionary.doc2bow(text) for text in processed_reviews]\n"
   ]
  },
  {
   "cell_type": "code",
   "execution_count": 9,
   "metadata": {
    "colab": {
     "base_uri": "https://localhost:8080/"
    },
    "id": "Q9_w8SFjpa7O",
    "outputId": "f09b269a-1a21-4dc2-a53b-c83747773b01"
   },
   "outputs": [
    {
     "name": "stdout",
     "output_type": "stream",
     "text": [
      "(0, '0.036*\"camera\" + 0.024*\"battery\" + 0.019*\"phone\" + 0.017*\"awesome\" + 0.016*\"good\"')\n",
      "(1, '0.034*\"camera\" + 0.024*\"phone\" + 0.020*\"best\" + 0.018*\"battery\" + 0.016*\"quality\"')\n",
      "(2, '0.065*\"good\" + 0.047*\"phone\" + 0.042*\"camera\" + 0.030*\"battery\" + 0.021*\"performance\"')\n",
      "(3, '0.017*\"camera\" + 0.017*\"issue\" + 0.015*\"good\" + 0.015*\"battery\" + 0.014*\"mobile\"')\n",
      "(4, '0.028*\"excellent\" + 0.025*\"iphone\" + 0.019*\"phone\" + 0.014*\"display\" + 0.013*\"camera\"')\n"
     ]
    }
   ],
   "source": [
    "# Set the number of topics\n",
    "num_topics = 5\n",
    "\n",
    "# Train the LDA model\n",
    "lda_model = gensim.models.ldamodel.LdaModel(corpus, num_topics=num_topics, id2word=dictionary, passes=15)\n",
    "\n",
    "# Print the topics\n",
    "topics = lda_model.print_topics(num_words=5)\n",
    "for topic in topics:\n",
    "    print(topic)\n"
   ]
  },
  {
   "cell_type": "code",
   "execution_count": 10,
   "metadata": {
    "colab": {
     "base_uri": "https://localhost:8080/",
     "height": 916
    },
    "id": "tyS47c8npm5B",
    "outputId": "8764feef-c09f-456a-f361-5af1f12c9705"
   },
   "outputs": [
    {
     "name": "stderr",
     "output_type": "stream",
     "text": [
      "/usr/local/lib/python3.10/dist-packages/sklearn/manifold/_mds.py:298: FutureWarning: The default value of `normalized_stress` will change to `'auto'` in version 1.4. To suppress this warning, manually set the value of `normalized_stress`.\n",
      "  warnings.warn(\n"
     ]
    },
    {
     "data": {
      "text/html": [
       "\n",
       "<link rel=\"stylesheet\" type=\"text/css\" href=\"https://cdn.jsdelivr.net/gh/bmabey/pyLDAvis@3.4.0/pyLDAvis/js/ldavis.v1.0.0.css\">\n",
       "\n",
       "\n",
       "<div id=\"ldavis_el50961398336342462089647725441\" style=\"background-color:white;\"></div>\n",
       "<script type=\"text/javascript\">\n",
       "\n",
       "var ldavis_el50961398336342462089647725441_data = {\"mdsDat\": {\"x\": [-0.03822957053047349, -0.007515370998856616, -0.12925728611241447, 0.030214362877496112, 0.1447878647642485], \"y\": [0.12773407983268525, -0.1400044757692719, -0.020834653861363378, 0.0063633172916445074, 0.026741732506305585], \"topics\": [1, 2, 3, 4, 5], \"cluster\": [1, 1, 1, 1, 1], \"Freq\": [37.49481627433746, 18.479221207502228, 17.9770250772279, 16.16285869269591, 9.8860787482365]}, \"tinfo\": {\"Term\": [\"excellent\", \"good\", \"iphone\", \"nice\", \"awesome\", \"mobile\", \"go\", \"phone\", \"issue\", \"one\", \"display\", \"better\", \"price\", \"update\", \"camera\", \"product\", \"design\", \"every\", \"u\", \"plus\", \"using\", \"back\", \"charging\", \"drain\", \"night\", \"redmi\", \"superb\", \"need\", \"samsung\", \"point\", \"n\", \"nice\", \"osm\", \"color\", \"zooming\", \"bezel\", \"regular\", \"problem\", \"build\", \"acc\", \"decent\", \"love\", \"good\", \"flipkart\", \"backup\", \"speaker\", \"overheating\", \"bettery\", \"technology\", \"frst\", \"z\", \"waterproof\", \"actually\", \"panel\", \"perfectly\", \"compare\", \"wanted\", \"fall\", \"solid\", \"dream\", \"also\", \"outstanding\", \"amazing\", \"overall\", \"except\", \"look\", \"phone\", \"normal\", \"performance\", \"otherwise\", \"buy\", \"battery\", \"camera\", \"bit\", \"great\", \"display\", \"product\", \"best\", \"design\", \"quality\", \"fast\", \"use\", \"premium\", \"awesome\", \"charging\", \"everything\", \"iphone\", \"heating\", \"mobile\", \"feel\", \"issue\", \"price\", \"fully\", \"detection\", \"worst\", \"blur\", \"eye\", \"u\", \"dark\", \"update\", \"shoot\", \"sot\", \"compromise\", \"ultrawide\", \"green\", \"required\", \"stock\", \"waiting\", \"edge\", \"faceid\", \"puc\", \"attaching\", \"batter\", \"videography\", \"policy\", \"soooo\", \"absolutely\", \"change\", \"ago\", \"r\", \"image\", \"finest\", \"portrait\", \"software\", \"need\", \"night\", \"real\", \"satisfied\", \"one\", \"purple\", \"smart\", \"nothing\", \"still\", \"best\", \"go\", \"charge\", \"day\", \"mode\", \"camera\", \"quality\", \"colour\", \"superb\", \"phone\", \"performance\", \"awesome\", \"battery\", \"even\", \"video\", \"pixel\", \"issue\", \"smooth\", \"using\", \"photo\", \"super\", \"good\", \"fast\", \"upgraded\", \"penny\", \"every\", \"io\", \"buttery\", \"anything\", \"early\", \"earlier\", \"hyped\", \"everyone\", \"amazed\", \"superfast\", \"temper\", \"button\", \"classic\", \"gorgeous\", \"notice\", \"smaller\", \"iphones\", \"excellent\", \"must\", \"expected\", \"feeling\", \"notch\", \"built\", \"loved\", \"led\", \"slowmotion\", \"foremost\", \"arrived\", \"say\", \"wow\", \"worth\", \"brand\", \"iphone\", \"using\", \"apple\", \"product\", \"plus\", \"superb\", \"smooth\", \"one\", \"first\", \"display\", \"like\", \"day\", \"phone\", \"even\", \"quality\", \"camera\", \"mobile\", \"best\", \"battery\", \"look\", \"samsung\", \"much\", \"also\", \"design\", \"issue\", \"gud\", \"blowing\", \"mind\", \"see\", \"working\", \"curve\", \"bettary\", \"attached\", \"lite\", \"easy\", \"wifi\", \"comfort\", \"unbeatable\", \"heavy\", \"weight\", \"better\", \"hope\", \"driver\", \"keep\", \"miss\", \"brilliance\", \"number\", \"contribution\", \"promised\", \"shape\", \"put\", \"future\", \"perform\", \"giving\", \"cut\", \"unique\", \"class\", \"drain\", \"minute\", \"quickly\", \"star\", \"faster\", \"awesome\", \"magic\", \"le\", \"charging\", \"little\", \"super\", \"camera\", \"design\", \"battery\", \"use\", \"last\", \"display\", \"phone\", \"day\", \"good\", \"mode\", \"like\", \"perfect\", \"price\", \"performance\", \"fast\", \"heating\", \"photo\", \"iphone\", \"best\", \"issue\", \"mobile\", \"night\", \"charger\", \"quality\", \"look\", \"bessel\", \"resistance\", \"mp\", \"point\", \"smartphone\", \"may\", \"already\", \"showing\", \"friend\", \"initialization\", \"degree\", \"elevated\", \"celsius\", \"regrettably\", \"approximately\", \"based\", \"appears\", \"consequently\", \"pathetic\", \"experiencing\", \"reaching\", \"addressing\", \"aforementioned\", \"truly\", \"limited\", \"adequate\", \"guard\", \"apply\", \"discharge\", \"lover\", \"note\", \"high\", \"curved\", \"level\", \"major\", \"screen\", \"plus\", \"back\", \"go\", \"issue\", \"galaxy\", \"mobile\", \"redmi\", \"fe\", \"drawback\", \"price\", \"samsung\", \"value\", \"display\", \"water\", \"thing\", \"heating\", \"battery\", \"review\", \"one\", \"camera\", \"good\", \"drain\", \"performance\", \"better\", \"nice\", \"quality\"], \"Freq\": [29.0, 131.0, 43.0, 31.0, 39.0, 27.0, 21.0, 122.0, 31.0, 21.0, 54.0, 11.0, 18.0, 10.0, 137.0, 31.0, 25.0, 7.0, 8.0, 8.0, 18.0, 11.0, 18.0, 15.0, 11.0, 9.0, 15.0, 12.0, 20.0, 4.0, 5.297371206716733, 27.413260679852048, 4.44110810146931, 4.394895880190854, 3.587908684224028, 3.5633339235399504, 3.532842558385097, 8.398545038602224, 6.125055267181796, 2.7340640135563348, 2.6718652215075, 16.01704188346479, 104.05699099795227, 12.98731135059456, 11.550481806690637, 4.429865952913532, 1.8802185928120092, 1.8801966530705323, 1.8801940278023213, 1.8801627121029483, 1.8801606493922112, 1.8801664624861067, 1.8801499608002095, 1.8800856417290421, 1.8800366992288242, 1.879991319592607, 1.8798161766991073, 1.87976085854752, 1.8797421066317277, 1.8796042800506547, 20.040170907039478, 4.379905223668202, 15.67700364340745, 18.10760296594852, 6.151556599694372, 22.70399755728515, 75.26075102581527, 5.925937674303323, 34.05886462896731, 3.578668490198232, 8.568477899818248, 47.644873645597904, 67.26045767465588, 5.037573164411124, 14.290976039691298, 27.59924968144604, 16.719674668047663, 25.081008404951717, 13.844066881150686, 20.953917260071453, 13.010082176979422, 10.840057226057759, 9.539444598775372, 17.619501098948724, 9.844058219671227, 7.9799122689230835, 16.345315921630693, 11.300845802591173, 11.827122069684226, 10.231524555226992, 10.686974836372663, 8.73326223503435, 4.9875573221137, 3.377922935918024, 3.3368197024178503, 2.5729425320637165, 2.5728477108654504, 6.488138088471342, 2.5646182289738424, 8.094696053567723, 1.769917699900742, 1.7699169605541667, 1.7699169605541667, 1.769916775717523, 1.7699123396380718, 1.7698823961017773, 1.769794229022688, 1.7695853636152017, 1.7695166043837105, 1.769366701865594, 1.769263932691645, 1.7692628236717824, 1.7693082934861555, 1.769262269161851, 1.7690818685975087, 1.7690214270149884, 1.7690567308139529, 1.7685615534452306, 1.763563016087129, 1.7629789322927423, 4.088727036556575, 1.7231836028840497, 3.3716994861215044, 3.952163439676213, 7.404121953919059, 6.266723751564526, 2.5715638355376624, 3.3797029127977534, 8.765104475378541, 3.3301519053296516, 2.574535639096571, 2.573887232150144, 2.5745912749263526, 15.77874866843225, 8.145443323794455, 6.242149350098923, 10.787870940849448, 6.267715215321833, 27.25426959322555, 12.681155640610287, 4.117842504686892, 5.78102258789633, 19.340559666487604, 11.390033237692336, 9.167368899345302, 14.598473540143702, 4.592685994225383, 4.904872128205928, 3.391152433860884, 5.401093454292262, 4.187076027005965, 4.3622874874103506, 4.161415525421432, 4.128145668885217, 5.200142751893087, 4.149985597042543, 4.1116023324657895, 3.33442979290323, 6.487880919485861, 2.540649321162482, 2.5401949325111506, 2.5394280280402644, 1.7466953294183563, 1.746685979117656, 1.7466831021020561, 1.7465698196128046, 1.7462887711513755, 1.746114352080623, 1.7458086691731185, 1.7458075902922685, 1.7449162548966808, 1.7446332284870267, 1.7447423752663533, 1.7441065548187442, 1.7395436080770785, 21.52823878156633, 3.329669770592962, 4.915846509943888, 3.3027721921212256, 2.5372019372197325, 2.540449008951329, 4.88533144398205, 0.9526751663154297, 0.9526751663154297, 0.9526751663154297, 0.9526750764086922, 3.3349699525821377, 3.330736424126677, 4.9051148821287835, 3.1340355868057523, 19.237246804620835, 8.71976317242071, 4.924759504272816, 10.190886979045134, 4.122264192652593, 6.174911969974367, 5.711848037727868, 6.57831127382636, 5.227116222116607, 10.745368441609896, 5.446488661619758, 7.314274161187828, 14.458899343488019, 4.18750843317643, 7.217685554955441, 10.403531517567588, 5.625597267800329, 6.498526596459914, 7.776427877623864, 4.920493249764905, 4.3710663439824655, 3.9045384849535165, 4.09837848988715, 4.069650769866837, 4.117684343444277, 2.527232933647857, 2.5223863051898423, 2.5223854968525963, 2.5082845386029886, 1.737522041392832, 1.7375210713881373, 1.7375202630508915, 1.7371070410508687, 1.737057085809082, 1.736464089605606, 1.7363746875062271, 1.7348773235922161, 1.7315678292407026, 4.031900821343906, 2.2678680666373983, 7.2683842128127525, 0.9476803601714462, 0.9476803601714462, 0.9476802793377217, 0.9476800368365479, 0.9476800368365479, 0.9476800368365479, 0.9476793901667513, 0.9476793901667513, 0.9476793093330268, 0.947679066831853, 0.9476789051644039, 0.9476789051644039, 0.9476789051644039, 0.947674135974654, 2.52654908033796, 2.5217000268682077, 6.348325706332978, 1.737312520378736, 3.3184982584264424, 1.707649615141568, 3.1745136715311406, 11.974116902215904, 1.3023392967450882, 2.456888516509374, 6.216291900613611, 4.10980674841395, 5.670227757625608, 25.101486612921374, 7.273182502703472, 16.677689067828638, 5.5342182259967885, 3.2575965136578096, 8.656016022379468, 13.031172405103897, 6.3778500625662256, 11.451708587057068, 4.050229706723639, 4.081360390731623, 3.282403413724912, 4.108776603427978, 6.469783227529065, 4.542644830046697, 4.348916785722974, 3.6516612442915384, 4.897210322834732, 4.880267574163996, 4.240046692117567, 4.114164009503393, 3.3189845541134804, 3.321981868620689, 3.3861463858480314, 3.3215566832294288, 1.5464712219315, 1.5463192363662857, 2.9258326833144657, 2.955999395337878, 2.855396619543696, 0.8441271370093744, 0.8441270381248166, 0.8441268403557012, 0.8441267414711434, 0.8441264448174703, 0.8441218961278152, 0.8441207095131226, 0.8441199184366608, 0.8441196217829877, 0.8441189295910836, 0.8441183362837373, 0.8441181385146219, 0.8441175452072756, 0.8441139853631977, 0.844117050784487, 0.8441153697470057, 0.8441146775551017, 0.8441144797859863, 0.8441062723676955, 0.8441120076720433, 0.8441118099029279, 0.8441044924456567, 0.8441043935610989, 0.8441039980228681, 0.8441022181008291, 2.95786752240231, 2.2399080825479487, 1.5470192401503802, 1.5370098485643644, 1.1892603489728013, 3.1288169703270827, 2.9569490826302136, 3.7396284655118253, 5.608013816408695, 7.196133829667736, 2.238627329756369, 6.091368654228554, 2.893831464976246, 2.9519789469901285, 1.5459775902193655, 4.206391661161087, 4.095362893139218, 2.25240847502747, 5.96861573750526, 1.5479104866691038, 2.1917259884918967, 3.316686159384966, 6.475313659558556, 2.1848456009657915, 3.0251653858493013, 7.423079427168651, 6.479653109489508, 2.4224011159717516, 3.5707336409273434, 2.197172154392842, 2.2843964428349555, 2.353793823211442], \"Total\": [29.0, 131.0, 43.0, 31.0, 39.0, 27.0, 21.0, 122.0, 31.0, 21.0, 54.0, 11.0, 18.0, 10.0, 137.0, 31.0, 25.0, 7.0, 8.0, 8.0, 18.0, 11.0, 18.0, 15.0, 11.0, 9.0, 15.0, 12.0, 20.0, 4.0, 5.917477681204473, 31.044450776048365, 5.062424000236156, 5.058979794140043, 4.2078134597981585, 4.206216855275201, 4.203672225263862, 10.111408472390618, 7.4708572248090235, 3.353314820431822, 3.3488179670305196, 20.086688152213334, 131.22817346773755, 16.716252240031846, 15.02656355577147, 5.7651640422874655, 2.4986137159078896, 2.4986050047553228, 2.4986028971266867, 2.498588577919255, 2.4985884125572535, 2.498599721870951, 2.498583655512405, 2.49858763101467, 2.498579523351324, 2.4985939666055623, 2.4985662950273198, 2.498535170797306, 2.498584237301341, 2.4985784800849244, 26.827716015058222, 5.848763735498021, 21.64013289609801, 25.09529897589806, 8.366195922022829, 32.42483458685006, 122.23393192246778, 8.36787426971487, 57.65644078500612, 4.996893425148476, 13.276568806839345, 93.17277779075266, 137.44282482553905, 7.482107836915485, 24.668134253636506, 54.36411175976927, 31.149932711488542, 53.42145420588035, 25.54372811566705, 46.592698664696655, 24.675252054113272, 19.55236281210226, 16.52576470088038, 39.39446085379864, 18.139546979128685, 13.09384759228334, 43.01416804310016, 23.413748356657674, 27.827089647214642, 21.194385687591037, 31.641933155894506, 18.321643274543085, 5.6165954060505126, 4.007378713774527, 4.009725951277308, 3.202770141743956, 3.2029415549052174, 8.086475930556748, 3.202702464583151, 10.485474785676153, 2.3983431428966693, 2.398342972425558, 2.398343032465557, 2.3983430725162846, 2.398340866215862, 2.3983382623151535, 2.398339645083183, 2.398337588617594, 2.398337553783921, 2.398271912651323, 2.398258712305467, 2.3982589600115585, 2.3983738306144455, 2.3983435072407073, 2.398281458446698, 2.398228427859508, 2.3983001667970423, 2.398187578695222, 2.398442629161353, 2.3981896540527967, 5.600489458648764, 2.3924806637534344, 4.8012115953506775, 5.680913285337131, 12.121391359201516, 11.968561488945651, 3.9064448737953645, 5.65141139160575, 21.167210395621115, 5.654682615983801, 3.9967850303856465, 3.996705636872869, 4.057370702827224, 53.42145420588035, 21.078165584752178, 14.795041531491588, 33.05790837263942, 15.327470261924539, 137.44282482553905, 46.592698664696655, 8.813125846442931, 15.298421854578654, 122.23393192246778, 57.65644078500612, 39.39446085379864, 93.17277779075266, 12.722274209318947, 16.31044034857377, 7.299579665537153, 31.641933155894506, 14.448603774299725, 18.265549554555832, 15.39085658310628, 17.877614197803556, 131.22817346773755, 24.675252054113272, 4.757351990010656, 3.965247045422043, 7.996175360373799, 3.171238860994371, 3.171251352534451, 3.171325509728612, 2.377229840442904, 2.3772270024224733, 2.377225478258051, 2.3772369277166447, 2.3772339789469257, 2.3772407642137843, 2.377194050732819, 2.377198035514219, 2.377222877246216, 2.3769931558242394, 2.377269195415308, 2.377222911894824, 2.3777274501760686, 29.81649406478329, 4.669153218744271, 7.047274604070569, 4.770641358816716, 3.9612676233964113, 3.975617361694352, 7.903343026482204, 1.5832094004969568, 1.5832094293607017, 1.5832095067207952, 1.5832094184006102, 5.574213719582356, 5.624388366743248, 8.809881595453339, 5.576920308465962, 43.01416804310016, 18.265549554555832, 9.502768129984158, 31.149932711488542, 8.377535830870407, 15.298421854578654, 14.448603774299725, 21.167210395621115, 15.158775587323152, 54.36411175976927, 17.004224806344478, 33.05790837263942, 122.23393192246778, 12.722274209318947, 46.592698664696655, 137.44282482553905, 27.827089647214642, 53.42145420588035, 93.17277779075266, 32.42483458685006, 20.654210864238596, 13.773167300887756, 26.827716015058222, 25.54372811566705, 31.641933155894506, 3.1586958935327276, 3.1589006786386977, 3.1589003889164817, 3.158699013087416, 2.3688952410352697, 2.3688948405291885, 2.368894469232676, 2.368851285476978, 2.368844374475017, 2.36893687508261, 2.368858833544912, 2.3690431224952366, 2.369268155898323, 5.59901753095477, 3.1792728338291405, 11.668029210088962, 1.5790504737808095, 1.5790505292978054, 1.5790505231050183, 1.5790503677684546, 1.579050371666902, 1.5790503723769902, 1.5790500391146824, 1.5790500628176203, 1.5790500495856923, 1.5790500343936984, 1.5790499276748946, 1.5790499365496915, 1.5790499950972425, 1.5790480563082794, 4.746693891623453, 4.75737747637521, 15.049878111153244, 3.222939135958601, 7.014223529385328, 3.225077038184894, 7.257349684594345, 39.39446085379864, 2.3711115993536636, 5.424980460562203, 18.139546979128685, 10.627731103041974, 17.877614197803556, 137.44282482553905, 25.54372811566705, 93.17277779075266, 19.55236281210226, 8.902845364121237, 54.36411175976927, 122.23393192246778, 33.05790837263942, 131.22817346773755, 15.327470261924539, 17.004224806344478, 10.692563760936281, 18.321643274543085, 57.65644078500612, 24.675252054113272, 23.413748356657674, 15.39085658310628, 43.01416804310016, 53.42145420588035, 31.641933155894506, 27.827089647214642, 11.968561488945651, 12.39495034631762, 46.592698664696655, 32.42483458685006, 2.1964503838444926, 2.1964691356928343, 4.403415361841148, 4.4573316285825815, 4.422033716075208, 1.4927640294113673, 1.4927639507034491, 1.4927639496432183, 1.4927640523301178, 1.4927639405080315, 1.4927664321497272, 1.4927666106349624, 1.4927667341223683, 1.492766673289915, 1.4927667964711042, 1.4927669728612893, 1.492766895198209, 1.492766948844905, 1.4927611945572883, 1.4927672229581521, 1.4927672830132663, 1.49276734971994, 1.4927674290776065, 1.492757264597569, 1.4927676597102921, 1.4927678336191836, 1.4927574906878227, 1.4927575139791687, 1.49275778654911, 1.492757847508324, 6.0538253949587695, 4.49957224416432, 2.9902643798043433, 3.0021260227087065, 2.272948028664528, 7.714431312157181, 8.377535830870407, 11.748482996440167, 21.078165584752178, 31.641933155894506, 6.183560746962644, 27.827089647214642, 9.531741703226315, 10.292260665594545, 3.7907517603875314, 18.321643274543085, 20.654210864238596, 8.702235405331674, 54.36411175976927, 4.6951816286057575, 9.352865010327509, 23.413748356657674, 93.17277779075266, 10.27856123243818, 21.167210395621115, 137.44282482553905, 131.22817346773755, 15.049878111153244, 57.65644078500612, 11.668029210088962, 31.044450776048365, 46.592698664696655], \"Category\": [\"Default\", \"Default\", \"Default\", \"Default\", \"Default\", \"Default\", \"Default\", \"Default\", \"Default\", \"Default\", \"Default\", \"Default\", \"Default\", \"Default\", \"Default\", \"Default\", \"Default\", \"Default\", \"Default\", \"Default\", \"Default\", \"Default\", \"Default\", \"Default\", \"Default\", \"Default\", \"Default\", \"Default\", \"Default\", \"Default\", \"Topic1\", \"Topic1\", \"Topic1\", \"Topic1\", \"Topic1\", \"Topic1\", \"Topic1\", \"Topic1\", \"Topic1\", \"Topic1\", \"Topic1\", \"Topic1\", \"Topic1\", \"Topic1\", \"Topic1\", \"Topic1\", \"Topic1\", \"Topic1\", \"Topic1\", \"Topic1\", \"Topic1\", \"Topic1\", \"Topic1\", \"Topic1\", \"Topic1\", \"Topic1\", \"Topic1\", \"Topic1\", \"Topic1\", \"Topic1\", \"Topic1\", \"Topic1\", \"Topic1\", \"Topic1\", \"Topic1\", \"Topic1\", \"Topic1\", \"Topic1\", \"Topic1\", \"Topic1\", \"Topic1\", \"Topic1\", \"Topic1\", \"Topic1\", \"Topic1\", \"Topic1\", \"Topic1\", \"Topic1\", \"Topic1\", \"Topic1\", \"Topic1\", \"Topic1\", \"Topic1\", \"Topic1\", \"Topic1\", \"Topic1\", \"Topic1\", \"Topic1\", \"Topic1\", \"Topic1\", \"Topic1\", \"Topic1\", \"Topic2\", \"Topic2\", \"Topic2\", \"Topic2\", \"Topic2\", \"Topic2\", \"Topic2\", \"Topic2\", \"Topic2\", \"Topic2\", \"Topic2\", \"Topic2\", \"Topic2\", \"Topic2\", \"Topic2\", \"Topic2\", \"Topic2\", \"Topic2\", \"Topic2\", \"Topic2\", \"Topic2\", \"Topic2\", \"Topic2\", \"Topic2\", \"Topic2\", \"Topic2\", \"Topic2\", \"Topic2\", \"Topic2\", \"Topic2\", \"Topic2\", \"Topic2\", \"Topic2\", \"Topic2\", \"Topic2\", \"Topic2\", \"Topic2\", \"Topic2\", \"Topic2\", \"Topic2\", \"Topic2\", \"Topic2\", \"Topic2\", \"Topic2\", \"Topic2\", \"Topic2\", \"Topic2\", \"Topic2\", \"Topic2\", \"Topic2\", \"Topic2\", \"Topic2\", \"Topic2\", \"Topic2\", \"Topic2\", \"Topic2\", \"Topic2\", \"Topic2\", \"Topic2\", \"Topic2\", \"Topic2\", \"Topic2\", \"Topic2\", \"Topic2\", \"Topic3\", \"Topic3\", \"Topic3\", \"Topic3\", \"Topic3\", \"Topic3\", \"Topic3\", \"Topic3\", \"Topic3\", \"Topic3\", \"Topic3\", \"Topic3\", \"Topic3\", \"Topic3\", \"Topic3\", \"Topic3\", \"Topic3\", \"Topic3\", \"Topic3\", \"Topic3\", \"Topic3\", \"Topic3\", \"Topic3\", \"Topic3\", \"Topic3\", \"Topic3\", \"Topic3\", \"Topic3\", \"Topic3\", \"Topic3\", \"Topic3\", \"Topic3\", \"Topic3\", \"Topic3\", \"Topic3\", \"Topic3\", \"Topic3\", \"Topic3\", \"Topic3\", \"Topic3\", \"Topic3\", \"Topic3\", \"Topic3\", \"Topic3\", \"Topic3\", \"Topic3\", \"Topic3\", \"Topic3\", \"Topic3\", \"Topic3\", \"Topic3\", \"Topic3\", \"Topic3\", \"Topic3\", \"Topic3\", \"Topic3\", \"Topic3\", \"Topic3\", \"Topic3\", \"Topic4\", \"Topic4\", \"Topic4\", \"Topic4\", \"Topic4\", \"Topic4\", \"Topic4\", \"Topic4\", \"Topic4\", \"Topic4\", \"Topic4\", \"Topic4\", \"Topic4\", \"Topic4\", \"Topic4\", \"Topic4\", \"Topic4\", \"Topic4\", \"Topic4\", \"Topic4\", \"Topic4\", \"Topic4\", \"Topic4\", \"Topic4\", \"Topic4\", \"Topic4\", \"Topic4\", \"Topic4\", \"Topic4\", \"Topic4\", \"Topic4\", \"Topic4\", \"Topic4\", \"Topic4\", \"Topic4\", \"Topic4\", \"Topic4\", \"Topic4\", \"Topic4\", \"Topic4\", \"Topic4\", \"Topic4\", \"Topic4\", \"Topic4\", \"Topic4\", \"Topic4\", \"Topic4\", \"Topic4\", \"Topic4\", \"Topic4\", \"Topic4\", \"Topic4\", \"Topic4\", \"Topic4\", \"Topic4\", \"Topic4\", \"Topic4\", \"Topic4\", \"Topic4\", \"Topic4\", \"Topic4\", \"Topic4\", \"Topic4\", \"Topic4\", \"Topic4\", \"Topic4\", \"Topic4\", \"Topic4\", \"Topic5\", \"Topic5\", \"Topic5\", \"Topic5\", \"Topic5\", \"Topic5\", \"Topic5\", \"Topic5\", \"Topic5\", \"Topic5\", \"Topic5\", \"Topic5\", \"Topic5\", \"Topic5\", \"Topic5\", \"Topic5\", \"Topic5\", \"Topic5\", \"Topic5\", \"Topic5\", \"Topic5\", \"Topic5\", \"Topic5\", \"Topic5\", \"Topic5\", \"Topic5\", \"Topic5\", \"Topic5\", \"Topic5\", \"Topic5\", \"Topic5\", \"Topic5\", \"Topic5\", \"Topic5\", \"Topic5\", \"Topic5\", \"Topic5\", \"Topic5\", \"Topic5\", \"Topic5\", \"Topic5\", \"Topic5\", \"Topic5\", \"Topic5\", \"Topic5\", \"Topic5\", \"Topic5\", \"Topic5\", \"Topic5\", \"Topic5\", \"Topic5\", \"Topic5\", \"Topic5\", \"Topic5\", \"Topic5\", \"Topic5\", \"Topic5\", \"Topic5\", \"Topic5\", \"Topic5\", \"Topic5\", \"Topic5\"], \"logprob\": [30.0, 29.0, 28.0, 27.0, 26.0, 25.0, 24.0, 23.0, 22.0, 21.0, 20.0, 19.0, 18.0, 17.0, 16.0, 15.0, 14.0, 13.0, 12.0, 11.0, 10.0, 9.0, 8.0, 7.0, 6.0, 5.0, 4.0, 3.0, 2.0, 1.0, -5.7173, -4.0734, -5.8936, -5.904, -6.1069, -6.1138, -6.1224, -5.2564, -5.5721, -6.3787, -6.4017, -4.6108, -2.7395, -4.8205, -4.9377, -5.8961, -6.7531, -6.7531, -6.7531, -6.7531, -6.7531, -6.7531, -6.7531, -6.7532, -6.7532, -6.7532, -6.7533, -6.7533, -6.7533, -6.7534, -4.3867, -5.9074, -4.6323, -4.4881, -5.5678, -4.2619, -3.0635, -5.6051, -3.8564, -6.1095, -5.2364, -3.5207, -3.1759, -5.7675, -4.7248, -4.0667, -4.5679, -4.1624, -4.7566, -4.3421, -4.8187, -5.0012, -5.129, -4.5155, -5.0976, -5.3075, -4.5905, -4.9596, -4.9141, -5.059, -5.0154, -5.2173, -5.07, -5.4597, -5.4719, -5.7319, -5.7319, -4.8069, -5.7351, -4.5857, -6.106, -6.106, -6.106, -6.106, -6.106, -6.106, -6.1061, -6.1062, -6.1062, -6.1063, -6.1064, -6.1064, -6.1063, -6.1064, -6.1065, -6.1065, -6.1065, -6.1067, -6.1096, -6.1099, -5.2687, -6.1327, -5.4615, -5.3027, -4.6749, -4.8417, -5.7324, -5.4591, -4.5061, -5.4739, -5.7312, -5.7315, -5.7312, -3.9183, -4.5795, -4.8456, -4.2985, -4.8415, -3.3717, -4.1368, -5.2616, -4.9223, -3.7147, -4.2442, -4.4613, -3.996, -5.1525, -5.0867, -5.4557, -4.9903, -5.2449, -5.2039, -5.2511, -5.2591, -5.0282, -5.2538, -5.2356, -5.4451, -4.7794, -5.7169, -5.7171, -5.7174, -6.0916, -6.0916, -6.0916, -6.0917, -6.0919, -6.092, -6.0921, -6.0921, -6.0927, -6.0928, -6.0928, -6.0931, -6.0957, -3.58, -5.4465, -5.0569, -5.4546, -5.7183, -5.717, -5.0631, -6.6978, -6.6978, -6.6978, -6.6978, -5.4449, -5.4462, -5.0591, -5.507, -3.6925, -4.4838, -5.0551, -4.3279, -5.233, -4.8289, -4.9068, -4.7656, -4.9955, -4.2749, -4.9544, -4.6595, -3.9781, -5.2173, -4.6728, -4.3072, -4.922, -4.7778, -4.5983, -5.056, -5.1744, -5.2872, -5.2388, -5.2458, -5.2341, -5.6159, -5.6178, -5.6178, -5.6234, -5.9905, -5.9905, -5.9905, -5.9908, -5.9908, -5.9911, -5.9912, -5.992, -5.994, -5.1487, -5.7241, -4.5595, -6.5967, -6.5967, -6.5967, -6.5967, -6.5967, -6.5967, -6.5967, -6.5967, -6.5967, -6.5967, -6.5967, -6.5967, -6.5967, -6.5967, -5.6161, -5.6181, -4.6948, -5.9906, -5.3435, -6.0079, -5.3878, -4.0602, -6.2788, -5.6441, -4.7158, -5.1296, -4.8078, -3.3201, -4.5588, -3.7289, -4.832, -5.362, -4.3847, -3.9756, -4.6902, -4.1048, -5.1442, -5.1366, -5.3544, -5.1299, -4.6758, -5.0295, -5.0731, -5.2478, -4.9543, -4.9578, -5.0984, -5.1285, -5.3433, -5.3424, -5.3233, -5.3426, -5.6154, -5.6155, -4.9778, -4.9676, -5.0022, -6.2208, -6.2208, -6.2208, -6.2208, -6.2209, -6.2209, -6.2209, -6.2209, -6.2209, -6.2209, -6.2209, -6.2209, -6.2209, -6.2209, -6.2209, -6.2209, -6.2209, -6.2209, -6.2209, -6.2209, -6.2209, -6.2209, -6.2209, -6.2209, -6.2209, -4.9669, -5.245, -5.6151, -5.6216, -5.8781, -4.9107, -4.9672, -4.7324, -4.3272, -4.0779, -5.2455, -4.2445, -4.9888, -4.9689, -5.6157, -4.6148, -4.6415, -5.2394, -4.2649, -5.6145, -5.2667, -4.8524, -4.1834, -5.2699, -4.9444, -4.0468, -4.1827, -5.1666, -4.7786, -5.2642, -5.2253, -5.1954], \"loglift\": [30.0, 29.0, 28.0, 27.0, 26.0, 25.0, 24.0, 23.0, 22.0, 21.0, 20.0, 19.0, 18.0, 17.0, 16.0, 15.0, 14.0, 13.0, 12.0, 11.0, 10.0, 9.0, 8.0, 7.0, 6.0, 5.0, 4.0, 3.0, 2.0, 1.0, 0.8703, 0.8566, 0.85, 0.8402, 0.8216, 0.8151, 0.8071, 0.7954, 0.7823, 0.7768, 0.7551, 0.7546, 0.749, 0.7286, 0.7179, 0.7175, 0.6966, 0.6966, 0.6966, 0.6966, 0.6966, 0.6966, 0.6966, 0.6966, 0.6965, 0.6965, 0.6964, 0.6964, 0.6964, 0.6963, 0.6893, 0.6918, 0.6586, 0.6546, 0.6735, 0.6246, 0.496, 0.6359, 0.4546, 0.6471, 0.5431, 0.3103, 0.2663, 0.5854, 0.4351, 0.3031, 0.3587, 0.2249, 0.3684, 0.1818, 0.3409, 0.3911, 0.4315, 0.1763, 0.3697, 0.4858, 0.0134, 0.2525, 0.1254, 0.2527, -0.1045, 0.24, 1.5697, 1.5176, 1.5048, 1.4696, 1.4695, 1.4683, 1.4663, 1.4297, 1.3847, 1.3847, 1.3847, 1.3847, 1.3847, 1.3847, 1.3846, 1.3845, 1.3845, 1.3844, 1.3843, 1.3843, 1.3843, 1.3843, 1.3842, 1.3842, 1.3842, 1.384, 1.381, 1.3808, 1.3739, 1.3604, 1.3351, 1.3257, 1.1956, 1.0415, 1.2704, 1.1744, 0.8068, 1.1591, 1.2487, 1.2485, 1.2337, 0.469, 0.7377, 0.8256, 0.5687, 0.7943, 0.0705, 0.3872, 0.9276, 0.7154, -0.1552, 0.0668, 0.2305, -0.165, 0.6696, 0.4869, 0.9219, -0.0794, 0.4499, 0.2565, 0.3806, 0.2228, -1.5397, -0.0942, 1.5702, 1.5428, 1.507, 1.4944, 1.4942, 1.4939, 1.4079, 1.4079, 1.4079, 1.4078, 1.4076, 1.4075, 1.4074, 1.4074, 1.4068, 1.4068, 1.4067, 1.4064, 1.4036, 1.3904, 1.378, 1.3559, 1.3484, 1.2706, 1.2682, 1.235, 1.2081, 1.2081, 1.2081, 1.2081, 1.2024, 1.1922, 1.1305, 1.1398, 0.9114, 0.9767, 1.0588, 0.5988, 1.0069, 0.8088, 0.788, 0.5474, 0.6514, 0.0948, 0.5776, 0.2076, -0.4186, 0.6048, -0.1488, -0.865, 0.1174, -0.3906, -0.7673, -0.1694, 0.1632, 0.4555, -0.1628, -0.1208, -0.3231, 1.5994, 1.5974, 1.5974, 1.5919, 1.5125, 1.5125, 1.5125, 1.5123, 1.5122, 1.5119, 1.5118, 1.5109, 1.5089, 1.4941, 1.4846, 1.3491, 1.3119, 1.3119, 1.3119, 1.3119, 1.3119, 1.3119, 1.3119, 1.3119, 1.3119, 1.3119, 1.3119, 1.3119, 1.3119, 1.3119, 1.1919, 1.1877, 0.9593, 1.2045, 1.074, 1.1866, 0.9956, 0.6316, 1.2233, 1.0303, 0.7515, 0.8724, 0.6741, 0.1222, 0.5663, 0.1021, 0.5603, 0.8171, -0.015, -0.4161, 0.177, -0.6163, 0.4916, 0.3954, 0.6415, 0.3275, -0.3649, 0.1302, 0.1391, 0.3839, -0.3504, -0.5706, -0.1875, -0.0891, 0.5398, 0.5057, -0.7993, -0.456, 1.9632, 1.9631, 1.9052, 1.9033, 1.8767, 1.744, 1.744, 1.744, 1.744, 1.744, 1.744, 1.744, 1.744, 1.744, 1.7439, 1.7439, 1.7439, 1.7439, 1.7439, 1.7439, 1.7439, 1.7439, 1.7439, 1.7439, 1.7439, 1.7439, 1.7439, 1.7439, 1.7439, 1.7439, 1.5978, 1.6165, 1.655, 1.6446, 1.6663, 1.4116, 1.2726, 1.1693, 0.99, 0.8331, 1.298, 0.7949, 1.122, 1.0651, 1.4171, 0.8426, 0.696, 0.9625, 0.1049, 1.2044, 0.863, 0.3597, -0.3524, 0.7655, 0.3686, -0.6046, -0.6942, 0.4874, -0.4677, 0.6444, -0.2953, -0.6714]}, \"token.table\": {\"Topic\": [2, 1, 1, 5, 5, 5, 2, 5, 1, 2, 3, 4, 3, 1, 3, 4, 5, 3, 5, 2, 3, 4, 5, 5, 3, 4, 2, 1, 2, 4, 1, 3, 4, 5, 1, 2, 3, 5, 5, 2, 1, 2, 3, 4, 5, 5, 1, 2, 3, 4, 5, 4, 1, 3, 4, 5, 1, 1, 1, 3, 4, 4, 2, 2, 3, 4, 1, 5, 2, 3, 3, 3, 1, 2, 4, 1, 2, 3, 4, 5, 5, 2, 1, 2, 3, 1, 2, 4, 1, 2, 4, 2, 3, 4, 3, 1, 1, 2, 3, 4, 5, 4, 1, 2, 5, 4, 4, 3, 5, 4, 2, 1, 2, 3, 4, 5, 1, 5, 1, 3, 4, 2, 5, 1, 2, 3, 4, 5, 1, 2, 3, 4, 5, 2, 4, 5, 1, 4, 3, 3, 4, 2, 5, 1, 2, 3, 5, 1, 3, 3, 1, 2, 3, 5, 1, 3, 4, 1, 2, 4, 3, 4, 5, 5, 2, 2, 1, 1, 2, 3, 4, 5, 1, 3, 4, 1, 2, 4, 5, 1, 2, 3, 4, 5, 2, 3, 2, 1, 2, 3, 4, 5, 1, 2, 3, 5, 3, 5, 1, 2, 4, 1, 4, 5, 4, 1, 2, 3, 4, 5, 1, 2, 3, 4, 5, 3, 1, 2, 3, 4, 5, 2, 5, 4, 1, 2, 3, 4, 5, 1, 4, 2, 3, 5, 4, 3, 2, 4, 5, 3, 1, 2, 3, 4, 5, 3, 1, 2, 3, 4, 5, 4, 1, 2, 3, 4, 1, 4, 5, 3, 2, 5, 1, 2, 3, 4, 5, 4, 1, 2, 4, 1, 3, 4, 5, 1, 3, 5, 1, 3, 4, 5, 5, 3, 4, 1, 5, 5, 4, 1, 4, 4, 1, 3, 4, 5, 1, 2, 3, 4, 3, 5, 1, 3, 4, 5, 3, 5, 1, 1, 2, 3, 4, 1, 2, 5, 2, 3, 4, 1, 2, 3, 4, 1, 3, 4, 5, 2, 3, 3, 4, 2, 3, 4, 5, 1, 1, 4, 1, 4, 1, 2, 3, 4, 1, 1, 5, 3, 1, 2, 4, 1, 4, 1, 2, 3, 4, 5, 1, 2, 3, 4, 1, 2, 3, 4, 5, 1, 2, 3, 4, 2, 3, 5, 1, 5, 2, 2, 3, 1, 2, 3, 4, 1, 3, 4, 5, 1, 3, 1, 3, 4, 5, 4, 2, 1, 2, 4, 4, 1, 2, 3, 4, 5, 1, 2, 4, 5, 2, 5, 2, 5, 1, 3, 5, 5, 1, 2, 5, 1, 3, 4, 5, 1, 2, 3, 4, 5, 1, 2, 4, 2, 3, 1, 3, 4, 5, 4, 4, 2, 5, 3, 3, 2, 3, 2, 5, 1, 2, 3, 4, 1, 2, 1, 2, 2, 1, 5, 1, 4, 1, 2, 2, 1, 2, 4, 5, 1, 2, 3, 4, 3, 1, 3, 1, 2, 3, 4, 5, 5, 1, 2, 2, 4, 3, 4, 1, 2, 4, 3, 1, 3, 4, 5, 1, 2, 3, 4, 5, 1, 2, 4, 5, 1, 2, 3, 5, 2, 2, 1, 1, 4, 5, 1, 4, 4, 4, 2, 1, 2, 3, 4, 1, 2, 3, 1, 1], \"Freq\": [0.8339239715231406, 0.8946371458238674, 0.8004534871536426, 0.6698967526236498, 0.6698965354682928, 0.6698967170109736, 0.8338744382221585, 0.669898277975403, 0.7454976781763356, 0.07454976781763356, 0.14909953563526712, 0.03727488390881678, 0.8413139041895935, 0.7393669935772438, 0.09242087419715547, 0.13863131129573322, 0.046210437098577736, 0.9459766872864231, 0.6698969565956381, 0.21046499005793737, 0.5261624751448435, 0.21046499005793737, 0.6699011665560807, 0.6698970009006073, 0.6316283799083383, 0.8442910757047764, 0.8339382999700586, 0.4569170286858828, 0.2284585143429414, 0.3046113524572552, 0.42558686100282206, 0.17023474440112885, 0.17023474440112885, 0.3404694888022577, 0.798585781470374, 0.13309763024506233, 0.06654881512253116, 0.06654881512253116, 0.6698969217434059, 0.8338983583254054, 0.5151719325981496, 0.16099122893692175, 0.08586198876635827, 0.18245672612851133, 0.0643964915747687, 0.9105600630501648, 0.4679767777128039, 0.29950513773619447, 0.11231442665107293, 0.09359535554256077, 0.018719071108512154, 0.8442756847027606, 0.08570427636016996, 0.08570427636016996, 0.5999299345211897, 0.17140855272033992, 0.8004466477068676, 0.9509733182166831, 0.6682608843634711, 0.1336521768726942, 0.1336521768726942, 0.9496974755448232, 0.9366891369751735, 0.3586208676792331, 0.5379313015188497, 0.6332920202820156, 0.8031206887578255, 0.13385344812630426, 0.25153326113200547, 0.7545997833960163, 0.945998808199928, 0.841326624926044, 0.6778859907963347, 0.15064133128807436, 0.22596199693211155, 0.48747542903782304, 0.19644532214957047, 0.07275752672206313, 0.18189381680515784, 0.0509302687054442, 0.6698970288803514, 0.8339631218872948, 0.4055412745701904, 0.4055412745701904, 0.13518042485673012, 0.5647461106675276, 0.1613560316192936, 0.2420340474289404, 0.5512816836884611, 0.11025633673769222, 0.33076901021307664, 0.2101998432888555, 0.2101998432888555, 0.6305995298665664, 0.8413178331502547, 0.7906732508861394, 0.2269342381860144, 0.4538684763720288, 0.1134671190930072, 0.1134671190930072, 0.1134671190930072, 0.8442227078979738, 0.8004501838756451, 0.8339090667709654, 0.669896932521044, 0.6332921536550321, 0.8442755523724383, 0.3344185907954504, 0.6688371815909008, 0.6332929488782885, 0.9367089304033949, 0.24199958175881597, 0.33274942491837195, 0.211749634038964, 0.18149968631911198, 0.030249947719851997, 0.8958384807819741, 0.6698971643942341, 0.5480797453138098, 0.1565942129468028, 0.2740398726569049, 0.7486190385970078, 0.669901044235552, 0.5150456632811329, 0.018394487974326173, 0.2023393677175879, 0.16555039176893557, 0.11036692784595704, 0.26578288345309975, 0.06644572086327494, 0.06644572086327494, 0.3986743251796496, 0.13289144172654987, 0.26379991706388317, 0.26379991706388317, 0.5275998341277663, 0.8004551451719947, 0.6332919570627636, 0.8413163732205353, 0.8413153688275166, 0.8442605714980292, 0.8339109717247877, 0.6698970842968148, 0.15720459778606397, 0.3930114944651599, 0.31440919557212793, 0.15720459778606397, 0.12505978857787992, 0.7503587314672794, 0.8413128606078891, 0.6109739664844334, 0.15274349162110834, 0.15274349162110834, 0.15274349162110834, 0.20123090216319867, 0.7378466412650618, 0.033538483693866444, 0.7171718252743576, 0.11952863754572628, 0.11952863754572628, 0.7094941350961341, 0.14189882701922685, 0.14189882701922685, 0.6698968095094849, 0.9366390077913167, 0.8339337960177219, 0.8004690201586321, 0.526843655800993, 0.1621057402464594, 0.0810528701232297, 0.20263217530807426, 0.04052643506161485, 0.27558269711676314, 0.27558269711676314, 0.41337404567514474, 0.4858019207300332, 0.09716038414600664, 0.09716038414600664, 0.2914811524380199, 0.4718230642492665, 0.14154691927477994, 0.14154691927477994, 0.14154691927477994, 0.0943646128498533, 0.20961542165643626, 0.6288462649693087, 0.835952419720838, 0.2638735547576207, 0.13193677737881035, 0.3298419434470259, 0.19790516606821554, 0.13193677737881035, 0.777686278798054, 0.1196440428920083, 0.05982202144600415, 0.05982202144600415, 0.631628344672613, 0.669898232369046, 0.8004519102002525, 0.8902190096537341, 0.6332921983489598, 0.32343823920261433, 0.32343823920261433, 0.32343823920261433, 0.6332921713086209, 0.18976983475704245, 0.3795396695140849, 0.09488491737852123, 0.09488491737852123, 0.2846547521355637, 0.7925127451809607, 0.03810157428754619, 0.03048125943003695, 0.08382346343260162, 0.04572188914505543, 0.8413991412215428, 0.5675338011400745, 0.12161438595858738, 0.16215251461144986, 0.08107625730572493, 0.08107625730572493, 0.8339098199813565, 0.6699011770084816, 0.9497590464920509, 0.46980943984016815, 0.12812984722913678, 0.08541989815275786, 0.1708397963055157, 0.12812984722913678, 0.17860276280104367, 0.7144110512041747, 0.2222433479753417, 0.2222433479753417, 0.4444866959506834, 0.6332919793283388, 0.8413169126327601, 0.7142232887918128, 0.1785558221979532, 0.6698982825507365, 0.9460025344982441, 0.37197046294067604, 0.023248153933792252, 0.44171492474205276, 0.11624076966896126, 0.046496307867584505, 0.8411392987248819, 0.3476399480968764, 0.15801815822585294, 0.12641452658068233, 0.12641452658068233, 0.2212254215161941, 0.6332919595464348, 0.33697092079012175, 0.22464728052674782, 0.11232364026337391, 0.33697092079012175, 0.1843324611525638, 0.3686649223051276, 0.3686649223051276, 0.6316283870510799, 0.33309727587575994, 0.6661945517515199, 0.29404457168399944, 0.11761782867359977, 0.29404457168399944, 0.23523565734719953, 0.669896613511894, 0.8442935388878131, 0.47046730402962966, 0.18818692161185188, 0.37637384322370376, 0.709332839876003, 0.15420279127739198, 0.09252167476643518, 0.030840558255478392, 0.7965474387193577, 0.14935264475987958, 0.04978421491995986, 0.12652873558053093, 0.6326436779026547, 0.12652873558053093, 0.12652873558053093, 0.6699010168790446, 0.421743118405978, 0.421743118405978, 0.43995726580143174, 0.43995726580143174, 0.6698982426541481, 0.9496975626474295, 0.3102757941789581, 0.6205515883579162, 0.6332920218455221, 0.43123446081258243, 0.21561723040629122, 0.1437448202708608, 0.21561723040629122, 0.1957270148781431, 0.3914540297562862, 0.13048467658542873, 0.26096935317085745, 0.22709645078357582, 0.6812893523507275, 0.4356296463205865, 0.29041976421372434, 0.21781482316029324, 0.07260494105343109, 0.6425147900387009, 0.21417159667956698, 0.8449546021747352, 0.16499756015894762, 0.5774914605563167, 0.08249878007947381, 0.16499756015894762, 0.8697206529687177, 0.03221187603587843, 0.06442375207175687, 0.501313378850223, 0.167104459616741, 0.2506566894251115, 0.7170279818514107, 0.23900932728380356, 0.7573333299373963, 0.2524444433124654, 0.16518481038992877, 0.16518481038992877, 0.16518481038992877, 0.4955544311697863, 0.7506182022319966, 0.25020606741066553, 0.8413014411060842, 0.6332920199972285, 0.4251859282251874, 0.330700166397368, 0.14172864274172914, 0.14172864274172914, 0.7901353185378003, 0.8004973609940752, 0.2001243402485188, 0.6839052115787682, 0.17097630289469204, 0.7172658121063828, 0.11954430201773047, 0.11954430201773047, 0.039848100672576825, 0.8004438570342536, 0.800452213552264, 0.6698995148360434, 0.7565732892893924, 0.4676147004394558, 0.18704588017578233, 0.28056882026367347, 0.8004548109469082, 0.6332921947896426, 0.589699945696993, 0.19078527654902713, 0.034688232099823114, 0.10406469629946935, 0.06937646419964623, 0.6135775788311549, 0.1554396533038926, 0.11453448138181559, 0.1063534469974002, 0.3248682081469223, 0.25989456651753784, 0.06497364162938446, 0.25989456651753784, 0.06497364162938446, 0.2739883790079612, 0.41098256851194176, 0.1369941895039806, 0.1369941895039806, 0.11936684249264527, 0.4774673699705811, 0.3581005274779358, 0.22434947258299404, 0.673048417748982, 0.8339304767403514, 0.6248422799997179, 0.20828075999990595, 0.6051157196657452, 0.12102314393314904, 0.18153471589972356, 0.18153471589972356, 0.49122231369415453, 0.05458025707712828, 0.21832102830851313, 0.21832102830851313, 0.7911855229510452, 0.09889819036888065, 0.5457475673368037, 0.32102798078635514, 0.09630839423590655, 0.06420559615727103, 0.6332921441487569, 0.8339383861040508, 0.176844584906207, 0.530533754718621, 0.176844584906207, 0.6332921555484251, 0.45071439521299345, 0.2790136732270912, 0.15023813173766448, 0.06438777074471334, 0.04292518049647556, 0.14256745537273066, 0.14256745537273066, 0.42770236611819196, 0.2851349107454613, 0.8339624001880418, 0.6698967825590487, 0.76796168816413, 0.25598722938804336, 0.5245631024923383, 0.10491262049846765, 0.31473786149540295, 0.6698970561796477, 0.9515489756694631, 0.833910725365891, 0.910552289353767, 0.2918696432465937, 0.2918696432465937, 0.1945797621643958, 0.1945797621643958, 0.38733021816154073, 0.04841627727019259, 0.19366510908077036, 0.14524883181057777, 0.19366510908077036, 0.1769469484181132, 0.5308408452543396, 0.1769469484181132, 0.3587949979337801, 0.5381924969006702, 0.3888815492170235, 0.12962718307234117, 0.12962718307234117, 0.3888815492170235, 0.9497581085029376, 0.6332921494555399, 0.8339090283738303, 0.6698982784511961, 0.6316283755357615, 0.8413178208878405, 0.7506032916938074, 0.2502010972312691, 0.2261402929527081, 0.6784208788581243, 0.13842167943988298, 0.27684335887976597, 0.41526503831964895, 0.20763251915982447, 0.17602803453822752, 0.7041121381529101, 0.8004533007700996, 0.8339489169449389, 0.8339090876470038, 0.6938224082888204, 0.1734556020722051, 0.3100701124841378, 0.6201402249682756, 0.24646503197333886, 0.7393950959200165, 0.8339102445728169, 0.3915511277147943, 0.22374350155131104, 0.33561525232696654, 0.05593587538782776, 0.1307324388758061, 0.3921973166274183, 0.3921973166274183, 0.06536621943790305, 0.8413115028596829, 0.8004473229019049, 0.841328035203293, 0.10691910969481458, 0.21383821938962916, 0.21383821938962916, 0.21383821938962916, 0.21383821938962916, 0.6699012784704745, 0.12366326303170616, 0.741979578190237, 0.833909052845241, 0.8441425235134211, 0.4213458979373883, 0.6320188469060825, 0.09537002572034846, 0.7629602057627877, 0.09537002572034846, 0.8408038775350404, 0.5625918517219498, 0.05114471379290453, 0.30686828275742717, 0.10228942758580906, 0.05474787369595337, 0.21899149478381347, 0.4927308632635803, 0.16424362108786011, 0.05474787369595337, 0.4596520105109183, 0.11491300262772958, 0.22982600525545915, 0.22982600525545915, 0.4291729622500412, 0.3065521158928866, 0.24524169271430926, 0.061310423178577315, 0.8339089016906501, 0.8339109596129891, 0.8004590488475039, 0.4259686116964773, 0.21298430584823866, 0.4259686116964773, 0.8004483401216423, 0.6290746672380378, 0.8442883854784508, 0.8442754096318532, 0.7481808074799582, 0.11350890351535332, 0.22701780703070665, 0.5675445175767666, 0.11350890351535332, 0.17779711051124322, 0.17779711051124322, 0.5333913315337296, 0.8004519631758964, 0.9506124827577012], \"Term\": [\"absolutely\", \"acc\", \"actually\", \"addressing\", \"adequate\", \"aforementioned\", \"ago\", \"already\", \"also\", \"also\", \"also\", \"also\", \"amazed\", \"amazing\", \"amazing\", \"amazing\", \"amazing\", \"anything\", \"appears\", \"apple\", \"apple\", \"apple\", \"apply\", \"approximately\", \"arrived\", \"attached\", \"attaching\", \"awesome\", \"awesome\", \"awesome\", \"back\", \"back\", \"back\", \"back\", \"backup\", \"backup\", \"backup\", \"backup\", \"based\", \"batter\", \"battery\", \"battery\", \"battery\", \"battery\", \"battery\", \"bessel\", \"best\", \"best\", \"best\", \"best\", \"best\", \"bettary\", \"better\", \"better\", \"better\", \"better\", \"bettery\", \"bezel\", \"bit\", \"bit\", \"bit\", \"blowing\", \"blur\", \"brand\", \"brand\", \"brilliance\", \"build\", \"build\", \"built\", \"built\", \"buttery\", \"button\", \"buy\", \"buy\", \"buy\", \"camera\", \"camera\", \"camera\", \"camera\", \"camera\", \"celsius\", \"change\", \"charge\", \"charge\", \"charge\", \"charger\", \"charger\", \"charger\", \"charging\", \"charging\", \"charging\", \"class\", \"class\", \"class\", \"classic\", \"color\", \"colour\", \"colour\", \"colour\", \"colour\", \"colour\", \"comfort\", \"compare\", \"compromise\", \"consequently\", \"contribution\", \"curve\", \"curved\", \"curved\", \"cut\", \"dark\", \"day\", \"day\", \"day\", \"day\", \"day\", \"decent\", \"degree\", \"design\", \"design\", \"design\", \"detection\", \"discharge\", \"display\", \"display\", \"display\", \"display\", \"display\", \"drain\", \"drain\", \"drain\", \"drain\", \"drain\", \"drawback\", \"drawback\", \"drawback\", \"dream\", \"driver\", \"earlier\", \"early\", \"easy\", \"edge\", \"elevated\", \"even\", \"even\", \"even\", \"even\", \"every\", \"every\", \"everyone\", \"everything\", \"everything\", \"everything\", \"everything\", \"excellent\", \"excellent\", \"excellent\", \"except\", \"except\", \"except\", \"expected\", \"expected\", \"expected\", \"experiencing\", \"eye\", \"faceid\", \"fall\", \"fast\", \"fast\", \"fast\", \"fast\", \"fast\", \"faster\", \"faster\", \"faster\", \"fe\", \"fe\", \"fe\", \"fe\", \"feel\", \"feel\", \"feel\", \"feel\", \"feel\", \"feeling\", \"feeling\", \"finest\", \"first\", \"first\", \"first\", \"first\", \"first\", \"flipkart\", \"flipkart\", \"flipkart\", \"flipkart\", \"foremost\", \"friend\", \"frst\", \"fully\", \"future\", \"galaxy\", \"galaxy\", \"galaxy\", \"giving\", \"go\", \"go\", \"go\", \"go\", \"go\", \"good\", \"good\", \"good\", \"good\", \"good\", \"gorgeous\", \"great\", \"great\", \"great\", \"great\", \"great\", \"green\", \"guard\", \"gud\", \"heating\", \"heating\", \"heating\", \"heating\", \"heating\", \"heavy\", \"heavy\", \"high\", \"high\", \"high\", \"hope\", \"hyped\", \"image\", \"image\", \"initialization\", \"io\", \"iphone\", \"iphone\", \"iphone\", \"iphone\", \"iphone\", \"iphones\", \"issue\", \"issue\", \"issue\", \"issue\", \"issue\", \"keep\", \"last\", \"last\", \"last\", \"last\", \"le\", \"le\", \"le\", \"led\", \"level\", \"level\", \"like\", \"like\", \"like\", \"like\", \"limited\", \"lite\", \"little\", \"little\", \"little\", \"look\", \"look\", \"look\", \"look\", \"love\", \"love\", \"love\", \"loved\", \"loved\", \"loved\", \"loved\", \"lover\", \"magic\", \"magic\", \"major\", \"major\", \"may\", \"mind\", \"minute\", \"minute\", \"miss\", \"mobile\", \"mobile\", \"mobile\", \"mobile\", \"mode\", \"mode\", \"mode\", \"mode\", \"mp\", \"mp\", \"much\", \"much\", \"much\", \"much\", \"must\", \"must\", \"n\", \"need\", \"need\", \"need\", \"need\", \"nice\", \"nice\", \"nice\", \"night\", \"night\", \"night\", \"normal\", \"normal\", \"notch\", \"notch\", \"note\", \"note\", \"note\", \"note\", \"nothing\", \"nothing\", \"notice\", \"number\", \"one\", \"one\", \"one\", \"one\", \"osm\", \"otherwise\", \"otherwise\", \"outstanding\", \"outstanding\", \"overall\", \"overall\", \"overall\", \"overall\", \"overheating\", \"panel\", \"pathetic\", \"penny\", \"perfect\", \"perfect\", \"perfect\", \"perfectly\", \"perform\", \"performance\", \"performance\", \"performance\", \"performance\", \"performance\", \"phone\", \"phone\", \"phone\", \"phone\", \"photo\", \"photo\", \"photo\", \"photo\", \"photo\", \"pixel\", \"pixel\", \"pixel\", \"pixel\", \"plus\", \"plus\", \"plus\", \"point\", \"point\", \"policy\", \"portrait\", \"portrait\", \"premium\", \"premium\", \"premium\", \"premium\", \"price\", \"price\", \"price\", \"price\", \"problem\", \"problem\", \"product\", \"product\", \"product\", \"product\", \"promised\", \"puc\", \"purple\", \"purple\", \"purple\", \"put\", \"quality\", \"quality\", \"quality\", \"quality\", \"quality\", \"quickly\", \"quickly\", \"quickly\", \"quickly\", \"r\", \"reaching\", \"real\", \"real\", \"redmi\", \"redmi\", \"redmi\", \"regrettably\", \"regular\", \"required\", \"resistance\", \"review\", \"review\", \"review\", \"review\", \"samsung\", \"samsung\", \"samsung\", \"samsung\", \"samsung\", \"satisfied\", \"satisfied\", \"satisfied\", \"say\", \"say\", \"screen\", \"screen\", \"screen\", \"screen\", \"see\", \"shape\", \"shoot\", \"showing\", \"slowmotion\", \"smaller\", \"smart\", \"smart\", \"smartphone\", \"smartphone\", \"smooth\", \"smooth\", \"smooth\", \"smooth\", \"software\", \"software\", \"solid\", \"soooo\", \"sot\", \"speaker\", \"speaker\", \"star\", \"star\", \"still\", \"still\", \"stock\", \"super\", \"super\", \"super\", \"super\", \"superb\", \"superb\", \"superb\", \"superb\", \"superfast\", \"technology\", \"temper\", \"thing\", \"thing\", \"thing\", \"thing\", \"thing\", \"truly\", \"u\", \"u\", \"ultrawide\", \"unbeatable\", \"unique\", \"unique\", \"update\", \"update\", \"update\", \"upgraded\", \"use\", \"use\", \"use\", \"use\", \"using\", \"using\", \"using\", \"using\", \"using\", \"value\", \"value\", \"value\", \"value\", \"video\", \"video\", \"video\", \"video\", \"videography\", \"waiting\", \"wanted\", \"water\", \"water\", \"water\", \"waterproof\", \"weight\", \"wifi\", \"working\", \"worst\", \"worth\", \"worth\", \"worth\", \"worth\", \"wow\", \"wow\", \"wow\", \"z\", \"zooming\"]}, \"R\": 30, \"lambda.step\": 0.01, \"plot.opts\": {\"xlab\": \"PC1\", \"ylab\": \"PC2\"}, \"topic.order\": [3, 2, 5, 1, 4]};\n",
       "\n",
       "function LDAvis_load_lib(url, callback){\n",
       "  var s = document.createElement('script');\n",
       "  s.src = url;\n",
       "  s.async = true;\n",
       "  s.onreadystatechange = s.onload = callback;\n",
       "  s.onerror = function(){console.warn(\"failed to load library \" + url);};\n",
       "  document.getElementsByTagName(\"head\")[0].appendChild(s);\n",
       "}\n",
       "\n",
       "if(typeof(LDAvis) !== \"undefined\"){\n",
       "   // already loaded: just create the visualization\n",
       "   !function(LDAvis){\n",
       "       new LDAvis(\"#\" + \"ldavis_el50961398336342462089647725441\", ldavis_el50961398336342462089647725441_data);\n",
       "   }(LDAvis);\n",
       "}else if(typeof define === \"function\" && define.amd){\n",
       "   // require.js is available: use it to load d3/LDAvis\n",
       "   require.config({paths: {d3: \"https://d3js.org/d3.v5\"}});\n",
       "   require([\"d3\"], function(d3){\n",
       "      window.d3 = d3;\n",
       "      LDAvis_load_lib(\"https://cdn.jsdelivr.net/gh/bmabey/pyLDAvis@3.4.0/pyLDAvis/js/ldavis.v3.0.0.js\", function(){\n",
       "        new LDAvis(\"#\" + \"ldavis_el50961398336342462089647725441\", ldavis_el50961398336342462089647725441_data);\n",
       "      });\n",
       "    });\n",
       "}else{\n",
       "    // require.js not available: dynamically load d3 & LDAvis\n",
       "    LDAvis_load_lib(\"https://d3js.org/d3.v5.js\", function(){\n",
       "         LDAvis_load_lib(\"https://cdn.jsdelivr.net/gh/bmabey/pyLDAvis@3.4.0/pyLDAvis/js/ldavis.v3.0.0.js\", function(){\n",
       "                 new LDAvis(\"#\" + \"ldavis_el50961398336342462089647725441\", ldavis_el50961398336342462089647725441_data);\n",
       "            })\n",
       "         });\n",
       "}\n",
       "</script>"
      ],
      "text/plain": [
       "PreparedData(topic_coordinates=              x         y  topics  cluster       Freq\n",
       "topic                                                \n",
       "2     -0.038230  0.127734       1        1  37.494816\n",
       "1     -0.007515 -0.140004       2        1  18.479221\n",
       "4     -0.129257 -0.020835       3        1  17.977025\n",
       "0      0.030214  0.006363       4        1  16.162859\n",
       "3      0.144788  0.026742       5        1   9.886079, topic_info=            Term        Freq       Total Category  logprob  loglift\n",
       "216    excellent   29.000000   29.000000  Default  30.0000  30.0000\n",
       "20          good  131.000000  131.000000  Default  29.0000  29.0000\n",
       "441       iphone   43.000000   43.000000  Default  28.0000  28.0000\n",
       "66          nice   31.000000   31.000000  Default  27.0000  27.0000\n",
       "93       awesome   39.000000   39.000000  Default  26.0000  26.0000\n",
       "..           ...         ...         ...      ...      ...      ...\n",
       "84         drain    2.422401   15.049878   Topic5  -5.1666   0.4874\n",
       "88   performance    3.570734   57.656441   Topic5  -4.7786  -0.4677\n",
       "82        better    2.197172   11.668029   Topic5  -5.2642   0.6444\n",
       "66          nice    2.284396   31.044451   Topic5  -5.2253  -0.2953\n",
       "34       quality    2.353794   46.592699   Topic5  -5.1954  -0.6714\n",
       "\n",
       "[345 rows x 6 columns], token_table=      Topic      Freq        Term\n",
       "term                             \n",
       "893       2  0.833924  absolutely\n",
       "845       1  0.894637         acc\n",
       "108       1  0.800453    actually\n",
       "462       5  0.669897  addressing\n",
       "463       5  0.669897    adequate\n",
       "...     ...       ...         ...\n",
       "162       1  0.177797         wow\n",
       "162       2  0.177797         wow\n",
       "162       3  0.533391         wow\n",
       "740       1  0.800452           z\n",
       "226       1  0.950612     zooming\n",
       "\n",
       "[527 rows x 3 columns], R=30, lambda_step=0.01, plot_opts={'xlab': 'PC1', 'ylab': 'PC2'}, topic_order=[3, 2, 5, 1, 4])"
      ]
     },
     "execution_count": 10,
     "metadata": {},
     "output_type": "execute_result"
    }
   ],
   "source": [
    "import pyLDAvis\n",
    "import pyLDAvis.gensim\n",
    "\n",
    "pyLDAvis.enable_notebook()\n",
    "vis = pyLDAvis.gensim.prepare(lda_model, corpus, dictionary, mds=\"mmds\", R=30)\n",
    "vis"
   ]
  },
  {
   "cell_type": "code",
   "execution_count": 11,
   "metadata": {
    "colab": {
     "base_uri": "https://localhost:8080/"
    },
    "id": "Nl6CF1QJq62q",
    "outputId": "bc142335-daff-40c9-86b1-574de2765c1e"
   },
   "outputs": [
    {
     "name": "stdout",
     "output_type": "stream",
     "text": [
      "Topic 0: ['camera', 'battery', 'phone', 'awesome', 'good', 'display', 'design', 'better', 'performance', 'day']\n",
      "Topic 1: ['camera', 'phone', 'best', 'battery', 'quality', 'performance', 'day', 'awesome', 'one', 'go']\n",
      "Topic 2: ['good', 'phone', 'camera', 'battery', 'performance', 'display', 'nice', 'best', 'look', 'quality']\n",
      "Topic 3: ['camera', 'issue', 'good', 'battery', 'mobile', 'display', 'go', 'price', 'samsung', 'back']\n",
      "Topic 4: ['excellent', 'iphone', 'phone', 'display', 'camera', 'product', 'using', 'battery', 'day', 'quality']\n"
     ]
    },
    {
     "name": "stderr",
     "output_type": "stream",
     "text": [
      "/usr/local/lib/python3.10/dist-packages/ipykernel/ipkernel.py:283: DeprecationWarning: `should_run_async` will not call `transform_cell` automatically in the future. Please pass the result to `transformed_cell` argument and any exception that happen during thetransform in `preprocessing_exc_tuple` in IPython 7.17 and above.\n",
      "  and should_run_async(code)\n"
     ]
    }
   ],
   "source": [
    "\n",
    "num_words = 10\n",
    "topics = lda_model.show_topics(num_topics=num_topics, num_words=num_words, formatted=False)\n",
    "\n",
    "# Print topics and their top words\n",
    "for topic_id, topic_words in topics:\n",
    "    print(f\"Topic {topic_id}: {[word for word, _ in topic_words]}\")\n"
   ]
  },
  {
   "cell_type": "code",
   "execution_count": 12,
   "metadata": {
    "colab": {
     "base_uri": "https://localhost:8080/"
    },
    "id": "viCY9ObTteat",
    "outputId": "b29e430a-2f18-4cff-83c2-27e9981d042b"
   },
   "outputs": [
    {
     "name": "stderr",
     "output_type": "stream",
     "text": [
      "/usr/local/lib/python3.10/dist-packages/ipykernel/ipkernel.py:283: DeprecationWarning: `should_run_async` will not call `transform_cell` automatically in the future. Please pass the result to `transformed_cell` argument and any exception that happen during thetransform in `preprocessing_exc_tuple` in IPython 7.17 and above.\n",
      "  and should_run_async(code)\n"
     ]
    },
    {
     "name": "stdout",
     "output_type": "stream",
     "text": [
      "(0, '0.036*\"phone\" + 0.031*\"battery\" + 0.031*\"camera\" + 0.020*\"quality\" + 0.019*\"best\"')\n",
      "(1, '0.037*\"nice\" + 0.029*\"camera\" + 0.026*\"good\" + 0.019*\"mobile\" + 0.018*\"display\"')\n",
      "(2, '0.041*\"camera\" + 0.028*\"good\" + 0.027*\"phone\" + 0.022*\"iphone\" + 0.018*\"battery\"')\n",
      "(3, '0.062*\"good\" + 0.027*\"phone\" + 0.020*\"camera\" + 0.019*\"battery\" + 0.018*\"performance\"')\n"
     ]
    }
   ],
   "source": [
    "# Set the number of topics\n",
    "num_topics = 4\n",
    "\n",
    "# Train the LDA model\n",
    "lda_model1 = gensim.models.ldamodel.LdaModel(corpus, num_topics=num_topics, id2word=dictionary, passes=15)\n",
    "\n",
    "# Print the topics\n",
    "topics = lda_model1.print_topics(num_words=5)\n",
    "for topic in topics:\n",
    "    print(topic)"
   ]
  },
  {
   "cell_type": "code",
   "execution_count": 13,
   "metadata": {
    "colab": {
     "base_uri": "https://localhost:8080/",
     "height": 951
    },
    "id": "w3N6UtnWteOZ",
    "outputId": "9fdcec4f-4ef0-44d1-85f4-b74c86e0e974"
   },
   "outputs": [
    {
     "name": "stderr",
     "output_type": "stream",
     "text": [
      "/usr/local/lib/python3.10/dist-packages/ipykernel/ipkernel.py:283: DeprecationWarning: `should_run_async` will not call `transform_cell` automatically in the future. Please pass the result to `transformed_cell` argument and any exception that happen during thetransform in `preprocessing_exc_tuple` in IPython 7.17 and above.\n",
      "  and should_run_async(code)\n",
      "/usr/local/lib/python3.10/dist-packages/sklearn/manifold/_mds.py:298: FutureWarning: The default value of `normalized_stress` will change to `'auto'` in version 1.4. To suppress this warning, manually set the value of `normalized_stress`.\n",
      "  warnings.warn(\n"
     ]
    },
    {
     "data": {
      "text/html": [
       "\n",
       "<link rel=\"stylesheet\" type=\"text/css\" href=\"https://cdn.jsdelivr.net/gh/bmabey/pyLDAvis@3.4.0/pyLDAvis/js/ldavis.v1.0.0.css\">\n",
       "\n",
       "\n",
       "<div id=\"ldavis_el50961398336311862082679812102\" style=\"background-color:white;\"></div>\n",
       "<script type=\"text/javascript\">\n",
       "\n",
       "var ldavis_el50961398336311862082679812102_data = {\"mdsDat\": {\"x\": [-0.08210106468019102, -0.059692349905373344, 0.055443048961612035, 0.08635036562395232], \"y\": [-0.05112150385838769, 0.07239605859080464, -0.08760367281253205, 0.0663291180801151], \"topics\": [1, 2, 3, 4], \"cluster\": [1, 1, 1, 1], \"Freq\": [33.405282212775205, 31.337597004876827, 20.356387541326303, 14.900733241021664]}, \"tinfo\": {\"Term\": [\"nice\", \"good\", \"love\", \"super\", \"mobile\", \"iphone\", \"charger\", \"excellent\", \"look\", \"flipkart\", \"best\", \"heating\", \"also\", \"product\", \"come\", \"samsung\", \"awesome\", \"quality\", \"display\", \"overall\", \"back\", \"even\", \"review\", \"time\", \"buy\", \"expected\", \"galaxy\", \"redmi\", \"osm\", \"build\", \"review\", \"fantastic\", \"wide\", \"beautiful\", \"click\", \"mind\", \"blowing\", \"blur\", \"extraordinary\", \"thanks\", \"pixel\", \"look\", \"else\", \"wanted\", \"stock\", \"frst\", \"z\", \"writing\", \"exynos\", \"finest\", \"improvement\", \"cinematic\", \"wow\", \"edge\", \"honest\", \"zoom\", \"angle\", \"amount\", \"location\", \"classic\", \"iphone\", \"night\", \"loved\", \"little\", \"mode\", \"bit\", \"beat\", \"portrait\", \"class\", \"without\", \"great\", \"thank\", \"using\", \"update\", \"get\", \"plus\", \"never\", \"camera\", \"design\", \"awesome\", \"much\", \"amazing\", \"display\", \"phone\", \"good\", \"premium\", \"best\", \"performance\", \"battery\", \"day\", \"heating\", \"feel\", \"go\", \"also\", \"issue\", \"excellent\", \"product\", \"quality\", \"heated\", \"weight\", \"dark\", \"dslr\", \"minute\", \"vibrant\", \"capture\", \"detailed\", \"handle\", \"bettary\", \"support\", \"age\", \"magic\", \"crisp\", \"requires\", \"major\", \"level\", \"r\", \"reliable\", \"ultrawide\", \"compromise\", \"soooo\", \"shoot\", \"dont\", \"attaching\", \"sot\", \"faceid\", \"puc\", \"comfort\", \"lite\", \"satisfied\", \"beast\", \"apple\", \"twice\", \"quality\", \"heating\", \"use\", \"photo\", \"best\", \"battery\", \"issue\", \"even\", \"drain\", \"normal\", \"take\", \"phone\", \"day\", \"charging\", \"every\", \"thing\", \"awesome\", \"camera\", \"charge\", \"one\", \"love\", \"give\", \"fast\", \"superb\", \"like\", \"super\", \"go\", \"everything\", \"performance\", \"backup\", \"display\", \"time\", \"good\", \"feel\", \"mobile\", \"overall\", \"design\", \"osm\", \"zooming\", \"io\", \"buttery\", \"switch\", \"early\", \"fall\", \"bettery\", \"temper\", \"doubt\", \"button\", \"amazed\", \"upgrade\", \"green\", \"policy\", \"face\", \"absolutely\", \"smaller\", \"gorgeous\", \"spec\", \"stand\", \"say\", \"though\", \"around\", \"must\", \"expected\", \"power\", \"nothing\", \"case\", \"saving\", \"good\", \"excellent\", \"buy\", \"overall\", \"also\", \"price\", \"product\", \"performance\", \"device\", \"phone\", \"range\", \"battery\", \"even\", \"smooth\", \"camera\", \"samsung\", \"display\", \"one\", \"side\", \"feel\", \"quality\", \"go\", \"issue\", \"video\", \"really\", \"day\", \"iphone\", \"look\", \"superb\", \"nice\", \"gud\", \"acc\", \"dream\", \"choice\", \"finally\", \"bessel\", \"resistance\", \"charger\", \"true\", \"friend\", \"initialization\", \"already\", \"showing\", \"may\", \"p\", \"gang\", \"done\", \"hyper\", \"met\", \"parameter\", \"tweak\", \"according\", \"bt\", \"round\", \"thanku\", \"fingerprint\", \"response\", \"proformance\", \"heatting\", \"galaxy\", \"super\", \"love\", \"come\", \"mobile\", \"note\", \"back\", \"fine\", \"series\", \"curved\", \"flipkart\", \"sale\", \"build\", \"delivered\", \"redmi\", \"le\", \"n\", \"samsung\", \"time\", \"average\", \"display\", \"camera\", \"good\", \"really\", \"ever\", \"product\", \"fe\", \"quality\", \"iphone\", \"battery\", \"happy\", \"phone\", \"best\", \"performance\", \"fast\", \"charging\", \"overall\", \"everything\"], \"Freq\": [27.0, 125.0, 18.0, 17.0, 27.0, 43.0, 11.0, 29.0, 32.0, 15.0, 53.0, 24.0, 25.0, 30.0, 10.0, 20.0, 39.0, 46.0, 53.0, 23.0, 11.0, 12.0, 10.0, 14.0, 12.0, 7.0, 6.0, 9.0, 4.0, 7.0, 9.419771949583566, 3.5578443521482024, 3.557755806865516, 3.547562741229182, 2.721894185636767, 2.7217525131844686, 2.7217373101264983, 2.720027884970939, 2.715860409354694, 5.23491673207938, 5.923226327173096, 25.06132754463506, 1.88432480991817, 1.884259152755725, 1.8842489616948876, 1.884200679455838, 1.8841854763978674, 1.883987001311393, 1.8839587670608762, 1.8839454017351875, 1.883927358545508, 1.8836837754848352, 4.393541412804412, 1.8835190478457244, 1.8834906465286365, 1.8833249164900991, 1.8833521483411892, 1.8833093792989861, 1.883090522090837, 1.8828502803615863, 31.780033999201386, 9.288966843602793, 6.074170305901299, 7.6834196723599035, 10.887861423984234, 5.276625569822337, 3.5547435965884704, 3.558883840353625, 3.5572348932968065, 3.5413819463645355, 15.039716315830946, 5.4176681811473575, 11.325950737668142, 6.900522999102394, 6.895494295312097, 5.769303217348926, 3.45557488477866, 59.13310859351312, 13.965510340399478, 19.821355378114003, 8.218002627917071, 10.982040191448242, 21.789763122604235, 38.439029524721775, 39.70269166485286, 8.861272411973113, 19.63969654442106, 18.84165027449564, 25.502450118983973, 12.873679509982585, 9.252814305881687, 8.579006089159993, 8.592407501227852, 8.791452618842678, 9.128333672016712, 8.666291021633874, 8.20797930191698, 7.304354309981544, 2.6771482169968968, 2.676988356824429, 2.676949488860927, 2.67659936373809, 2.6762254163150416, 2.6733451121487484, 2.5658060770498343, 2.535910970993023, 2.477214703981192, 1.8538031309118563, 1.8537605015325314, 1.8537509412673152, 1.8534959486196627, 1.8534031670293674, 1.8534061448168937, 1.8533953307464033, 2.46974296490056, 1.853283585351335, 1.8531676083634658, 1.8530887753568468, 1.8530886186311875, 1.8530647963309765, 1.8530521015525747, 1.8530342348274165, 1.8530209131463775, 1.8529916054480917, 1.8529516404049746, 1.852888636689943, 1.8528554108501751, 1.8525932088221957, 4.323281386173888, 4.292320859085275, 6.89330792850254, 3.508762775768317, 26.665173274569764, 14.298684976676034, 11.537121185076417, 9.25126051807049, 26.223813757145958, 41.92235100784329, 17.035857240470204, 7.649268503927767, 8.912959405872373, 5.151049583815198, 4.24646857330296, 48.001102398330715, 16.584582630937554, 9.26500974670802, 4.871587985881497, 5.55714770860836, 16.998061280477646, 41.72271010163347, 7.617136609261676, 10.115125456106417, 8.915998002954542, 5.983442128759297, 10.278046167248998, 7.487176558071472, 7.972122735147004, 7.970453920326964, 9.215380999439637, 6.483034632146094, 15.858930290407006, 6.661670538596245, 11.600371899746996, 6.4754014656364, 14.637142187630797, 7.304240726433247, 7.758609100480133, 7.031432759638723, 6.9178097911721235, 4.073661747086561, 3.314341282942745, 2.538389520001955, 2.5360795325525887, 2.517009766616469, 1.7572649733545849, 1.757163574169941, 1.7571055445160786, 1.7567901482570156, 1.7567349691826413, 1.7565918293697806, 1.756319395415858, 1.7561729977978682, 1.7559724391696068, 1.7559897462593552, 1.755795703241352, 1.755501686328449, 1.753849368289524, 1.7516542184709594, 1.7479103895391397, 1.7475913282493065, 4.097431914985538, 1.738621776277559, 1.7204633813263104, 3.317705373964202, 4.897214115220194, 2.5384337039840186, 2.538371398460924, 2.537724316917153, 0.9764677343162811, 54.39886588188865, 14.31653540528867, 6.439648016042708, 10.134286533766515, 10.759225590526473, 7.879835702887815, 10.566418095118529, 15.75912735231907, 5.538422650794974, 23.828375103219003, 4.638247113250099, 16.718376670270263, 4.845950108159657, 5.179544059448127, 17.33232307807329, 5.666800126938686, 8.886014518175253, 5.491582743099781, 3.3069996154714545, 4.417669679695902, 5.257980604639366, 4.1450215250860705, 4.451334208997656, 3.677929235216554, 3.3025022154907053, 4.101249248145584, 3.9079807733118703, 3.5500978486576105, 3.4558980061234883, 23.94444181613233, 2.4180049839510347, 2.416272208173776, 1.6735733004032447, 1.673559290346212, 1.6735048895928404, 1.6732606078537275, 1.6729422516641332, 7.984515124113464, 2.4188545299625925, 0.930005918139845, 0.9300057690966851, 0.9300050984024655, 0.9300048748377255, 0.9300039805787661, 0.9300007761508278, 0.9299969010286697, 0.9299951125107506, 0.9299890762627738, 0.9299876603527546, 0.9299838597521766, 0.9299821457558374, 0.9299766311589203, 0.9299762585510205, 0.9299649312708663, 0.9299443633147971, 0.9299166412870515, 0.929896445938882, 0.9298776665007318, 0.9298596322783812, 3.4703465710573282, 8.732623553373381, 9.418849262633504, 5.053137831794982, 11.906618070794709, 3.0916580084127423, 5.368198975209723, 1.675002177177421, 1.6749526948483269, 1.673724728253726, 6.60304540207263, 1.680562679387807, 3.3468985929883783, 1.6750863865627772, 3.926457391641539, 2.4222799889070896, 2.4287109031714227, 6.250000907437977, 4.664517927232125, 2.7898596196268572, 11.559184156872176, 18.294414745134727, 16.52731253962852, 3.6577847394073735, 2.7980745805154617, 6.532720281322192, 3.3327105784227227, 6.838035790595926, 6.141430119506165, 8.393402513735213, 3.222126515486678, 9.19580557763695, 6.182445604771537, 6.019056146447616, 4.325699304125748, 3.755873023815522, 3.78241075461235, 3.17624059784136], \"Total\": [27.0, 125.0, 18.0, 17.0, 27.0, 43.0, 11.0, 29.0, 32.0, 15.0, 53.0, 24.0, 25.0, 30.0, 10.0, 20.0, 39.0, 46.0, 53.0, 23.0, 11.0, 12.0, 10.0, 14.0, 12.0, 7.0, 6.0, 9.0, 4.0, 7.0, 10.792951103260389, 4.1469592891950535, 4.146987034503207, 4.146440266812512, 3.309389531691474, 3.30936571246039, 3.309364691355214, 3.309356692795449, 3.308914740163793, 6.566327835318125, 7.4809826266821435, 32.32828544890778, 2.471777906204554, 2.4717742323818785, 2.471770788208998, 2.471754950576134, 2.4717538524849747, 2.471781575617861, 2.4717748544503335, 2.4717668053750415, 2.4717645608757266, 2.4717729346871513, 5.765505703448892, 2.4717608530347523, 2.471757225714156, 2.4716586261738374, 2.471768627719825, 2.471729073179537, 2.4717413721604498, 2.471514133389391, 43.31508706794969, 12.479939727051072, 8.227765456965754, 10.804500557113663, 15.716556982369617, 7.425143218276971, 4.890734414445196, 4.928164556485573, 4.928035960911699, 4.927764782645482, 24.634069005787225, 8.112084086939392, 18.77420055051563, 10.711692027319257, 10.791968115356202, 8.90865526909875, 4.96367137890248, 136.48255651835458, 25.3803325143488, 39.59197564061492, 13.926677757912605, 21.23823866570363, 53.83533369739866, 119.46431260390844, 125.26601227400083, 16.464034103365478, 53.15510416834206, 56.47876406366933, 92.53658031083273, 33.74886703492896, 24.011118915187375, 21.222721015467933, 22.140747619102108, 25.90237147221377, 32.6469981465001, 29.825535558890262, 30.16616165592155, 46.0655439797866, 3.2686450549987356, 3.2686273251742217, 3.2686316979194463, 3.2686040504482534, 3.2686013308112813, 3.2686558513256303, 3.2632313090647216, 3.2610896875539317, 3.258099586991502, 2.444625843926275, 2.4446248253274367, 2.4446227325560224, 2.444611623913129, 2.444588251774197, 2.444613137078099, 2.444608443670597, 3.2576027854985528, 2.444572942792758, 2.4445822165238797, 2.4445908387036184, 2.4445908391490625, 2.4446026856123857, 2.444588893365601, 2.4446090251355064, 2.444599971901204, 2.4445856443494414, 2.444597738116826, 2.4445987210492444, 2.4445984983248934, 2.44451872019791, 5.753818181890392, 5.751319939354573, 9.814376692456314, 4.874212655462468, 46.0655439797866, 24.011118915187375, 19.67151630650102, 15.552910569989667, 53.15510416834206, 92.53658031083273, 32.6469981465001, 12.902578407062505, 15.618120893209769, 8.140616520916108, 6.499400502394416, 119.46431260390844, 33.74886703492896, 17.69780926483384, 8.108269890471801, 9.626091745016431, 39.59197564061492, 136.48255651835458, 14.686074118003075, 21.838807514052178, 18.75749726388208, 10.752285484984228, 24.17498425558189, 15.329342678014715, 17.09193610009589, 17.18365187034092, 22.140747619102108, 12.810336692734698, 56.47876406366933, 14.545827234708929, 53.83533369739866, 14.31337464317075, 125.26601227400083, 21.222721015467933, 27.559138431958367, 23.806212391622743, 25.3803325143488, 4.701804020110032, 3.9217356754064614, 3.1406119596327993, 3.1406914489151356, 3.1395941440004327, 2.35929094367906, 2.359257988196596, 2.359293354203294, 2.359317085602518, 2.3593054592022082, 2.3593309161361633, 2.3592610285543154, 2.359291459588949, 2.3591514320037246, 2.359235337529998, 2.3593060613321355, 2.359215355963098, 2.3594870799221237, 2.3596258421171292, 2.3598426315314818, 2.359857166867537, 5.540437590312841, 2.3604558923582237, 2.3617356639723925, 4.759240148498138, 7.158457237503313, 3.884722346515095, 3.9642176173547172, 3.9643601027420545, 1.5779341262794464, 125.26601227400083, 29.825535558890262, 12.882535189443388, 23.806212391622743, 25.90237147221377, 18.31933274885429, 30.16616165592155, 56.47876406366933, 12.825073955957754, 119.46431260390844, 10.307275246826098, 92.53658031083273, 12.902578407062505, 14.615468969137511, 136.48255651835458, 20.475172017038403, 53.83533369739866, 21.838807514052178, 8.72226815629673, 21.222721015467933, 46.0655439797866, 22.140747619102108, 32.6469981465001, 16.255580353973745, 10.993037246527406, 33.74886703492896, 43.31508706794969, 32.32828544890778, 15.329342678014715, 27.92859018966498, 3.029002878758382, 3.0291350768093137, 2.284956454495884, 2.2849601981551064, 2.284964340154438, 2.28497492961674, 2.285000588986034, 11.534811479527278, 3.866296972590875, 1.5407779324819901, 1.5407779945698283, 1.540777887110342, 1.5407780515184872, 1.54077785579772, 1.540777637375824, 1.5407775591937318, 1.5407772028420732, 1.540780124501161, 1.5407802859999182, 1.5407808396708327, 1.5407808393030642, 1.540777081269904, 1.540777115522388, 1.540777080234383, 1.5407744415484832, 1.5407893746431847, 1.5407918637571356, 1.540794070142467, 1.5407729848998237, 6.1692197048950606, 17.18365187034092, 18.75749726388208, 10.067324812929314, 27.559138431958367, 6.167814020611754, 11.788801811673785, 3.066090886715058, 3.066072346380568, 3.066164435533633, 15.764869731711705, 3.1079704828843355, 7.086153688070981, 3.1086107137224586, 9.358364695493076, 5.5004339451356365, 5.540295428841029, 20.475172017038403, 14.31337464317075, 7.066418357255299, 53.83533369739866, 136.48255651835458, 125.26601227400083, 10.993037246527406, 7.12816517595107, 30.16616165592155, 10.231591586605866, 46.0655439797866, 43.31508706794969, 92.53658031083273, 10.406338612285811, 119.46431260390844, 53.15510416834206, 56.47876406366933, 24.17498425558189, 17.69780926483384, 23.806212391622743, 12.810336692734698], \"Category\": [\"Default\", \"Default\", \"Default\", \"Default\", \"Default\", \"Default\", \"Default\", \"Default\", \"Default\", \"Default\", \"Default\", \"Default\", \"Default\", \"Default\", \"Default\", \"Default\", \"Default\", \"Default\", \"Default\", \"Default\", \"Default\", \"Default\", \"Default\", \"Default\", \"Default\", \"Default\", \"Default\", \"Default\", \"Default\", \"Default\", \"Topic1\", \"Topic1\", \"Topic1\", \"Topic1\", \"Topic1\", \"Topic1\", \"Topic1\", \"Topic1\", \"Topic1\", \"Topic1\", \"Topic1\", \"Topic1\", \"Topic1\", \"Topic1\", \"Topic1\", \"Topic1\", \"Topic1\", \"Topic1\", \"Topic1\", \"Topic1\", \"Topic1\", \"Topic1\", \"Topic1\", \"Topic1\", \"Topic1\", \"Topic1\", \"Topic1\", \"Topic1\", \"Topic1\", \"Topic1\", \"Topic1\", \"Topic1\", \"Topic1\", \"Topic1\", \"Topic1\", \"Topic1\", \"Topic1\", \"Topic1\", \"Topic1\", \"Topic1\", \"Topic1\", \"Topic1\", \"Topic1\", \"Topic1\", \"Topic1\", \"Topic1\", \"Topic1\", \"Topic1\", \"Topic1\", \"Topic1\", \"Topic1\", \"Topic1\", \"Topic1\", \"Topic1\", \"Topic1\", \"Topic1\", \"Topic1\", \"Topic1\", \"Topic1\", \"Topic1\", \"Topic1\", \"Topic1\", \"Topic1\", \"Topic1\", \"Topic1\", \"Topic1\", \"Topic1\", \"Topic1\", \"Topic2\", \"Topic2\", \"Topic2\", \"Topic2\", \"Topic2\", \"Topic2\", \"Topic2\", \"Topic2\", \"Topic2\", \"Topic2\", \"Topic2\", \"Topic2\", \"Topic2\", \"Topic2\", \"Topic2\", \"Topic2\", \"Topic2\", \"Topic2\", \"Topic2\", \"Topic2\", \"Topic2\", \"Topic2\", \"Topic2\", \"Topic2\", \"Topic2\", \"Topic2\", \"Topic2\", \"Topic2\", \"Topic2\", \"Topic2\", \"Topic2\", \"Topic2\", \"Topic2\", \"Topic2\", \"Topic2\", \"Topic2\", \"Topic2\", \"Topic2\", \"Topic2\", \"Topic2\", \"Topic2\", \"Topic2\", \"Topic2\", \"Topic2\", \"Topic2\", \"Topic2\", \"Topic2\", \"Topic2\", \"Topic2\", \"Topic2\", \"Topic2\", \"Topic2\", \"Topic2\", \"Topic2\", \"Topic2\", \"Topic2\", \"Topic2\", \"Topic2\", \"Topic2\", \"Topic2\", \"Topic2\", \"Topic2\", \"Topic2\", \"Topic2\", \"Topic2\", \"Topic2\", \"Topic2\", \"Topic2\", \"Topic2\", \"Topic2\", \"Topic2\", \"Topic3\", \"Topic3\", \"Topic3\", \"Topic3\", \"Topic3\", \"Topic3\", \"Topic3\", \"Topic3\", \"Topic3\", \"Topic3\", \"Topic3\", \"Topic3\", \"Topic3\", \"Topic3\", \"Topic3\", \"Topic3\", \"Topic3\", \"Topic3\", \"Topic3\", \"Topic3\", \"Topic3\", \"Topic3\", \"Topic3\", \"Topic3\", \"Topic3\", \"Topic3\", \"Topic3\", \"Topic3\", \"Topic3\", \"Topic3\", \"Topic3\", \"Topic3\", \"Topic3\", \"Topic3\", \"Topic3\", \"Topic3\", \"Topic3\", \"Topic3\", \"Topic3\", \"Topic3\", \"Topic3\", \"Topic3\", \"Topic3\", \"Topic3\", \"Topic3\", \"Topic3\", \"Topic3\", \"Topic3\", \"Topic3\", \"Topic3\", \"Topic3\", \"Topic3\", \"Topic3\", \"Topic3\", \"Topic3\", \"Topic3\", \"Topic3\", \"Topic3\", \"Topic3\", \"Topic4\", \"Topic4\", \"Topic4\", \"Topic4\", \"Topic4\", \"Topic4\", \"Topic4\", \"Topic4\", \"Topic4\", \"Topic4\", \"Topic4\", \"Topic4\", \"Topic4\", \"Topic4\", \"Topic4\", \"Topic4\", \"Topic4\", \"Topic4\", \"Topic4\", \"Topic4\", \"Topic4\", \"Topic4\", \"Topic4\", \"Topic4\", \"Topic4\", \"Topic4\", \"Topic4\", \"Topic4\", \"Topic4\", \"Topic4\", \"Topic4\", \"Topic4\", \"Topic4\", \"Topic4\", \"Topic4\", \"Topic4\", \"Topic4\", \"Topic4\", \"Topic4\", \"Topic4\", \"Topic4\", \"Topic4\", \"Topic4\", \"Topic4\", \"Topic4\", \"Topic4\", \"Topic4\", \"Topic4\", \"Topic4\", \"Topic4\", \"Topic4\", \"Topic4\", \"Topic4\", \"Topic4\", \"Topic4\", \"Topic4\", \"Topic4\", \"Topic4\", \"Topic4\", \"Topic4\", \"Topic4\", \"Topic4\", \"Topic4\", \"Topic4\", \"Topic4\", \"Topic4\", \"Topic4\", \"Topic4\"], \"logprob\": [30.0, 29.0, 28.0, 27.0, 26.0, 25.0, 24.0, 23.0, 22.0, 21.0, 20.0, 19.0, 18.0, 17.0, 16.0, 15.0, 14.0, 13.0, 12.0, 11.0, 10.0, 9.0, 8.0, 7.0, 6.0, 5.0, 4.0, 3.0, 2.0, 1.0, -5.0262, -5.9998, -5.9999, -6.0027, -6.2677, -6.2677, -6.2677, -6.2683, -6.2699, -5.6136, -5.4901, -4.0477, -6.6354, -6.6354, -6.6355, -6.6355, -6.6355, -6.6356, -6.6356, -6.6356, -6.6356, -6.6358, -5.7888, -6.6358, -6.6359, -6.6359, -6.6359, -6.636, -6.6361, -6.6362, -3.8101, -5.0402, -5.4649, -5.2299, -4.8813, -5.6057, -6.0007, -5.9995, -6.0, -6.0045, -4.5583, -5.5793, -4.8419, -5.3374, -5.3381, -5.5164, -6.029, -3.1892, -4.6324, -4.2822, -5.1627, -4.8727, -4.1875, -3.6199, -3.5876, -5.0873, -4.2914, -4.3329, -4.0302, -4.7138, -5.0441, -5.1197, -5.1181, -5.0952, -5.0576, -5.1095, -5.1639, -5.2805, -6.2203, -6.2204, -6.2204, -6.2205, -6.2207, -6.2218, -6.2628, -6.2745, -6.298, -6.5878, -6.5879, -6.5879, -6.588, -6.5881, -6.5881, -6.5881, -6.301, -6.5881, -6.5882, -6.5882, -6.5882, -6.5882, -6.5883, -6.5883, -6.5883, -6.5883, -6.5883, -6.5883, -6.5884, -6.5885, -5.7411, -5.7483, -5.2745, -5.9498, -3.9217, -4.5449, -4.7595, -4.9803, -3.9384, -3.4693, -4.3698, -5.1705, -5.0176, -5.5659, -5.759, -3.3339, -4.3966, -4.9788, -5.6217, -5.49, -4.372, -3.474, -5.1747, -4.8911, -5.0172, -5.4161, -4.8751, -5.1919, -5.1291, -5.1293, -4.9842, -5.3359, -4.4414, -5.3087, -4.7541, -5.3371, -4.5215, -5.2166, -5.1563, -5.2547, -5.271, -5.3691, -5.5754, -5.8421, -5.843, -5.8506, -6.2099, -6.21, -6.21, -6.2102, -6.2102, -6.2103, -6.2104, -6.2105, -6.2106, -6.2106, -6.2107, -6.2109, -6.2119, -6.2131, -6.2152, -6.2154, -5.3633, -6.2206, -6.2311, -5.5744, -5.185, -5.8421, -5.8421, -5.8424, -6.7975, -2.7773, -4.1122, -4.9112, -4.4577, -4.3979, -4.7094, -4.416, -4.0162, -5.062, -3.6028, -5.2393, -3.9572, -5.1955, -5.1289, -3.9211, -5.039, -4.5892, -5.0704, -5.5776, -5.2881, -5.1139, -5.3518, -5.2805, -5.4713, -5.579, -5.3624, -5.4106, -5.5067, -5.5336, -3.2859, -5.5787, -5.5795, -5.9467, -5.9467, -5.9468, -5.9469, -5.9471, -4.3842, -5.5784, -6.5342, -6.5342, -6.5342, -6.5342, -6.5342, -6.5342, -6.5343, -6.5343, -6.5343, -6.5343, -6.5343, -6.5343, -6.5343, -6.5343, -6.5343, -6.5343, -6.5343, -6.5344, -6.5344, -6.5344, -5.2174, -4.2946, -4.219, -4.8417, -3.9846, -5.333, -4.7812, -5.9459, -5.9459, -5.9466, -4.5741, -5.9426, -5.2536, -5.9458, -5.0939, -5.577, -5.5743, -4.6291, -4.9217, -5.4357, -4.0142, -3.5551, -3.6567, -5.1648, -5.4327, -4.5849, -5.2579, -4.5392, -4.6466, -4.3342, -5.2916, -4.2429, -4.64, -4.6667, -4.9971, -5.1384, -5.1313, -5.306], \"loglift\": [30.0, 29.0, 28.0, 27.0, 26.0, 25.0, 24.0, 23.0, 22.0, 21.0, 20.0, 19.0, 18.0, 17.0, 16.0, 15.0, 14.0, 13.0, 12.0, 11.0, 10.0, 9.0, 8.0, 7.0, 6.0, 5.0, 4.0, 3.0, 2.0, 1.0, 0.9604, 0.9432, 0.9432, 0.9405, 0.901, 0.901, 0.901, 0.9003, 0.8989, 0.8699, 0.863, 0.8418, 0.8251, 0.8251, 0.8251, 0.825, 0.825, 0.8249, 0.8249, 0.8249, 0.8249, 0.8247, 0.8247, 0.8247, 0.8247, 0.8246, 0.8246, 0.8246, 0.8244, 0.8244, 0.7868, 0.8012, 0.793, 0.7556, 0.7294, 0.7549, 0.7774, 0.7709, 0.7705, 0.7661, 0.603, 0.6928, 0.5911, 0.6567, 0.6485, 0.662, 0.7343, 0.2601, 0.4991, 0.4046, 0.569, 0.4369, 0.192, -0.0375, -0.0526, 0.477, 0.1008, -0.0013, -0.1924, 0.1327, 0.1429, 0.1907, 0.1499, 0.0159, -0.1779, -0.1395, -0.2052, -0.7451, 0.9607, 0.9607, 0.9607, 0.9605, 0.9604, 0.9593, 0.9199, 0.9088, 0.8863, 0.8837, 0.8837, 0.8837, 0.8835, 0.8835, 0.8835, 0.8835, 0.8835, 0.8834, 0.8834, 0.8833, 0.8833, 0.8833, 0.8833, 0.8833, 0.8833, 0.8833, 0.8833, 0.8832, 0.8832, 0.8831, 0.8745, 0.8677, 0.8071, 0.8317, 0.6136, 0.642, 0.6267, 0.6409, 0.4538, 0.3686, 0.5099, 0.6375, 0.5994, 0.7027, 0.7347, 0.2486, 0.4499, 0.5132, 0.6509, 0.611, 0.3148, -0.0248, 0.5039, 0.3907, 0.4166, 0.5742, 0.305, 0.4438, 0.3977, 0.3921, 0.2838, 0.4793, -0.1098, 0.3794, -0.3745, 0.3672, -0.9865, 0.0937, -0.1072, -0.0592, -0.1395, 1.4484, 1.4235, 1.3789, 1.378, 1.3708, 1.2972, 1.2971, 1.2971, 1.2969, 1.2969, 1.2968, 1.2966, 1.2966, 1.2965, 1.2965, 1.2963, 1.2962, 1.2951, 1.2938, 1.2916, 1.2914, 1.2901, 1.286, 1.275, 1.231, 1.2121, 1.1663, 1.146, 1.1457, 1.1118, 0.7577, 0.8578, 0.8984, 0.7378, 0.7132, 0.7481, 0.5427, 0.3153, 0.7521, -0.0204, 0.7933, -0.1193, 0.6125, 0.5544, -0.4718, 0.3072, -0.2097, 0.2113, 0.6219, 0.0223, -0.5785, -0.0837, -0.4008, 0.1057, 0.3892, -0.5159, -0.8137, -0.6172, 0.1021, 1.7498, 1.6785, 1.6777, 1.5924, 1.5924, 1.5923, 1.5922, 1.592, 1.5359, 1.4348, 1.3989, 1.3989, 1.3989, 1.3989, 1.3989, 1.3989, 1.3989, 1.3989, 1.3989, 1.3989, 1.3989, 1.3989, 1.3989, 1.3989, 1.3989, 1.3988, 1.3988, 1.3988, 1.3988, 1.3988, 1.3284, 1.2269, 1.2149, 1.2145, 1.0645, 1.2131, 1.1171, 1.2992, 1.2991, 1.2984, 1.0335, 1.2889, 1.1537, 1.2854, 1.0352, 1.0836, 1.0791, 0.7171, 0.7825, 0.9744, 0.3653, -0.1058, -0.1217, 0.8034, 0.9686, 0.3739, 0.7821, -0.0038, -0.0497, -0.4964, 0.7314, -0.6605, -0.2477, -0.3352, 0.183, 0.3536, 0.0642, 0.5092]}, \"token.table\": {\"Topic\": [3, 4, 4, 2, 4, 1, 2, 3, 3, 1, 2, 3, 4, 1, 1, 1, 2, 3, 3, 2, 2, 3, 4, 1, 2, 4, 1, 2, 3, 4, 1, 2, 3, 4, 1, 2, 3, 4, 1, 2, 1, 4, 1, 4, 1, 2, 3, 4, 2, 3, 1, 2, 3, 1, 1, 4, 1, 2, 4, 3, 3, 1, 2, 3, 1, 2, 3, 4, 2, 2, 3, 1, 2, 3, 4, 1, 2, 4, 1, 2, 3, 4, 4, 1, 1, 3, 1, 1, 1, 3, 4, 2, 2, 2, 3, 4, 2, 1, 2, 3, 2, 4, 1, 2, 3, 4, 2, 1, 2, 3, 4, 1, 2, 3, 4, 4, 2, 3, 1, 2, 3, 4, 2, 3, 1, 1, 2, 3, 1, 2, 4, 1, 2, 3, 4, 1, 2, 3, 4, 1, 2, 3, 1, 3, 1, 1, 3, 2, 3, 1, 1, 2, 3, 4, 1, 2, 3, 4, 1, 2, 3, 4, 4, 3, 4, 1, 4, 1, 2, 3, 4, 4, 1, 2, 3, 4, 4, 1, 2, 1, 2, 1, 2, 3, 1, 2, 3, 4, 3, 1, 2, 3, 4, 3, 4, 2, 1, 2, 3, 4, 2, 1, 2, 4, 1, 4, 1, 4, 3, 1, 2, 3, 4, 1, 2, 3, 4, 2, 4, 2, 1, 2, 3, 4, 2, 1, 2, 1, 1, 2, 3, 2, 4, 1, 2, 4, 2, 2, 4, 4, 1, 2, 1, 2, 3, 4, 1, 2, 3, 1, 2, 3, 4, 1, 3, 1, 4, 1, 2, 1, 2, 4, 1, 2, 1, 2, 3, 2, 3, 4, 2, 3, 1, 2, 3, 4, 3, 1, 2, 3, 4, 4, 4, 1, 2, 3, 4, 1, 2, 3, 4, 1, 2, 3, 1, 2, 1, 3, 4, 3, 1, 3, 3, 4, 1, 2, 3, 1, 2, 3, 4, 1, 2, 3, 4, 4, 2, 1, 2, 3, 4, 2, 1, 2, 3, 4, 1, 2, 3, 4, 1, 2, 3, 4, 2, 2, 4, 4, 1, 3, 4, 2, 4, 1, 2, 3, 4, 1, 2, 3, 1, 3, 3, 4, 2, 4, 1, 2, 3, 4, 3, 1, 2, 3, 2, 2, 3, 3, 1, 2, 4, 1, 2, 3, 4, 2, 3, 1, 2, 4, 3, 1, 3, 4, 1, 4, 4, 2, 3, 4, 3, 1, 2, 3, 4, 1, 4, 4, 2, 3, 2, 1, 2, 4, 3, 1, 2, 3, 4, 1, 2, 3, 4, 2, 1, 2, 3, 4, 1, 2, 1, 1, 3, 1, 3, 1, 1, 1, 3], \"Freq\": [0.8477394803932784, 0.6602544783531624, 0.6490231534180161, 0.8181221475875181, 0.6490228139731768, 0.347458533271927, 0.23163902218128465, 0.4246715406656885, 0.8477230691279379, 0.5179337219598745, 0.23542441907267023, 0.14125465144360214, 0.09416976762906809, 0.8091501700982451, 0.8091372216520826, 0.10189134076834816, 0.7132393853784371, 0.10189134076834816, 0.8468348217412441, 0.8181297647829753, 0.42454321953919016, 0.1415144065130634, 0.42454321953919016, 0.505152866872429, 0.42937993684156467, 0.0505152866872429, 0.33930505100518576, 0.16965252550259288, 0.08482626275129644, 0.4241313137564822, 0.20624471551823928, 0.4812376695425583, 0.20624471551823928, 0.1374964770121595, 0.2809699679052904, 0.45387456353931527, 0.1837111328611514, 0.08645229781701243, 0.1738731300891987, 0.6954925203567948, 0.817873076114226, 0.2044682690285565, 0.9646828948713918, 0.875283126338485, 0.3762573757105255, 0.4891345884236831, 0.018812868785526276, 0.11287721271315765, 0.8181211063316878, 0.8477114541253717, 0.6733876846567097, 0.13467753693134196, 0.13467753693134196, 0.9065184045253936, 0.9065205955378197, 0.6490231389898066, 0.4233608431398093, 0.14112028104660312, 0.4233608431398093, 0.9552036705281146, 0.8476979580615026, 0.31049789045232384, 0.15524894522616192, 0.46574683567848574, 0.4322896749964198, 0.3077316330482988, 0.12455804194812096, 0.13188498559212808, 0.9193341555857508, 0.2522475189144204, 0.7567425567432612, 0.2723668672689428, 0.5447337345378856, 0.1361834336344714, 0.0680917168172357, 0.2600822740210876, 0.08669409134036252, 0.6935527307229001, 0.16951250604565526, 0.5085375181369658, 0.05650416868188509, 0.22601667472754036, 0.8752887694126202, 0.8091358117622309, 0.8116823886285095, 0.20292059715712737, 0.8092205393368458, 0.9065116001822424, 0.19866250837873334, 0.2979937625681, 0.49665627094683334, 0.8181302579423392, 0.8181328212357124, 0.818133687155074, 0.32614036886314635, 0.6522807377262927, 0.9178152441921076, 0.38519811602995235, 0.5037206132699377, 0.11852249723998533, 0.3216871110897424, 0.6433742221794848, 0.551608218374802, 0.275804109187401, 0.07880117405354314, 0.1182017610803147, 0.9199379003434374, 0.23391677976300335, 0.31188903968400444, 0.4678335595260067, 0.07797225992100111, 0.40865354571143014, 0.22290193402441646, 0.16717645051831234, 0.22290193402441646, 0.6490231022080473, 0.8181267349649659, 0.8477071047325486, 0.32014094616042005, 0.5762537030887561, 0.128056378464168, 0.8752902034805945, 0.9178230075278108, 0.8477123202453427, 0.8091397667150773, 0.8091341843373886, 0.6200311091014977, 0.38751944318843606, 0.14028855607524215, 0.42086566822572646, 0.42086566822572646, 0.12333087249292492, 0.6166543624646246, 0.12333087249292492, 0.12333087249292492, 0.15612392148399093, 0.4683717644519728, 0.07806196074199546, 0.2341858822259864, 0.30175484970687544, 0.23469821643868088, 0.46939643287736177, 0.27938980895519727, 0.6984745223879932, 0.9066416742582791, 0.80913518332751, 0.8477068883851125, 0.8181305123601572, 0.8477241615821715, 0.9645621577289274, 0.24819044085270203, 0.41365073475450337, 0.12409522042635102, 0.16546029390180136, 0.09773650477889441, 0.2932095143366832, 0.2932095143366832, 0.2932095143366832, 0.4240738024799202, 0.32983517970660464, 0.1884772455466312, 0.0471193113866578, 0.8752871827596322, 0.3261481922577246, 0.6522963845154492, 0.8091378181998604, 0.649017975108752, 0.3805930592582535, 0.12686435308608449, 0.12686435308608449, 0.44402523580129577, 0.6490227948612503, 0.8091416989106569, 0.3241901076100548, 0.1620950538050274, 0.48628516141508216, 0.649022952101721, 0.6486305301476474, 0.2779845129204203, 0.37201393188323323, 0.5580208978248499, 0.40649033875600377, 0.40649033875600377, 0.18066237278044614, 0.31932045471764464, 0.11974517051911675, 0.4310826138688203, 0.13571119325499897, 0.8475920056060829, 0.6089128026911057, 0.20297093423036858, 0.12178256053822115, 0.08118837369214743, 0.8477624508831625, 0.6602832945539556, 0.6138547784068138, 0.48047638908241536, 0.09609527781648308, 0.09609527781648308, 0.28828583344944925, 0.9178114936071455, 0.37482634740138543, 0.5830632070688218, 0.6490248789408888, 0.8091409541332066, 0.649021871517039, 0.8091385529418772, 0.6490227687079547, 0.955227846852739, 0.7387726117184211, 0.02308664411620066, 0.09234657646480264, 0.13851986469720395, 0.27567618804073224, 0.5207216885213831, 0.12252275024032545, 0.06126137512016273, 0.5454115129685504, 0.36360767531236693, 0.6139483944768037, 0.29253561274266343, 0.4680569803882615, 0.17552136764559806, 0.058507122548532686, 0.8181569580445178, 0.7404321891337046, 0.2776620709251392, 0.8091461438993031, 0.7733166065831256, 0.1237306570533001, 0.1237306570533001, 0.47980814675791916, 0.47980814675791916, 0.7292380940344266, 0.12153968233907111, 0.12153968233907111, 0.8181258652442175, 0.8181269295613599, 0.6490228271630121, 0.6490218034890233, 0.9065181248190343, 0.9178237712016677, 0.21771362754367632, 0.2902848367249018, 0.07257120918122545, 0.43542725508735264, 0.699898839952, 0.1908815018050909, 0.12725433453672727, 0.574437072434932, 0.2154139021630995, 0.143609268108733, 0.0718046340543665, 0.21011757524267136, 0.630352725728014, 0.5414873698581031, 0.36099157990540204, 0.6043913408029303, 0.20146378026764344, 0.07161120509190984, 0.03580560254595492, 0.8593344611029181, 0.721157329028755, 0.24038577634291833, 0.12284081892699995, 0.6142040946349998, 0.2456816378539999, 0.1621319963050402, 0.3242639926100804, 0.4863959889151206, 0.2522565854160373, 0.7567697562481118, 0.22895022985035932, 0.45790045970071863, 0.22895022985035932, 0.09158009194014372, 0.8507372878349769, 0.12601752646110478, 0.2940408950759112, 0.420058421537016, 0.1680233686148064, 0.649022919169018, 0.6490215702666946, 0.3364096278484604, 0.2832923181881772, 0.2832923181881772, 0.10623461932056645, 0.31808662496549434, 0.40179363153536124, 0.20089681576768062, 0.07533630591288024, 0.25718658780937476, 0.5786698225710931, 0.19288994085703107, 0.8020336765119628, 0.13367227941866047, 0.6735023209184066, 0.11225038681973443, 0.22450077363946885, 0.8477323004554096, 0.8116612085803653, 0.20291530214509132, 0.7722559638506054, 0.25741865461686847, 0.5466460980034216, 0.3036922766685675, 0.18221536600114052, 0.2183485640463714, 0.2183485640463714, 0.4366971280927428, 0.1091742820231857, 0.2651978097594534, 0.16574863109965837, 0.3646469884192484, 0.2320480835395217, 0.6490159972562308, 0.8181301834035083, 0.15195739364483737, 0.5861213754872299, 0.10854099546059812, 0.15195739364483737, 0.8181388106648748, 0.19403770173071264, 0.19403770173071264, 0.4850942543267816, 0.19403770173071264, 0.18193334154596635, 0.18193334154596635, 0.2729000123189495, 0.3638666830919327, 0.21371255182683638, 0.10685627591341819, 0.3205688277402546, 0.42742510365367276, 0.8181357069855225, 0.8181253588412281, 0.8752732973637865, 0.6490169266350845, 0.8338775849064335, 0.09265306498960373, 0.6490231538542097, 0.3217533774876637, 0.6435067549753274, 0.09767927704517945, 0.3418774696581281, 0.2930378311355384, 0.2930378311355384, 0.17379763634996445, 0.6951905453998578, 0.6337400169916242, 0.18049115863130497, 0.7219646345252199, 0.3261501644540379, 0.6523003289080758, 0.8181334724328593, 0.6490227447194404, 0.11464907774912718, 0.3439472332473815, 0.3439472332473815, 0.22929815549825436, 0.8476418527648861, 0.34210328868393886, 0.27368263094715106, 0.34210328868393886, 0.8181288565912663, 0.8181345597864069, 0.8475141406789687, 0.8475089204889423, 0.8091365144132823, 0.4655587799592265, 0.5237536274541299, 0.19570310762917373, 0.45664058446807204, 0.19570310762917373, 0.13046873841944914, 0.8181214472172093, 0.9555375193105171, 0.15386034444739854, 0.6154413777895942, 0.15386034444739854, 0.8477029273448609, 0.6163644196008883, 0.12327288392017766, 0.2465457678403553, 0.7614606101612288, 0.15229212203224576, 0.6490242653525566, 0.6233059229989458, 0.3116529614994729, 0.10388432049982431, 0.8472939513400063, 0.1397294523380793, 0.4191883570142379, 0.06986472616903965, 0.34932363084519824, 0.2586454188825237, 0.5172908377650474, 0.6490215704216094, 0.8206453601316, 0.2051613400329, 0.8181328213847894, 0.6534915288963776, 0.28006779809844756, 0.09335593269948252, 0.8477121348747869, 0.2541746107465852, 0.6100190657918045, 0.10166984429863409, 0.05083492214931704, 0.5859104343965201, 0.10652916989027639, 0.15979375483541458, 0.10652916989027639, 0.9178084620879635, 0.30758668045818055, 0.4306213526414528, 0.24606934436654446, 0.061517336091636114, 0.8091353869615907, 0.9178164720384868, 0.9645557043510711, 0.8117270560654868, 0.2029317640163717, 0.6937812926986132, 0.1734453231746533, 0.8091329831601598, 0.8091420583766067, 0.8091732324281482, 0.7649674145081362], \"Term\": [\"absolutely\", \"acc\", \"according\", \"age\", \"already\", \"also\", \"also\", \"also\", \"amazed\", \"amazing\", \"amazing\", \"amazing\", \"amazing\", \"amount\", \"angle\", \"apple\", \"apple\", \"apple\", \"around\", \"attaching\", \"average\", \"average\", \"average\", \"awesome\", \"awesome\", \"awesome\", \"back\", \"back\", \"back\", \"back\", \"backup\", \"backup\", \"backup\", \"backup\", \"battery\", \"battery\", \"battery\", \"battery\", \"beast\", \"beast\", \"beat\", \"beat\", \"beautiful\", \"bessel\", \"best\", \"best\", \"best\", \"best\", \"bettary\", \"bettery\", \"bit\", \"bit\", \"bit\", \"blowing\", \"blur\", \"bt\", \"build\", \"build\", \"build\", \"buttery\", \"button\", \"buy\", \"buy\", \"buy\", \"camera\", \"camera\", \"camera\", \"camera\", \"capture\", \"case\", \"case\", \"charge\", \"charge\", \"charge\", \"charge\", \"charger\", \"charger\", \"charger\", \"charging\", \"charging\", \"charging\", \"charging\", \"choice\", \"cinematic\", \"class\", \"class\", \"classic\", \"click\", \"come\", \"come\", \"come\", \"comfort\", \"compromise\", \"crisp\", \"curved\", \"curved\", \"dark\", \"day\", \"day\", \"day\", \"delivered\", \"delivered\", \"design\", \"design\", \"design\", \"design\", \"detailed\", \"device\", \"device\", \"device\", \"device\", \"display\", \"display\", \"display\", \"display\", \"done\", \"dont\", \"doubt\", \"drain\", \"drain\", \"drain\", \"dream\", \"dslr\", \"early\", \"edge\", \"else\", \"even\", \"even\", \"ever\", \"ever\", \"ever\", \"every\", \"every\", \"every\", \"every\", \"everything\", \"everything\", \"everything\", \"everything\", \"excellent\", \"excellent\", \"excellent\", \"expected\", \"expected\", \"extraordinary\", \"exynos\", \"face\", \"faceid\", \"fall\", \"fantastic\", \"fast\", \"fast\", \"fast\", \"fast\", \"fe\", \"fe\", \"fe\", \"fe\", \"feel\", \"feel\", \"feel\", \"feel\", \"finally\", \"fine\", \"fine\", \"finest\", \"fingerprint\", \"flipkart\", \"flipkart\", \"flipkart\", \"flipkart\", \"friend\", \"frst\", \"galaxy\", \"galaxy\", \"galaxy\", \"gang\", \"get\", \"get\", \"give\", \"give\", \"go\", \"go\", \"go\", \"good\", \"good\", \"good\", \"good\", \"gorgeous\", \"great\", \"great\", \"great\", \"great\", \"green\", \"gud\", \"handle\", \"happy\", \"happy\", \"happy\", \"happy\", \"heated\", \"heating\", \"heating\", \"heatting\", \"honest\", \"hyper\", \"improvement\", \"initialization\", \"io\", \"iphone\", \"iphone\", \"iphone\", \"iphone\", \"issue\", \"issue\", \"issue\", \"issue\", \"le\", \"le\", \"level\", \"like\", \"like\", \"like\", \"like\", \"lite\", \"little\", \"little\", \"location\", \"look\", \"look\", \"look\", \"love\", \"love\", \"loved\", \"loved\", \"loved\", \"magic\", \"major\", \"may\", \"met\", \"mind\", \"minute\", \"mobile\", \"mobile\", \"mobile\", \"mobile\", \"mode\", \"mode\", \"mode\", \"much\", \"much\", \"much\", \"much\", \"must\", \"must\", \"n\", \"n\", \"never\", \"never\", \"nice\", \"nice\", \"nice\", \"night\", \"night\", \"normal\", \"normal\", \"normal\", \"note\", \"note\", \"note\", \"nothing\", \"nothing\", \"one\", \"one\", \"one\", \"one\", \"osm\", \"overall\", \"overall\", \"overall\", \"overall\", \"p\", \"parameter\", \"performance\", \"performance\", \"performance\", \"performance\", \"phone\", \"phone\", \"phone\", \"phone\", \"photo\", \"photo\", \"photo\", \"pixel\", \"pixel\", \"plus\", \"plus\", \"plus\", \"policy\", \"portrait\", \"portrait\", \"power\", \"power\", \"premium\", \"premium\", \"premium\", \"price\", \"price\", \"price\", \"price\", \"product\", \"product\", \"product\", \"product\", \"proformance\", \"puc\", \"quality\", \"quality\", \"quality\", \"quality\", \"r\", \"range\", \"range\", \"range\", \"range\", \"really\", \"really\", \"really\", \"really\", \"redmi\", \"redmi\", \"redmi\", \"redmi\", \"reliable\", \"requires\", \"resistance\", \"response\", \"review\", \"review\", \"round\", \"sale\", \"sale\", \"samsung\", \"samsung\", \"samsung\", \"samsung\", \"satisfied\", \"satisfied\", \"saving\", \"say\", \"say\", \"series\", \"series\", \"shoot\", \"showing\", \"side\", \"side\", \"side\", \"side\", \"smaller\", \"smooth\", \"smooth\", \"smooth\", \"soooo\", \"sot\", \"spec\", \"stand\", \"stock\", \"super\", \"super\", \"superb\", \"superb\", \"superb\", \"superb\", \"support\", \"switch\", \"take\", \"take\", \"take\", \"temper\", \"thank\", \"thank\", \"thank\", \"thanks\", \"thanks\", \"thanku\", \"thing\", \"thing\", \"thing\", \"though\", \"time\", \"time\", \"time\", \"time\", \"true\", \"true\", \"tweak\", \"twice\", \"twice\", \"ultrawide\", \"update\", \"update\", \"update\", \"upgrade\", \"use\", \"use\", \"use\", \"use\", \"using\", \"using\", \"using\", \"using\", \"vibrant\", \"video\", \"video\", \"video\", \"video\", \"wanted\", \"weight\", \"wide\", \"without\", \"without\", \"wow\", \"wow\", \"writing\", \"z\", \"zoom\", \"zooming\"]}, \"R\": 30, \"lambda.step\": 0.01, \"plot.opts\": {\"xlab\": \"PC1\", \"ylab\": \"PC2\"}, \"topic.order\": [3, 1, 4, 2]};\n",
       "\n",
       "function LDAvis_load_lib(url, callback){\n",
       "  var s = document.createElement('script');\n",
       "  s.src = url;\n",
       "  s.async = true;\n",
       "  s.onreadystatechange = s.onload = callback;\n",
       "  s.onerror = function(){console.warn(\"failed to load library \" + url);};\n",
       "  document.getElementsByTagName(\"head\")[0].appendChild(s);\n",
       "}\n",
       "\n",
       "if(typeof(LDAvis) !== \"undefined\"){\n",
       "   // already loaded: just create the visualization\n",
       "   !function(LDAvis){\n",
       "       new LDAvis(\"#\" + \"ldavis_el50961398336311862082679812102\", ldavis_el50961398336311862082679812102_data);\n",
       "   }(LDAvis);\n",
       "}else if(typeof define === \"function\" && define.amd){\n",
       "   // require.js is available: use it to load d3/LDAvis\n",
       "   require.config({paths: {d3: \"https://d3js.org/d3.v5\"}});\n",
       "   require([\"d3\"], function(d3){\n",
       "      window.d3 = d3;\n",
       "      LDAvis_load_lib(\"https://cdn.jsdelivr.net/gh/bmabey/pyLDAvis@3.4.0/pyLDAvis/js/ldavis.v3.0.0.js\", function(){\n",
       "        new LDAvis(\"#\" + \"ldavis_el50961398336311862082679812102\", ldavis_el50961398336311862082679812102_data);\n",
       "      });\n",
       "    });\n",
       "}else{\n",
       "    // require.js not available: dynamically load d3 & LDAvis\n",
       "    LDAvis_load_lib(\"https://d3js.org/d3.v5.js\", function(){\n",
       "         LDAvis_load_lib(\"https://cdn.jsdelivr.net/gh/bmabey/pyLDAvis@3.4.0/pyLDAvis/js/ldavis.v3.0.0.js\", function(){\n",
       "                 new LDAvis(\"#\" + \"ldavis_el50961398336311862082679812102\", ldavis_el50961398336311862082679812102_data);\n",
       "            })\n",
       "         });\n",
       "}\n",
       "</script>"
      ],
      "text/plain": [
       "PreparedData(topic_coordinates=              x         y  topics  cluster       Freq\n",
       "topic                                                \n",
       "2     -0.082101 -0.051122       1        1  33.405282\n",
       "0     -0.059692  0.072396       2        1  31.337597\n",
       "3      0.055443 -0.087604       3        1  20.356388\n",
       "1      0.086350  0.066329       4        1  14.900733, topic_info=            Term        Freq       Total Category  logprob  loglift\n",
       "66          nice   27.000000   27.000000  Default  30.0000  30.0000\n",
       "20          good  125.000000  125.000000  Default  29.0000  29.0000\n",
       "74          love   18.000000   18.000000  Default  28.0000  28.0000\n",
       "136        super   17.000000   17.000000  Default  27.0000  27.0000\n",
       "65        mobile   27.000000   27.000000  Default  26.0000  26.0000\n",
       "..           ...         ...         ...      ...      ...      ...\n",
       "88   performance    6.019056   56.478764   Topic4  -4.6667  -0.3352\n",
       "85          fast    4.325699   24.174984   Topic4  -4.9971   0.1830\n",
       "45      charging    3.755873   17.697809   Topic4  -5.1384   0.3536\n",
       "96       overall    3.782411   23.806212   Topic4  -5.1313   0.0642\n",
       "394   everything    3.176241   12.810337   Topic4  -5.3060   0.5092\n",
       "\n",
       "[296 rows x 6 columns], token_table=      Topic      Freq        Term\n",
       "term                             \n",
       "893       3  0.847739  absolutely\n",
       "845       4  0.660254         acc\n",
       "883       4  0.649023   according\n",
       "969       2  0.818122         age\n",
       "137       4  0.649023     already\n",
       "...     ...       ...         ...\n",
       "162       3  0.173445         wow\n",
       "749       1  0.809133     writing\n",
       "740       1  0.809142           z\n",
       "72        1  0.809173        zoom\n",
       "226       3  0.764967     zooming\n",
       "\n",
       "[429 rows x 3 columns], R=30, lambda_step=0.01, plot_opts={'xlab': 'PC1', 'ylab': 'PC2'}, topic_order=[3, 1, 4, 2])"
      ]
     },
     "execution_count": 13,
     "metadata": {},
     "output_type": "execute_result"
    }
   ],
   "source": [
    "pyLDAvis.enable_notebook()\n",
    "vis = pyLDAvis.gensim.prepare(lda_model1, corpus, dictionary, mds=\"mmds\", R=30)\n",
    "vis"
   ]
  },
  {
   "cell_type": "code",
   "execution_count": 14,
   "metadata": {
    "colab": {
     "base_uri": "https://localhost:8080/"
    },
    "id": "9KErUUoBteK1",
    "outputId": "2b7f2785-962a-40e7-c311-8a2a5fbdc117"
   },
   "outputs": [
    {
     "name": "stdout",
     "output_type": "stream",
     "text": [
      "Topic 0: ['phone', 'battery', 'camera', 'quality', 'best', 'issue', 'awesome', 'day', 'performance', 'good']\n",
      "Topic 1: ['nice', 'camera', 'good', 'mobile', 'display', 'love', 'phone', 'super', 'battery', 'charger']\n",
      "Topic 2: ['camera', 'good', 'phone', 'iphone', 'battery', 'look', 'display', 'awesome', 'best', 'performance']\n",
      "Topic 3: ['good', 'phone', 'camera', 'battery', 'performance', 'excellent', 'also', 'product', 'overall', 'display']\n"
     ]
    },
    {
     "name": "stderr",
     "output_type": "stream",
     "text": [
      "/usr/local/lib/python3.10/dist-packages/ipykernel/ipkernel.py:283: DeprecationWarning: `should_run_async` will not call `transform_cell` automatically in the future. Please pass the result to `transformed_cell` argument and any exception that happen during thetransform in `preprocessing_exc_tuple` in IPython 7.17 and above.\n",
      "  and should_run_async(code)\n"
     ]
    }
   ],
   "source": [
    "\n",
    "num_words = 10\n",
    "topics = lda_model1.show_topics(num_topics=num_topics, num_words=num_words, formatted=False)\n",
    "\n",
    "# Print topics and their top words\n",
    "for topic_id, topic_words in topics:\n",
    "    print(f\"Topic {topic_id}: {[word for word, _ in topic_words]}\")\n"
   ]
  },
  {
   "cell_type": "code",
   "execution_count": 15,
   "metadata": {
    "colab": {
     "base_uri": "https://localhost:8080/"
    },
    "id": "tk0DK4PTxqUu",
    "outputId": "75234560-5370-4f3a-eab5-d78eb30b0d74"
   },
   "outputs": [
    {
     "name": "stderr",
     "output_type": "stream",
     "text": [
      "/usr/local/lib/python3.10/dist-packages/ipykernel/ipkernel.py:283: DeprecationWarning: `should_run_async` will not call `transform_cell` automatically in the future. Please pass the result to `transformed_cell` argument and any exception that happen during thetransform in `preprocessing_exc_tuple` in IPython 7.17 and above.\n",
      "  and should_run_async(code)\n"
     ]
    }
   ],
   "source": [
    "def get_dominant_topic(lda_model1, corpus):\n",
    "    dominant_topics = []\n",
    "    for bow in corpus:\n",
    "        topics = lda_model1.get_document_topics(bow)\n",
    "        dominant_topic = sorted(topics, key=lambda x: x[1], reverse=True)[0][0]\n",
    "        dominant_topics.append(dominant_topic)\n",
    "    return dominant_topics\n",
    "\n",
    "df['dominant_topic'] = get_dominant_topic(lda_model1, corpus)\n"
   ]
  },
  {
   "cell_type": "code",
   "execution_count": 16,
   "metadata": {
    "colab": {
     "base_uri": "https://localhost:8080/",
     "height": 261
    },
    "id": "76yEQfZPyWBp",
    "outputId": "c70522d2-d484-456f-e553-3dee9ec9ff49"
   },
   "outputs": [
    {
     "name": "stderr",
     "output_type": "stream",
     "text": [
      "/usr/local/lib/python3.10/dist-packages/ipykernel/ipkernel.py:283: DeprecationWarning: `should_run_async` will not call `transform_cell` automatically in the future. Please pass the result to `transformed_cell` argument and any exception that happen during thetransform in `preprocessing_exc_tuple` in IPython 7.17 and above.\n",
      "  and should_run_async(code)\n"
     ]
    },
    {
     "data": {
      "application/vnd.google.colaboratory.intrinsic+json": {
       "summary": "{\n  \"name\": \"df\",\n  \"rows\": 352,\n  \"fields\": [\n    {\n      \"column\": \"Reviews\",\n      \"properties\": {\n        \"dtype\": \"string\",\n        \"num_unique_values\": 326,\n        \"samples\": [\n          \"This is the value for money phone.\\n\\nFor Flipkart:\\nOn time delievery\\nAlways best service\\nFeedback call received after 5 days\\n\\nApple:\\nOne word: Superb\\nPicture Quality Ultimate\",\n          \"Good camera good zooming\",\n          \"Excellent.. Product \\u2764\"\n        ],\n        \"semantic_type\": \"\",\n        \"description\": \"\"\n      }\n    },\n    {\n      \"column\": \"dominant_topic\",\n      \"properties\": {\n        \"dtype\": \"number\",\n        \"std\": 1,\n        \"min\": 0,\n        \"max\": 3,\n        \"num_unique_values\": 4,\n        \"samples\": [\n          0,\n          3,\n          2\n        ],\n        \"semantic_type\": \"\",\n        \"description\": \"\"\n      }\n    }\n  ]\n}",
       "type": "dataframe",
       "variable_name": "df"
      },
      "text/html": [
       "\n",
       "  <div id=\"df-edd6fcba-af16-48aa-a98f-c652bb0fe875\" class=\"colab-df-container\">\n",
       "    <div>\n",
       "<style scoped>\n",
       "    .dataframe tbody tr th:only-of-type {\n",
       "        vertical-align: middle;\n",
       "    }\n",
       "\n",
       "    .dataframe tbody tr th {\n",
       "        vertical-align: top;\n",
       "    }\n",
       "\n",
       "    .dataframe thead th {\n",
       "        text-align: right;\n",
       "    }\n",
       "</style>\n",
       "<table border=\"1\" class=\"dataframe\">\n",
       "  <thead>\n",
       "    <tr style=\"text-align: right;\">\n",
       "      <th></th>\n",
       "      <th>Reviews</th>\n",
       "      <th>dominant_topic</th>\n",
       "    </tr>\n",
       "  </thead>\n",
       "  <tbody>\n",
       "    <tr>\n",
       "      <th>0</th>\n",
       "      <td>After About 10 Days Of Use , I'll Give My Hone...</td>\n",
       "      <td>2</td>\n",
       "    </tr>\n",
       "    <tr>\n",
       "      <th>1</th>\n",
       "      <td>Superb phone and camera quality. I like it.</td>\n",
       "      <td>0</td>\n",
       "    </tr>\n",
       "    <tr>\n",
       "      <th>2</th>\n",
       "      <td>The design of the phone is very unique, curve ...</td>\n",
       "      <td>0</td>\n",
       "    </tr>\n",
       "    <tr>\n",
       "      <th>3</th>\n",
       "      <td>Very nice mobile full waterproof and gorilla g...</td>\n",
       "      <td>1</td>\n",
       "    </tr>\n",
       "    <tr>\n",
       "      <th>4</th>\n",
       "      <td>I am very happy I like this phone thank you mi...</td>\n",
       "      <td>2</td>\n",
       "    </tr>\n",
       "  </tbody>\n",
       "</table>\n",
       "</div>\n",
       "    <div class=\"colab-df-buttons\">\n",
       "\n",
       "  <div class=\"colab-df-container\">\n",
       "    <button class=\"colab-df-convert\" onclick=\"convertToInteractive('df-edd6fcba-af16-48aa-a98f-c652bb0fe875')\"\n",
       "            title=\"Convert this dataframe to an interactive table.\"\n",
       "            style=\"display:none;\">\n",
       "\n",
       "  <svg xmlns=\"http://www.w3.org/2000/svg\" height=\"24px\" viewBox=\"0 -960 960 960\">\n",
       "    <path d=\"M120-120v-720h720v720H120Zm60-500h600v-160H180v160Zm220 220h160v-160H400v160Zm0 220h160v-160H400v160ZM180-400h160v-160H180v160Zm440 0h160v-160H620v160ZM180-180h160v-160H180v160Zm440 0h160v-160H620v160Z\"/>\n",
       "  </svg>\n",
       "    </button>\n",
       "\n",
       "  <style>\n",
       "    .colab-df-container {\n",
       "      display:flex;\n",
       "      gap: 12px;\n",
       "    }\n",
       "\n",
       "    .colab-df-convert {\n",
       "      background-color: #E8F0FE;\n",
       "      border: none;\n",
       "      border-radius: 50%;\n",
       "      cursor: pointer;\n",
       "      display: none;\n",
       "      fill: #1967D2;\n",
       "      height: 32px;\n",
       "      padding: 0 0 0 0;\n",
       "      width: 32px;\n",
       "    }\n",
       "\n",
       "    .colab-df-convert:hover {\n",
       "      background-color: #E2EBFA;\n",
       "      box-shadow: 0px 1px 2px rgba(60, 64, 67, 0.3), 0px 1px 3px 1px rgba(60, 64, 67, 0.15);\n",
       "      fill: #174EA6;\n",
       "    }\n",
       "\n",
       "    .colab-df-buttons div {\n",
       "      margin-bottom: 4px;\n",
       "    }\n",
       "\n",
       "    [theme=dark] .colab-df-convert {\n",
       "      background-color: #3B4455;\n",
       "      fill: #D2E3FC;\n",
       "    }\n",
       "\n",
       "    [theme=dark] .colab-df-convert:hover {\n",
       "      background-color: #434B5C;\n",
       "      box-shadow: 0px 1px 3px 1px rgba(0, 0, 0, 0.15);\n",
       "      filter: drop-shadow(0px 1px 2px rgba(0, 0, 0, 0.3));\n",
       "      fill: #FFFFFF;\n",
       "    }\n",
       "  </style>\n",
       "\n",
       "    <script>\n",
       "      const buttonEl =\n",
       "        document.querySelector('#df-edd6fcba-af16-48aa-a98f-c652bb0fe875 button.colab-df-convert');\n",
       "      buttonEl.style.display =\n",
       "        google.colab.kernel.accessAllowed ? 'block' : 'none';\n",
       "\n",
       "      async function convertToInteractive(key) {\n",
       "        const element = document.querySelector('#df-edd6fcba-af16-48aa-a98f-c652bb0fe875');\n",
       "        const dataTable =\n",
       "          await google.colab.kernel.invokeFunction('convertToInteractive',\n",
       "                                                    [key], {});\n",
       "        if (!dataTable) return;\n",
       "\n",
       "        const docLinkHtml = 'Like what you see? Visit the ' +\n",
       "          '<a target=\"_blank\" href=https://colab.research.google.com/notebooks/data_table.ipynb>data table notebook</a>'\n",
       "          + ' to learn more about interactive tables.';\n",
       "        element.innerHTML = '';\n",
       "        dataTable['output_type'] = 'display_data';\n",
       "        await google.colab.output.renderOutput(dataTable, element);\n",
       "        const docLink = document.createElement('div');\n",
       "        docLink.innerHTML = docLinkHtml;\n",
       "        element.appendChild(docLink);\n",
       "      }\n",
       "    </script>\n",
       "  </div>\n",
       "\n",
       "\n",
       "<div id=\"df-17e2f41f-da6a-4034-8b8e-b7b528598d08\">\n",
       "  <button class=\"colab-df-quickchart\" onclick=\"quickchart('df-17e2f41f-da6a-4034-8b8e-b7b528598d08')\"\n",
       "            title=\"Suggest charts\"\n",
       "            style=\"display:none;\">\n",
       "\n",
       "<svg xmlns=\"http://www.w3.org/2000/svg\" height=\"24px\"viewBox=\"0 0 24 24\"\n",
       "     width=\"24px\">\n",
       "    <g>\n",
       "        <path d=\"M19 3H5c-1.1 0-2 .9-2 2v14c0 1.1.9 2 2 2h14c1.1 0 2-.9 2-2V5c0-1.1-.9-2-2-2zM9 17H7v-7h2v7zm4 0h-2V7h2v10zm4 0h-2v-4h2v4z\"/>\n",
       "    </g>\n",
       "</svg>\n",
       "  </button>\n",
       "\n",
       "<style>\n",
       "  .colab-df-quickchart {\n",
       "      --bg-color: #E8F0FE;\n",
       "      --fill-color: #1967D2;\n",
       "      --hover-bg-color: #E2EBFA;\n",
       "      --hover-fill-color: #174EA6;\n",
       "      --disabled-fill-color: #AAA;\n",
       "      --disabled-bg-color: #DDD;\n",
       "  }\n",
       "\n",
       "  [theme=dark] .colab-df-quickchart {\n",
       "      --bg-color: #3B4455;\n",
       "      --fill-color: #D2E3FC;\n",
       "      --hover-bg-color: #434B5C;\n",
       "      --hover-fill-color: #FFFFFF;\n",
       "      --disabled-bg-color: #3B4455;\n",
       "      --disabled-fill-color: #666;\n",
       "  }\n",
       "\n",
       "  .colab-df-quickchart {\n",
       "    background-color: var(--bg-color);\n",
       "    border: none;\n",
       "    border-radius: 50%;\n",
       "    cursor: pointer;\n",
       "    display: none;\n",
       "    fill: var(--fill-color);\n",
       "    height: 32px;\n",
       "    padding: 0;\n",
       "    width: 32px;\n",
       "  }\n",
       "\n",
       "  .colab-df-quickchart:hover {\n",
       "    background-color: var(--hover-bg-color);\n",
       "    box-shadow: 0 1px 2px rgba(60, 64, 67, 0.3), 0 1px 3px 1px rgba(60, 64, 67, 0.15);\n",
       "    fill: var(--button-hover-fill-color);\n",
       "  }\n",
       "\n",
       "  .colab-df-quickchart-complete:disabled,\n",
       "  .colab-df-quickchart-complete:disabled:hover {\n",
       "    background-color: var(--disabled-bg-color);\n",
       "    fill: var(--disabled-fill-color);\n",
       "    box-shadow: none;\n",
       "  }\n",
       "\n",
       "  .colab-df-spinner {\n",
       "    border: 2px solid var(--fill-color);\n",
       "    border-color: transparent;\n",
       "    border-bottom-color: var(--fill-color);\n",
       "    animation:\n",
       "      spin 1s steps(1) infinite;\n",
       "  }\n",
       "\n",
       "  @keyframes spin {\n",
       "    0% {\n",
       "      border-color: transparent;\n",
       "      border-bottom-color: var(--fill-color);\n",
       "      border-left-color: var(--fill-color);\n",
       "    }\n",
       "    20% {\n",
       "      border-color: transparent;\n",
       "      border-left-color: var(--fill-color);\n",
       "      border-top-color: var(--fill-color);\n",
       "    }\n",
       "    30% {\n",
       "      border-color: transparent;\n",
       "      border-left-color: var(--fill-color);\n",
       "      border-top-color: var(--fill-color);\n",
       "      border-right-color: var(--fill-color);\n",
       "    }\n",
       "    40% {\n",
       "      border-color: transparent;\n",
       "      border-right-color: var(--fill-color);\n",
       "      border-top-color: var(--fill-color);\n",
       "    }\n",
       "    60% {\n",
       "      border-color: transparent;\n",
       "      border-right-color: var(--fill-color);\n",
       "    }\n",
       "    80% {\n",
       "      border-color: transparent;\n",
       "      border-right-color: var(--fill-color);\n",
       "      border-bottom-color: var(--fill-color);\n",
       "    }\n",
       "    90% {\n",
       "      border-color: transparent;\n",
       "      border-bottom-color: var(--fill-color);\n",
       "    }\n",
       "  }\n",
       "</style>\n",
       "\n",
       "  <script>\n",
       "    async function quickchart(key) {\n",
       "      const quickchartButtonEl =\n",
       "        document.querySelector('#' + key + ' button');\n",
       "      quickchartButtonEl.disabled = true;  // To prevent multiple clicks.\n",
       "      quickchartButtonEl.classList.add('colab-df-spinner');\n",
       "      try {\n",
       "        const charts = await google.colab.kernel.invokeFunction(\n",
       "            'suggestCharts', [key], {});\n",
       "      } catch (error) {\n",
       "        console.error('Error during call to suggestCharts:', error);\n",
       "      }\n",
       "      quickchartButtonEl.classList.remove('colab-df-spinner');\n",
       "      quickchartButtonEl.classList.add('colab-df-quickchart-complete');\n",
       "    }\n",
       "    (() => {\n",
       "      let quickchartButtonEl =\n",
       "        document.querySelector('#df-17e2f41f-da6a-4034-8b8e-b7b528598d08 button');\n",
       "      quickchartButtonEl.style.display =\n",
       "        google.colab.kernel.accessAllowed ? 'block' : 'none';\n",
       "    })();\n",
       "  </script>\n",
       "</div>\n",
       "\n",
       "    </div>\n",
       "  </div>\n"
      ],
      "text/plain": [
       "                                             Reviews  dominant_topic\n",
       "0  After About 10 Days Of Use , I'll Give My Hone...               2\n",
       "1        Superb phone and camera quality. I like it.               0\n",
       "2  The design of the phone is very unique, curve ...               0\n",
       "3  Very nice mobile full waterproof and gorilla g...               1\n",
       "4  I am very happy I like this phone thank you mi...               2"
      ]
     },
     "execution_count": 16,
     "metadata": {},
     "output_type": "execute_result"
    }
   ],
   "source": [
    "df.head()"
   ]
  },
  {
   "cell_type": "code",
   "execution_count": 17,
   "metadata": {
    "colab": {
     "base_uri": "https://localhost:8080/"
    },
    "id": "P_rm_CjkNCaN",
    "outputId": "ab3c12c0-6f29-4bc2-e421-4df7563bfce7"
   },
   "outputs": [
    {
     "name": "stderr",
     "output_type": "stream",
     "text": [
      "/usr/local/lib/python3.10/dist-packages/ipykernel/ipkernel.py:283: DeprecationWarning: `should_run_async` will not call `transform_cell` automatically in the future. Please pass the result to `transformed_cell` argument and any exception that happen during thetransform in `preprocessing_exc_tuple` in IPython 7.17 and above.\n",
      "  and should_run_async(code)\n"
     ]
    }
   ],
   "source": [
    "df['dominant_topic'] = df['dominant_topic'].astype(object)"
   ]
  },
  {
   "cell_type": "code",
   "execution_count": 18,
   "metadata": {
    "colab": {
     "base_uri": "https://localhost:8080/"
    },
    "id": "-bK2dArxyXrb",
    "outputId": "72598990-25fd-4300-c89e-9cebe3533968"
   },
   "outputs": [
    {
     "name": "stderr",
     "output_type": "stream",
     "text": [
      "/usr/local/lib/python3.10/dist-packages/ipykernel/ipkernel.py:283: DeprecationWarning: `should_run_async` will not call `transform_cell` automatically in the future. Please pass the result to `transformed_cell` argument and any exception that happen during thetransform in `preprocessing_exc_tuple` in IPython 7.17 and above.\n",
      "  and should_run_async(code)\n"
     ]
    },
    {
     "data": {
      "text/plain": [
       "dominant_topic\n",
       "0    112\n",
       "2    106\n",
       "3     70\n",
       "1     64\n",
       "Name: count, dtype: int64"
      ]
     },
     "execution_count": 18,
     "metadata": {},
     "output_type": "execute_result"
    }
   ],
   "source": [
    "df['dominant_topic'].value_counts()"
   ]
  },
  {
   "cell_type": "code",
   "execution_count": 19,
   "metadata": {
    "colab": {
     "base_uri": "https://localhost:8080/"
    },
    "id": "9pipFI_Hym16",
    "outputId": "cae03fda-28ea-4aaf-d002-9c390541aca0"
   },
   "outputs": [
    {
     "name": "stderr",
     "output_type": "stream",
     "text": [
      "/usr/local/lib/python3.10/dist-packages/ipykernel/ipkernel.py:283: DeprecationWarning: `should_run_async` will not call `transform_cell` automatically in the future. Please pass the result to `transformed_cell` argument and any exception that happen during thetransform in `preprocessing_exc_tuple` in IPython 7.17 and above.\n",
      "  and should_run_async(code)\n"
     ]
    },
    {
     "data": {
      "text/plain": [
       "Reviews\n",
       "Good                                                                                                                                                                                                                                                                                                                                          7\n",
       "Nice                                                                                                                                                                                                                                                                                                                                          5\n",
       "Super                                                                                                                                                                                                                                                                                                                                         3\n",
       "Excellent                                                                                                                                                                                                                                                                                                                                     3\n",
       "This photo is the best camera phone under 40k\\nFully satisfied with the telephoto images\\nAnd the quality of the videos is just awesome\\nYou can shoot 4k 60fps video with ultrawide lens too\\nOne thing that you will have to compromise with is it's battery\\nOn 80% charge it can give you upto 5hrs of SOT\\nOverall performance - 8/10    2\n",
       "                                                                                                                                                                                                                                                                                                                                             ..\n",
       "Good camera good zooming                                                                                                                                                                                                                                                                                                                      1\n",
       "Very good product                                                                                                                                                                                                                                                                                                                             1\n",
       "Camera excellent... Video ok ok                                                                                                                                                                                                                                                                                                               1\n",
       "Performance is not good as expected                                                                                                                                                                                                                                                                                                           1\n",
       "The in-hand feel was awesome. It has the best camera and night mode was superb. The image processing was too good, no other brand can beat it. Using this mobile since 1 month, I didn't get any issues. Loved the camera and unique design                                                                                                   1\n",
       "Name: count, Length: 326, dtype: int64"
      ]
     },
     "execution_count": 19,
     "metadata": {},
     "output_type": "execute_result"
    }
   ],
   "source": [
    "df['Reviews'].value_counts()"
   ]
  },
  {
   "cell_type": "code",
   "execution_count": 20,
   "metadata": {
    "colab": {
     "base_uri": "https://localhost:8080/"
    },
    "id": "q1oYnvCAKlHb",
    "outputId": "06a54c5e-6a5c-45a3-f41c-fe2f4bb68808"
   },
   "outputs": [
    {
     "name": "stderr",
     "output_type": "stream",
     "text": [
      "/usr/local/lib/python3.10/dist-packages/ipykernel/ipkernel.py:283: DeprecationWarning: `should_run_async` will not call `transform_cell` automatically in the future. Please pass the result to `transformed_cell` argument and any exception that happen during thetransform in `preprocessing_exc_tuple` in IPython 7.17 and above.\n",
      "  and should_run_async(code)\n",
      "[nltk_data] Downloading package stopwords to /root/nltk_data...\n",
      "[nltk_data]   Package stopwords is already up-to-date!\n"
     ]
    },
    {
     "data": {
      "text/plain": [
       "True"
      ]
     },
     "execution_count": 20,
     "metadata": {},
     "output_type": "execute_result"
    }
   ],
   "source": [
    "import nltk\n",
    "import re\n",
    "from nltk.corpus import stopwords\n",
    "from nltk.stem.porter import PorterStemmer\n",
    "nltk.download('stopwords')"
   ]
  },
  {
   "cell_type": "code",
   "execution_count": 21,
   "metadata": {
    "colab": {
     "base_uri": "https://localhost:8080/"
    },
    "id": "Ms8ZPliIJf94",
    "outputId": "fa72f3cb-30bd-4c97-bb33-120e97a13d1f"
   },
   "outputs": [
    {
     "name": "stderr",
     "output_type": "stream",
     "text": [
      "/usr/local/lib/python3.10/dist-packages/ipykernel/ipkernel.py:283: DeprecationWarning: `should_run_async` will not call `transform_cell` automatically in the future. Please pass the result to `transformed_cell` argument and any exception that happen during thetransform in `preprocessing_exc_tuple` in IPython 7.17 and above.\n",
      "  and should_run_async(code)\n"
     ]
    }
   ],
   "source": [
    "ps = PorterStemmer() # create an instance of the PorterStemmer class\n",
    "corpus1 = [] # create an empty list to store the preprocessed tweets\n",
    "# Iterate over the values in the 'tweets' column directly\n",
    "for tweet in df['Reviews']: # iterate over the 'tweets' column of the DataFrame\n",
    "    review = re.sub('[^a-zA-Z]', ' ', tweet) # remove non-alphabetic characters\n",
    "    review = review.lower() # convert to lowercase\n",
    "    review = review.split() # split into words\n",
    "    review = [ps.stem(word) for word in review if not word in stopwords.words('english')] # apply stemming and remove stopwords\n",
    "    review = ' '.join(review) # join the words back into a single string\n",
    "    corpus1.append(review) # add the preprocessed tweet to the corpus list"
   ]
  },
  {
   "cell_type": "code",
   "execution_count": 22,
   "metadata": {
    "colab": {
     "base_uri": "https://localhost:8080/"
    },
    "id": "1AFV0atzJ01i",
    "outputId": "bd93df24-afb0-4196-e2cb-af352029514e"
   },
   "outputs": [
    {
     "name": "stderr",
     "output_type": "stream",
     "text": [
      "/usr/local/lib/python3.10/dist-packages/ipykernel/ipkernel.py:283: DeprecationWarning: `should_run_async` will not call `transform_cell` automatically in the future. Please pass the result to `transformed_cell` argument and any exception that happen during thetransform in `preprocessing_exc_tuple` in IPython 7.17 and above.\n",
      "  and should_run_async(code)\n"
     ]
    },
    {
     "data": {
      "text/plain": [
       "['day use give honest review price littl bit higher side cheaper actual price camera qualiti good expect good experi front camera design uniqu look amaz design feel like premium class gadget perform smooth feather touch display notif indic light feel amaz batteri heat issu gener common heavi batteri sta',\n",
       " 'superb phone camera qualiti like',\n",
       " 'design phone uniqu curv shape give best contribut design camera qualiti good charg promis minut featur ip right phone work well put water let see perform futur',\n",
       " 'nice mobil full waterproof gorilla glass like',\n",
       " 'happi like phone thank mi thank much nice zoom x']"
      ]
     },
     "execution_count": 22,
     "metadata": {},
     "output_type": "execute_result"
    }
   ],
   "source": [
    "corpus1[0:5]"
   ]
  },
  {
   "cell_type": "code",
   "execution_count": 23,
   "metadata": {
    "colab": {
     "base_uri": "https://localhost:8080/"
    },
    "id": "R-QO-hm8LEJT",
    "outputId": "aefa5008-1826-468d-f17a-ad4d88680c69"
   },
   "outputs": [
    {
     "name": "stderr",
     "output_type": "stream",
     "text": [
      "/usr/local/lib/python3.10/dist-packages/ipykernel/ipkernel.py:283: DeprecationWarning: `should_run_async` will not call `transform_cell` automatically in the future. Please pass the result to `transformed_cell` argument and any exception that happen during thetransform in `preprocessing_exc_tuple` in IPython 7.17 and above.\n",
      "  and should_run_async(code)\n"
     ]
    }
   ],
   "source": [
    "from tensorflow.keras.layers import Embedding\n",
    "from tensorflow.keras.preprocessing.sequence import pad_sequences\n",
    "from tensorflow.keras.models import Sequential\n",
    "from tensorflow.keras.preprocessing.text import one_hot\n",
    "from tensorflow.keras.layers import LSTM\n",
    "from tensorflow.keras.layers import Dense\n",
    "from tensorflow.keras.layers import Bidirectional\n",
    "from tensorflow.keras.layers import Dropout"
   ]
  },
  {
   "cell_type": "code",
   "execution_count": 24,
   "metadata": {
    "colab": {
     "base_uri": "https://localhost:8080/"
    },
    "id": "njKJhfkSLLwO",
    "outputId": "cc7f2206-a295-431f-84ae-40294a0fc7c2"
   },
   "outputs": [
    {
     "name": "stderr",
     "output_type": "stream",
     "text": [
      "/usr/local/lib/python3.10/dist-packages/ipykernel/ipkernel.py:283: DeprecationWarning: `should_run_async` will not call `transform_cell` automatically in the future. Please pass the result to `transformed_cell` argument and any exception that happen during thetransform in `preprocessing_exc_tuple` in IPython 7.17 and above.\n",
      "  and should_run_async(code)\n"
     ]
    }
   ],
   "source": [
    "voc_size=500"
   ]
  },
  {
   "cell_type": "code",
   "execution_count": 25,
   "metadata": {
    "colab": {
     "base_uri": "https://localhost:8080/"
    },
    "id": "RjM8baKZLPWL",
    "outputId": "0afbbd3c-bde8-4b94-bd2d-058b788406f7"
   },
   "outputs": [
    {
     "name": "stderr",
     "output_type": "stream",
     "text": [
      "/usr/local/lib/python3.10/dist-packages/ipykernel/ipkernel.py:283: DeprecationWarning: `should_run_async` will not call `transform_cell` automatically in the future. Please pass the result to `transformed_cell` argument and any exception that happen during thetransform in `preprocessing_exc_tuple` in IPython 7.17 and above.\n",
      "  and should_run_async(code)\n"
     ]
    }
   ],
   "source": [
    "onehot_repr=[one_hot(words,voc_size)for words in corpus1]"
   ]
  },
  {
   "cell_type": "code",
   "execution_count": 26,
   "metadata": {
    "colab": {
     "base_uri": "https://localhost:8080/"
    },
    "id": "Kwszr480LWfG",
    "outputId": "acec8839-c8eb-4965-98f3-d33b49e0bbe5"
   },
   "outputs": [
    {
     "name": "stderr",
     "output_type": "stream",
     "text": [
      "/usr/local/lib/python3.10/dist-packages/ipykernel/ipkernel.py:283: DeprecationWarning: `should_run_async` will not call `transform_cell` automatically in the future. Please pass the result to `transformed_cell` argument and any exception that happen during thetransform in `preprocessing_exc_tuple` in IPython 7.17 and above.\n",
      "  and should_run_async(code)\n"
     ]
    },
    {
     "data": {
      "text/plain": [
       "[[15,\n",
       "  254,\n",
       "  316,\n",
       "  233,\n",
       "  312,\n",
       "  274,\n",
       "  285,\n",
       "  272,\n",
       "  248,\n",
       "  481,\n",
       "  233,\n",
       "  378,\n",
       "  274,\n",
       "  161,\n",
       "  206,\n",
       "  209,\n",
       "  157,\n",
       "  209,\n",
       "  327,\n",
       "  438,\n",
       "  161,\n",
       "  141,\n",
       "  87,\n",
       "  317,\n",
       "  52,\n",
       "  141,\n",
       "  290,\n",
       "  377,\n",
       "  488,\n",
       "  222,\n",
       "  5,\n",
       "  465,\n",
       "  5,\n",
       "  302,\n",
       "  457,\n",
       "  221,\n",
       "  288,\n",
       "  412,\n",
       "  386,\n",
       "  290,\n",
       "  52,\n",
       "  43,\n",
       "  178,\n",
       "  454,\n",
       "  29,\n",
       "  120,\n",
       "  12,\n",
       "  43,\n",
       "  409],\n",
       " [223, 275, 161, 206, 377],\n",
       " [141,\n",
       "  275,\n",
       "  87,\n",
       "  74,\n",
       "  352,\n",
       "  316,\n",
       "  439,\n",
       "  49,\n",
       "  141,\n",
       "  161,\n",
       "  206,\n",
       "  209,\n",
       "  161,\n",
       "  91,\n",
       "  425,\n",
       "  484,\n",
       "  43,\n",
       "  483,\n",
       "  275,\n",
       "  260,\n",
       "  327,\n",
       "  200,\n",
       "  207,\n",
       "  403,\n",
       "  27,\n",
       "  465,\n",
       "  499],\n",
       " [141, 377, 288, 392, 91, 374, 377],\n",
       " [17, 377, 275, 297, 187, 297, 87, 141, 494, 468]]"
      ]
     },
     "execution_count": 26,
     "metadata": {},
     "output_type": "execute_result"
    }
   ],
   "source": [
    "onehot_repr[:5]"
   ]
  },
  {
   "cell_type": "code",
   "execution_count": 27,
   "metadata": {
    "colab": {
     "base_uri": "https://localhost:8080/"
    },
    "id": "v5Kz3JtkLZeZ",
    "outputId": "269871f3-5b7b-45c5-f8b9-cc57dea44839"
   },
   "outputs": [
    {
     "name": "stderr",
     "output_type": "stream",
     "text": [
      "/usr/local/lib/python3.10/dist-packages/ipykernel/ipkernel.py:283: DeprecationWarning: `should_run_async` will not call `transform_cell` automatically in the future. Please pass the result to `transformed_cell` argument and any exception that happen during thetransform in `preprocessing_exc_tuple` in IPython 7.17 and above.\n",
      "  and should_run_async(code)\n"
     ]
    },
    {
     "data": {
      "text/plain": [
       "63"
      ]
     },
     "execution_count": 27,
     "metadata": {},
     "output_type": "execute_result"
    }
   ],
   "source": [
    "len(max(onehot_repr,key=len))"
   ]
  },
  {
   "cell_type": "code",
   "execution_count": 28,
   "metadata": {
    "colab": {
     "base_uri": "https://localhost:8080/"
    },
    "id": "BLIq1c1NLhVA",
    "outputId": "82c39ad4-d7a6-4e4c-b132-12309df7ab14"
   },
   "outputs": [
    {
     "name": "stderr",
     "output_type": "stream",
     "text": [
      "/usr/local/lib/python3.10/dist-packages/ipykernel/ipkernel.py:283: DeprecationWarning: `should_run_async` will not call `transform_cell` automatically in the future. Please pass the result to `transformed_cell` argument and any exception that happen during thetransform in `preprocessing_exc_tuple` in IPython 7.17 and above.\n",
      "  and should_run_async(code)\n"
     ]
    }
   ],
   "source": [
    "sent_length=63 # setting the maximum sentence length to 63.\n",
    "embedded_docs=pad_sequences(onehot_repr,padding='pre',maxlen=sent_length)"
   ]
  },
  {
   "cell_type": "code",
   "execution_count": 29,
   "metadata": {
    "colab": {
     "base_uri": "https://localhost:8080/"
    },
    "id": "UcrYvhj-Ll20",
    "outputId": "2038bd7c-fdbd-47e8-8de4-f03bd6c12e07"
   },
   "outputs": [
    {
     "name": "stderr",
     "output_type": "stream",
     "text": [
      "/usr/local/lib/python3.10/dist-packages/ipykernel/ipkernel.py:283: DeprecationWarning: `should_run_async` will not call `transform_cell` automatically in the future. Please pass the result to `transformed_cell` argument and any exception that happen during thetransform in `preprocessing_exc_tuple` in IPython 7.17 and above.\n",
      "  and should_run_async(code)\n"
     ]
    },
    {
     "data": {
      "text/plain": [
       "array([[  0,   0,   0, ...,  12,  43, 409],\n",
       "       [  0,   0,   0, ..., 161, 206, 377],\n",
       "       [  0,   0,   0, ...,  27, 465, 499],\n",
       "       ...,\n",
       "       [  0,   0,   0, ..., 161, 130, 439],\n",
       "       [  0,   0,   0, ..., 438, 438, 224],\n",
       "       [  0,   0,   0, ..., 161,  87, 141]], dtype=int32)"
      ]
     },
     "execution_count": 29,
     "metadata": {},
     "output_type": "execute_result"
    }
   ],
   "source": [
    "embedded_docs"
   ]
  },
  {
   "cell_type": "code",
   "execution_count": 30,
   "metadata": {
    "colab": {
     "base_uri": "https://localhost:8080/"
    },
    "id": "fSDvqnyDLomA",
    "outputId": "8f8d09a7-f4f1-4542-d6db-f5fa0ba0ad85"
   },
   "outputs": [
    {
     "name": "stderr",
     "output_type": "stream",
     "text": [
      "/usr/local/lib/python3.10/dist-packages/ipykernel/ipkernel.py:283: DeprecationWarning: `should_run_async` will not call `transform_cell` automatically in the future. Please pass the result to `transformed_cell` argument and any exception that happen during thetransform in `preprocessing_exc_tuple` in IPython 7.17 and above.\n",
      "  and should_run_async(code)\n"
     ]
    }
   ],
   "source": [
    "y=df['dominant_topic']"
   ]
  },
  {
   "cell_type": "code",
   "execution_count": 31,
   "metadata": {
    "colab": {
     "base_uri": "https://localhost:8080/"
    },
    "id": "1ccDrV5RLyhg",
    "outputId": "e3065e03-b84a-4706-e31b-67b6f9a2b2c4"
   },
   "outputs": [
    {
     "name": "stderr",
     "output_type": "stream",
     "text": [
      "/usr/local/lib/python3.10/dist-packages/ipykernel/ipkernel.py:283: DeprecationWarning: `should_run_async` will not call `transform_cell` automatically in the future. Please pass the result to `transformed_cell` argument and any exception that happen during thetransform in `preprocessing_exc_tuple` in IPython 7.17 and above.\n",
      "  and should_run_async(code)\n"
     ]
    },
    {
     "data": {
      "text/plain": [
       "(352, (352,))"
      ]
     },
     "execution_count": 31,
     "metadata": {},
     "output_type": "execute_result"
    }
   ],
   "source": [
    "len(embedded_docs),y.shape"
   ]
  },
  {
   "cell_type": "code",
   "execution_count": 32,
   "metadata": {
    "colab": {
     "base_uri": "https://localhost:8080/"
    },
    "id": "iw1bJvlqL67k",
    "outputId": "ac8ddeb1-989d-499a-df5b-20c97b21de97"
   },
   "outputs": [
    {
     "name": "stderr",
     "output_type": "stream",
     "text": [
      "/usr/local/lib/python3.10/dist-packages/ipykernel/ipkernel.py:283: DeprecationWarning: `should_run_async` will not call `transform_cell` automatically in the future. Please pass the result to `transformed_cell` argument and any exception that happen during thetransform in `preprocessing_exc_tuple` in IPython 7.17 and above.\n",
      "  and should_run_async(code)\n"
     ]
    }
   ],
   "source": [
    "X_final=np.array(embedded_docs) # converting the embedded tweets to a numpy array.\n",
    "y_final=np.array(y) # converting the labels to a numpy array."
   ]
  },
  {
   "cell_type": "code",
   "execution_count": 33,
   "metadata": {
    "colab": {
     "base_uri": "https://localhost:8080/"
    },
    "id": "dkXwahBeL_dt",
    "outputId": "4b61014d-32c7-4623-afcd-08ac7a092678"
   },
   "outputs": [
    {
     "name": "stderr",
     "output_type": "stream",
     "text": [
      "/usr/local/lib/python3.10/dist-packages/ipykernel/ipkernel.py:283: DeprecationWarning: `should_run_async` will not call `transform_cell` automatically in the future. Please pass the result to `transformed_cell` argument and any exception that happen during thetransform in `preprocessing_exc_tuple` in IPython 7.17 and above.\n",
      "  and should_run_async(code)\n"
     ]
    },
    {
     "data": {
      "text/plain": [
       "((352, 63), (352,))"
      ]
     },
     "execution_count": 33,
     "metadata": {},
     "output_type": "execute_result"
    }
   ],
   "source": [
    "X_final.shape,y_final.shape"
   ]
  },
  {
   "cell_type": "code",
   "execution_count": 34,
   "metadata": {
    "colab": {
     "base_uri": "https://localhost:8080/"
    },
    "id": "Y3Vim67wMCPV",
    "outputId": "8b7fe108-5e5a-4adf-dcb4-c982c15baeca"
   },
   "outputs": [
    {
     "name": "stderr",
     "output_type": "stream",
     "text": [
      "/usr/local/lib/python3.10/dist-packages/ipykernel/ipkernel.py:283: DeprecationWarning: `should_run_async` will not call `transform_cell` automatically in the future. Please pass the result to `transformed_cell` argument and any exception that happen during thetransform in `preprocessing_exc_tuple` in IPython 7.17 and above.\n",
      "  and should_run_async(code)\n"
     ]
    }
   ],
   "source": [
    "from sklearn.model_selection import train_test_split # importing the train_test_split function from scikit-learn.\n",
    "X_train, X_test, y_train, y_test = train_test_split(X_final, y_final, test_size=0.33, random_state=42)"
   ]
  },
  {
   "cell_type": "code",
   "execution_count": 35,
   "metadata": {
    "colab": {
     "base_uri": "https://localhost:8080/"
    },
    "id": "9zReF2WCMIdU",
    "outputId": "bdccd13a-4eb1-4683-81b8-afa0655a8660"
   },
   "outputs": [
    {
     "name": "stdout",
     "output_type": "stream",
     "text": [
      "X_train data type: int32\n",
      "y_train data type: object\n",
      "X_test data type: int32\n",
      "y_test data type: object\n",
      "Unique values in y_train: [0 1 2 3]\n",
      "Unique values in y_test: [0 1 2 3]\n"
     ]
    },
    {
     "name": "stderr",
     "output_type": "stream",
     "text": [
      "/usr/local/lib/python3.10/dist-packages/ipykernel/ipkernel.py:283: DeprecationWarning: `should_run_async` will not call `transform_cell` automatically in the future. Please pass the result to `transformed_cell` argument and any exception that happen during thetransform in `preprocessing_exc_tuple` in IPython 7.17 and above.\n",
      "  and should_run_async(code)\n"
     ]
    }
   ],
   "source": [
    "print(\"X_train data type:\", X_train.dtype)\n",
    "print(\"y_train data type:\", y_train.dtype)\n",
    "print(\"X_test data type:\", X_test.dtype)\n",
    "print(\"y_test data type:\", y_test.dtype)\n",
    "\n",
    "print(\"Unique values in y_train:\", np.unique(y_train))\n",
    "print(\"Unique values in y_test:\", np.unique(y_test))"
   ]
  },
  {
   "cell_type": "code",
   "execution_count": 36,
   "metadata": {
    "colab": {
     "base_uri": "https://localhost:8080/"
    },
    "id": "b5poTFNdMMHF",
    "outputId": "2ea8fa7d-ddec-471c-dfc7-e8e02b21363d"
   },
   "outputs": [
    {
     "name": "stderr",
     "output_type": "stream",
     "text": [
      "/usr/local/lib/python3.10/dist-packages/ipykernel/ipkernel.py:283: DeprecationWarning: `should_run_async` will not call `transform_cell` automatically in the future. Please pass the result to `transformed_cell` argument and any exception that happen during thetransform in `preprocessing_exc_tuple` in IPython 7.17 and above.\n",
      "  and should_run_async(code)\n"
     ]
    }
   ],
   "source": [
    "from sklearn.preprocessing import LabelEncoder # importing the LabelEncoder class from scikit-learn.\n",
    "le = LabelEncoder() # creating an instance of the LabelEncoder class.\n",
    "y_train = le.fit_transform(y_train) # fitting the LabelEncoder to the training labels and transforming them.\n",
    "y_test = le.transform(y_test)"
   ]
  },
  {
   "cell_type": "code",
   "execution_count": 41,
   "metadata": {
    "colab": {
     "base_uri": "https://localhost:8080/"
    },
    "id": "CYNeRWTwOOKZ",
    "outputId": "258cb61d-ec96-4dd6-86b7-b18b67e5509d"
   },
   "outputs": [
    {
     "name": "stderr",
     "output_type": "stream",
     "text": [
      "/usr/local/lib/python3.10/dist-packages/ipykernel/ipkernel.py:283: DeprecationWarning: `should_run_async` will not call `transform_cell` automatically in the future. Please pass the result to `transformed_cell` argument and any exception that happen during thetransform in `preprocessing_exc_tuple` in IPython 7.17 and above.\n",
      "  and should_run_async(code)\n"
     ]
    }
   ],
   "source": [
    "from keras.utils import to_categorical\n",
    "\n",
    "y_train = to_categorical(y_train, num_classes=4)\n",
    "y_test = to_categorical(y_test, num_classes=4)"
   ]
  },
  {
   "cell_type": "code",
   "execution_count": 65,
   "metadata": {
    "colab": {
     "base_uri": "https://localhost:8080/"
    },
    "id": "c_p8LAtKMSIM",
    "outputId": "c141ca7b-f44b-45f9-8e7f-10b60f29ea10"
   },
   "outputs": [
    {
     "name": "stderr",
     "output_type": "stream",
     "text": [
      "/usr/local/lib/python3.10/dist-packages/ipykernel/ipkernel.py:283: DeprecationWarning: `should_run_async` will not call `transform_cell` automatically in the future. Please pass the result to `transformed_cell` argument and any exception that happen during thetransform in `preprocessing_exc_tuple` in IPython 7.17 and above.\n",
      "  and should_run_async(code)\n"
     ]
    },
    {
     "name": "stdout",
     "output_type": "stream",
     "text": [
      "Model: \"sequential_8\"\n",
      "_________________________________________________________________\n",
      " Layer (type)                Output Shape              Param #   \n",
      "=================================================================\n",
      " embedding_8 (Embedding)     (None, 63, 20)            10000     \n",
      "                                                                 \n",
      " lstm_8 (LSTM)               (None, 100)               48400     \n",
      "                                                                 \n",
      " dense_8 (Dense)             (None, 4)                 404       \n",
      "                                                                 \n",
      "=================================================================\n",
      "Total params: 58804 (229.70 KB)\n",
      "Trainable params: 58804 (229.70 KB)\n",
      "Non-trainable params: 0 (0.00 Byte)\n",
      "_________________________________________________________________\n",
      "None\n"
     ]
    }
   ],
   "source": [
    "## Creating model\n",
    "embedding_vector_features=20 # setting the embedding vector size to 20.\n",
    "model=Sequential() # creating a sequential model.\n",
    "model.add(Embedding(voc_size,embedding_vector_features,input_length=sent_length)) # adding an embedding layer.\n",
    "model.add(LSTM(100)) # adding an LSTM layer.\n",
    "model.add(Dense(4,activation='softmax')) # adding a dense layer with sigmoid activation function.\n",
    "model.compile(loss='categorical_crossentropy',optimizer='adam',metrics=['accuracy']) # compiling the model. # Use categorical_crossentropy for multi-class classification\n",
    "print(model.summary()) # printing the model summary."
   ]
  },
  {
   "cell_type": "code",
   "execution_count": 66,
   "metadata": {
    "colab": {
     "base_uri": "https://localhost:8080/"
    },
    "id": "w9thTEBtMe-F",
    "outputId": "78f731eb-00e7-4e02-ce39-2fa9df7e0b1b"
   },
   "outputs": [
    {
     "name": "stdout",
     "output_type": "stream",
     "text": [
      "Epoch 1/50\n"
     ]
    },
    {
     "name": "stderr",
     "output_type": "stream",
     "text": [
      "/usr/local/lib/python3.10/dist-packages/ipykernel/ipkernel.py:283: DeprecationWarning: `should_run_async` will not call `transform_cell` automatically in the future. Please pass the result to `transformed_cell` argument and any exception that happen during thetransform in `preprocessing_exc_tuple` in IPython 7.17 and above.\n",
      "  and should_run_async(code)\n"
     ]
    },
    {
     "name": "stdout",
     "output_type": "stream",
     "text": [
      "3/3 [==============================] - 3s 391ms/step - loss: 1.3839 - accuracy: 0.2851 - val_loss: 1.3852 - val_accuracy: 0.2821\n",
      "Epoch 2/50\n",
      "3/3 [==============================] - 0s 109ms/step - loss: 1.3763 - accuracy: 0.3362 - val_loss: 1.3818 - val_accuracy: 0.2821\n",
      "Epoch 3/50\n",
      "3/3 [==============================] - 0s 98ms/step - loss: 1.3662 - accuracy: 0.3362 - val_loss: 1.3794 - val_accuracy: 0.2821\n",
      "Epoch 4/50\n",
      "3/3 [==============================] - 0s 102ms/step - loss: 1.3547 - accuracy: 0.3362 - val_loss: 1.3835 - val_accuracy: 0.2821\n",
      "Epoch 5/50\n",
      "3/3 [==============================] - 0s 104ms/step - loss: 1.3473 - accuracy: 0.3362 - val_loss: 1.4030 - val_accuracy: 0.2821\n",
      "Epoch 6/50\n",
      "3/3 [==============================] - 0s 108ms/step - loss: 1.3392 - accuracy: 0.3362 - val_loss: 1.3821 - val_accuracy: 0.2821\n",
      "Epoch 7/50\n",
      "3/3 [==============================] - 0s 100ms/step - loss: 1.3353 - accuracy: 0.3362 - val_loss: 1.3771 - val_accuracy: 0.2821\n",
      "Epoch 8/50\n",
      "3/3 [==============================] - 0s 99ms/step - loss: 1.3333 - accuracy: 0.3362 - val_loss: 1.3748 - val_accuracy: 0.2821\n",
      "Epoch 9/50\n",
      "3/3 [==============================] - 0s 109ms/step - loss: 1.3288 - accuracy: 0.3362 - val_loss: 1.3728 - val_accuracy: 0.2821\n",
      "Epoch 10/50\n",
      "3/3 [==============================] - 0s 112ms/step - loss: 1.3212 - accuracy: 0.3362 - val_loss: 1.3736 - val_accuracy: 0.2821\n",
      "Epoch 11/50\n",
      "3/3 [==============================] - 0s 107ms/step - loss: 1.3156 - accuracy: 0.3362 - val_loss: 1.3807 - val_accuracy: 0.2821\n",
      "Epoch 12/50\n",
      "3/3 [==============================] - 0s 111ms/step - loss: 1.3040 - accuracy: 0.3362 - val_loss: 1.3760 - val_accuracy: 0.2821\n",
      "Epoch 13/50\n",
      "3/3 [==============================] - 0s 111ms/step - loss: 1.2919 - accuracy: 0.3532 - val_loss: 1.3639 - val_accuracy: 0.3077\n",
      "Epoch 14/50\n",
      "3/3 [==============================] - 0s 112ms/step - loss: 1.2800 - accuracy: 0.4000 - val_loss: 1.3598 - val_accuracy: 0.3333\n",
      "Epoch 15/50\n",
      "3/3 [==============================] - 0s 101ms/step - loss: 1.2658 - accuracy: 0.4170 - val_loss: 1.3574 - val_accuracy: 0.3419\n",
      "Epoch 16/50\n",
      "3/3 [==============================] - 0s 110ms/step - loss: 1.2461 - accuracy: 0.4383 - val_loss: 1.3585 - val_accuracy: 0.3162\n",
      "Epoch 17/50\n",
      "3/3 [==============================] - 0s 102ms/step - loss: 1.2277 - accuracy: 0.4426 - val_loss: 1.3617 - val_accuracy: 0.3333\n",
      "Epoch 18/50\n",
      "3/3 [==============================] - 0s 100ms/step - loss: 1.1981 - accuracy: 0.4383 - val_loss: 1.3618 - val_accuracy: 0.3077\n",
      "Epoch 19/50\n",
      "3/3 [==============================] - 0s 106ms/step - loss: 1.1720 - accuracy: 0.4085 - val_loss: 1.3248 - val_accuracy: 0.3675\n",
      "Epoch 20/50\n",
      "3/3 [==============================] - 0s 107ms/step - loss: 1.1418 - accuracy: 0.5064 - val_loss: 1.3088 - val_accuracy: 0.4274\n",
      "Epoch 21/50\n",
      "3/3 [==============================] - 0s 136ms/step - loss: 1.1190 - accuracy: 0.6213 - val_loss: 1.3039 - val_accuracy: 0.4444\n",
      "Epoch 22/50\n",
      "3/3 [==============================] - 1s 216ms/step - loss: 1.0898 - accuracy: 0.5489 - val_loss: 1.3049 - val_accuracy: 0.4103\n",
      "Epoch 23/50\n",
      "3/3 [==============================] - 0s 100ms/step - loss: 1.0484 - accuracy: 0.5957 - val_loss: 1.2932 - val_accuracy: 0.4274\n",
      "Epoch 24/50\n",
      "3/3 [==============================] - 0s 108ms/step - loss: 1.0160 - accuracy: 0.5957 - val_loss: 1.3030 - val_accuracy: 0.4103\n",
      "Epoch 25/50\n",
      "3/3 [==============================] - 0s 197ms/step - loss: 0.9739 - accuracy: 0.6043 - val_loss: 1.2921 - val_accuracy: 0.4530\n",
      "Epoch 26/50\n",
      "3/3 [==============================] - 1s 210ms/step - loss: 0.9500 - accuracy: 0.6043 - val_loss: 1.3009 - val_accuracy: 0.4530\n",
      "Epoch 27/50\n",
      "3/3 [==============================] - 1s 212ms/step - loss: 0.9086 - accuracy: 0.6468 - val_loss: 1.2894 - val_accuracy: 0.4444\n",
      "Epoch 28/50\n",
      "3/3 [==============================] - 1s 181ms/step - loss: 0.8633 - accuracy: 0.6468 - val_loss: 1.3165 - val_accuracy: 0.4530\n",
      "Epoch 29/50\n",
      "3/3 [==============================] - 1s 199ms/step - loss: 0.8447 - accuracy: 0.6298 - val_loss: 1.3266 - val_accuracy: 0.4444\n",
      "Epoch 30/50\n",
      "3/3 [==============================] - 1s 168ms/step - loss: 0.8112 - accuracy: 0.7064 - val_loss: 1.2961 - val_accuracy: 0.4786\n",
      "Epoch 31/50\n",
      "3/3 [==============================] - 0s 102ms/step - loss: 0.7997 - accuracy: 0.7234 - val_loss: 1.3075 - val_accuracy: 0.4786\n",
      "Epoch 32/50\n",
      "3/3 [==============================] - 0s 102ms/step - loss: 0.7757 - accuracy: 0.7234 - val_loss: 1.3634 - val_accuracy: 0.4786\n",
      "Epoch 33/50\n",
      "3/3 [==============================] - 0s 106ms/step - loss: 0.7388 - accuracy: 0.7106 - val_loss: 1.4679 - val_accuracy: 0.4872\n",
      "Epoch 34/50\n",
      "3/3 [==============================] - 0s 101ms/step - loss: 0.7137 - accuracy: 0.6979 - val_loss: 1.4254 - val_accuracy: 0.4872\n",
      "Epoch 35/50\n",
      "3/3 [==============================] - 0s 101ms/step - loss: 0.6811 - accuracy: 0.7447 - val_loss: 1.4594 - val_accuracy: 0.5214\n",
      "Epoch 36/50\n",
      "3/3 [==============================] - 0s 109ms/step - loss: 0.6498 - accuracy: 0.7702 - val_loss: 1.5444 - val_accuracy: 0.5043\n",
      "Epoch 37/50\n",
      "3/3 [==============================] - 0s 111ms/step - loss: 0.7291 - accuracy: 0.7489 - val_loss: 1.4234 - val_accuracy: 0.5043\n",
      "Epoch 38/50\n",
      "3/3 [==============================] - 0s 98ms/step - loss: 0.7283 - accuracy: 0.7617 - val_loss: 1.3581 - val_accuracy: 0.4359\n",
      "Epoch 39/50\n",
      "3/3 [==============================] - 0s 99ms/step - loss: 0.6775 - accuracy: 0.7787 - val_loss: 1.3197 - val_accuracy: 0.4188\n",
      "Epoch 40/50\n",
      "3/3 [==============================] - 0s 112ms/step - loss: 0.6349 - accuracy: 0.8085 - val_loss: 1.2881 - val_accuracy: 0.4957\n",
      "Epoch 41/50\n",
      "3/3 [==============================] - 0s 103ms/step - loss: 0.5990 - accuracy: 0.8596 - val_loss: 1.3049 - val_accuracy: 0.5556\n",
      "Epoch 42/50\n",
      "3/3 [==============================] - 0s 100ms/step - loss: 0.5926 - accuracy: 0.8340 - val_loss: 1.3128 - val_accuracy: 0.4786\n",
      "Epoch 43/50\n",
      "3/3 [==============================] - 0s 109ms/step - loss: 0.5617 - accuracy: 0.7915 - val_loss: 1.2642 - val_accuracy: 0.5385\n",
      "Epoch 44/50\n",
      "3/3 [==============================] - 0s 112ms/step - loss: 0.5466 - accuracy: 0.8596 - val_loss: 1.2586 - val_accuracy: 0.5556\n",
      "Epoch 45/50\n",
      "3/3 [==============================] - 0s 113ms/step - loss: 0.5209 - accuracy: 0.8468 - val_loss: 1.3501 - val_accuracy: 0.4957\n",
      "Epoch 46/50\n",
      "3/3 [==============================] - 0s 107ms/step - loss: 0.4794 - accuracy: 0.8596 - val_loss: 1.3466 - val_accuracy: 0.5385\n",
      "Epoch 47/50\n",
      "3/3 [==============================] - 0s 102ms/step - loss: 0.4619 - accuracy: 0.8468 - val_loss: 1.3791 - val_accuracy: 0.4957\n",
      "Epoch 48/50\n",
      "3/3 [==============================] - 0s 102ms/step - loss: 0.4510 - accuracy: 0.8596 - val_loss: 1.3359 - val_accuracy: 0.5812\n",
      "Epoch 49/50\n",
      "3/3 [==============================] - 0s 99ms/step - loss: 0.4355 - accuracy: 0.9106 - val_loss: 1.3686 - val_accuracy: 0.5470\n",
      "Epoch 50/50\n",
      "3/3 [==============================] - 0s 101ms/step - loss: 0.4108 - accuracy: 0.8936 - val_loss: 1.4052 - val_accuracy: 0.5641\n"
     ]
    },
    {
     "data": {
      "text/plain": [
       "<keras.src.callbacks.History at 0x7f2d28627d00>"
      ]
     },
     "execution_count": 66,
     "metadata": {},
     "output_type": "execute_result"
    }
   ],
   "source": [
    "model.fit(X_train,y_train,validation_data=(X_test,y_test),epochs=50,batch_size=100)"
   ]
  },
  {
   "cell_type": "code",
   "execution_count": 67,
   "metadata": {
    "colab": {
     "base_uri": "https://localhost:8080/"
    },
    "id": "WMwwc2gLOZZL",
    "outputId": "b246dbc3-13d1-4e8e-ba2a-d008c5765372"
   },
   "outputs": [
    {
     "name": "stdout",
     "output_type": "stream",
     "text": [
      "4/4 [==============================] - 0s 17ms/step - loss: 1.4052 - accuracy: 0.5641\n",
      "Test Accuracy: 0.56\n"
     ]
    },
    {
     "name": "stderr",
     "output_type": "stream",
     "text": [
      "/usr/local/lib/python3.10/dist-packages/ipykernel/ipkernel.py:283: DeprecationWarning: `should_run_async` will not call `transform_cell` automatically in the future. Please pass the result to `transformed_cell` argument and any exception that happen during thetransform in `preprocessing_exc_tuple` in IPython 7.17 and above.\n",
      "  and should_run_async(code)\n"
     ]
    }
   ],
   "source": [
    "loss, accuracy = model.evaluate(X_test, y_test)\n",
    "print(f'Test Accuracy: {accuracy:.2f}')"
   ]
  },
  {
   "cell_type": "code",
   "execution_count": 56,
   "metadata": {
    "colab": {
     "base_uri": "https://localhost:8080/"
    },
    "id": "CgCXmKJmOvyj",
    "outputId": "995fc7c8-89a7-4f6a-f80d-e95018a7a1e7"
   },
   "outputs": [
    {
     "name": "stderr",
     "output_type": "stream",
     "text": [
      "/usr/local/lib/python3.10/dist-packages/ipykernel/ipkernel.py:283: DeprecationWarning: `should_run_async` will not call `transform_cell` automatically in the future. Please pass the result to `transformed_cell` argument and any exception that happen during thetransform in `preprocessing_exc_tuple` in IPython 7.17 and above.\n",
      "  and should_run_async(code)\n"
     ]
    }
   ],
   "source": []
  }
 ],
 "metadata": {
  "colab": {
   "provenance": []
  },
  "kernelspec": {
   "display_name": "Python 3 (ipykernel)",
   "language": "python",
   "name": "python3"
  },
  "language_info": {
   "codemirror_mode": {
    "name": "ipython",
    "version": 3
   },
   "file_extension": ".py",
   "mimetype": "text/x-python",
   "name": "python",
   "nbconvert_exporter": "python",
   "pygments_lexer": "ipython3",
   "version": "3.9.12"
  }
 },
 "nbformat": 4,
 "nbformat_minor": 1
}
